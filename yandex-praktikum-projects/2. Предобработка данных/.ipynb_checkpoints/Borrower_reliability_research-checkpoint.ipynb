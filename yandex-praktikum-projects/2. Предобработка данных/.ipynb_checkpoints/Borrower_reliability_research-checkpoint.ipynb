{
 "cells": [
  {
   "cell_type": "markdown",
   "metadata": {},
   "source": [
    "## Исследование надёжности заёмщиков\n",
    "______\n"
   ]
  },
  {
   "cell_type": "markdown",
   "metadata": {},
   "source": [
    "## 1. Первичный осмотр данных"
   ]
  },
  {
   "cell_type": "markdown",
   "metadata": {},
   "source": [
    "Импорт библиотек"
   ]
  },
  {
   "cell_type": "code",
   "execution_count": 1,
   "metadata": {},
   "outputs": [],
   "source": [
    "import pandas as pd\n",
    "import numpy as np\n",
    "from pymystem3 import Mystem\n",
    "from collections import Counter"
   ]
  },
  {
   "cell_type": "markdown",
   "metadata": {},
   "source": [
    "Чтение данных"
   ]
  },
  {
   "cell_type": "code",
   "execution_count": 2,
   "metadata": {},
   "outputs": [
    {
     "data": {
      "text/html": [
       "<div>\n",
       "<style scoped>\n",
       "    .dataframe tbody tr th:only-of-type {\n",
       "        vertical-align: middle;\n",
       "    }\n",
       "\n",
       "    .dataframe tbody tr th {\n",
       "        vertical-align: top;\n",
       "    }\n",
       "\n",
       "    .dataframe thead th {\n",
       "        text-align: right;\n",
       "    }\n",
       "</style>\n",
       "<table border=\"1\" class=\"dataframe\">\n",
       "  <thead>\n",
       "    <tr style=\"text-align: right;\">\n",
       "      <th></th>\n",
       "      <th>children</th>\n",
       "      <th>days_employed</th>\n",
       "      <th>dob_years</th>\n",
       "      <th>education</th>\n",
       "      <th>education_id</th>\n",
       "      <th>family_status</th>\n",
       "      <th>family_status_id</th>\n",
       "      <th>gender</th>\n",
       "      <th>income_type</th>\n",
       "      <th>debt</th>\n",
       "      <th>total_income</th>\n",
       "      <th>purpose</th>\n",
       "    </tr>\n",
       "  </thead>\n",
       "  <tbody>\n",
       "    <tr>\n",
       "      <td>0</td>\n",
       "      <td>1</td>\n",
       "      <td>-8437.673028</td>\n",
       "      <td>42</td>\n",
       "      <td>высшее</td>\n",
       "      <td>0</td>\n",
       "      <td>женат / замужем</td>\n",
       "      <td>0</td>\n",
       "      <td>F</td>\n",
       "      <td>сотрудник</td>\n",
       "      <td>0</td>\n",
       "      <td>253875.639453</td>\n",
       "      <td>покупка жилья</td>\n",
       "    </tr>\n",
       "    <tr>\n",
       "      <td>1</td>\n",
       "      <td>1</td>\n",
       "      <td>-4024.803754</td>\n",
       "      <td>36</td>\n",
       "      <td>среднее</td>\n",
       "      <td>1</td>\n",
       "      <td>женат / замужем</td>\n",
       "      <td>0</td>\n",
       "      <td>F</td>\n",
       "      <td>сотрудник</td>\n",
       "      <td>0</td>\n",
       "      <td>112080.014102</td>\n",
       "      <td>приобретение автомобиля</td>\n",
       "    </tr>\n",
       "    <tr>\n",
       "      <td>2</td>\n",
       "      <td>0</td>\n",
       "      <td>-5623.422610</td>\n",
       "      <td>33</td>\n",
       "      <td>Среднее</td>\n",
       "      <td>1</td>\n",
       "      <td>женат / замужем</td>\n",
       "      <td>0</td>\n",
       "      <td>M</td>\n",
       "      <td>сотрудник</td>\n",
       "      <td>0</td>\n",
       "      <td>145885.952297</td>\n",
       "      <td>покупка жилья</td>\n",
       "    </tr>\n",
       "    <tr>\n",
       "      <td>3</td>\n",
       "      <td>3</td>\n",
       "      <td>-4124.747207</td>\n",
       "      <td>32</td>\n",
       "      <td>среднее</td>\n",
       "      <td>1</td>\n",
       "      <td>женат / замужем</td>\n",
       "      <td>0</td>\n",
       "      <td>M</td>\n",
       "      <td>сотрудник</td>\n",
       "      <td>0</td>\n",
       "      <td>267628.550329</td>\n",
       "      <td>дополнительное образование</td>\n",
       "    </tr>\n",
       "    <tr>\n",
       "      <td>4</td>\n",
       "      <td>0</td>\n",
       "      <td>340266.072047</td>\n",
       "      <td>53</td>\n",
       "      <td>среднее</td>\n",
       "      <td>1</td>\n",
       "      <td>гражданский брак</td>\n",
       "      <td>1</td>\n",
       "      <td>F</td>\n",
       "      <td>пенсионер</td>\n",
       "      <td>0</td>\n",
       "      <td>158616.077870</td>\n",
       "      <td>сыграть свадьбу</td>\n",
       "    </tr>\n",
       "  </tbody>\n",
       "</table>\n",
       "</div>"
      ],
      "text/plain": [
       "   children  days_employed  dob_years education  education_id  \\\n",
       "0         1   -8437.673028         42    высшее             0   \n",
       "1         1   -4024.803754         36   среднее             1   \n",
       "2         0   -5623.422610         33   Среднее             1   \n",
       "3         3   -4124.747207         32   среднее             1   \n",
       "4         0  340266.072047         53   среднее             1   \n",
       "\n",
       "      family_status  family_status_id gender income_type  debt   total_income  \\\n",
       "0   женат / замужем                 0      F   сотрудник     0  253875.639453   \n",
       "1   женат / замужем                 0      F   сотрудник     0  112080.014102   \n",
       "2   женат / замужем                 0      M   сотрудник     0  145885.952297   \n",
       "3   женат / замужем                 0      M   сотрудник     0  267628.550329   \n",
       "4  гражданский брак                 1      F   пенсионер     0  158616.077870   \n",
       "\n",
       "                      purpose  \n",
       "0               покупка жилья  \n",
       "1     приобретение автомобиля  \n",
       "2               покупка жилья  \n",
       "3  дополнительное образование  \n",
       "4             сыграть свадьбу  "
      ]
     },
     "execution_count": 2,
     "metadata": {},
     "output_type": "execute_result"
    }
   ],
   "source": [
    "df = pd.read_csv('\\datasets\\data.csv')\n",
    "df.head()"
   ]
  },
  {
   "cell_type": "code",
   "execution_count": 3,
   "metadata": {
    "scrolled": true
   },
   "outputs": [
    {
     "data": {
      "text/html": [
       "<div>\n",
       "<style scoped>\n",
       "    .dataframe tbody tr th:only-of-type {\n",
       "        vertical-align: middle;\n",
       "    }\n",
       "\n",
       "    .dataframe tbody tr th {\n",
       "        vertical-align: top;\n",
       "    }\n",
       "\n",
       "    .dataframe thead th {\n",
       "        text-align: right;\n",
       "    }\n",
       "</style>\n",
       "<table border=\"1\" class=\"dataframe\">\n",
       "  <thead>\n",
       "    <tr style=\"text-align: right;\">\n",
       "      <th></th>\n",
       "      <th>children</th>\n",
       "      <th>days_employed</th>\n",
       "      <th>dob_years</th>\n",
       "      <th>education</th>\n",
       "      <th>education_id</th>\n",
       "      <th>family_status</th>\n",
       "      <th>family_status_id</th>\n",
       "      <th>gender</th>\n",
       "      <th>income_type</th>\n",
       "      <th>debt</th>\n",
       "      <th>total_income</th>\n",
       "      <th>purpose</th>\n",
       "    </tr>\n",
       "  </thead>\n",
       "  <tbody>\n",
       "    <tr>\n",
       "      <td>1547</td>\n",
       "      <td>2</td>\n",
       "      <td>-425.307026</td>\n",
       "      <td>35</td>\n",
       "      <td>среднее</td>\n",
       "      <td>1</td>\n",
       "      <td>женат / замужем</td>\n",
       "      <td>0</td>\n",
       "      <td>M</td>\n",
       "      <td>сотрудник</td>\n",
       "      <td>0</td>\n",
       "      <td>188979.043870</td>\n",
       "      <td>получение образования</td>\n",
       "    </tr>\n",
       "    <tr>\n",
       "      <td>510</td>\n",
       "      <td>1</td>\n",
       "      <td>-744.016267</td>\n",
       "      <td>23</td>\n",
       "      <td>СРЕДНЕЕ</td>\n",
       "      <td>1</td>\n",
       "      <td>гражданский брак</td>\n",
       "      <td>1</td>\n",
       "      <td>M</td>\n",
       "      <td>сотрудник</td>\n",
       "      <td>1</td>\n",
       "      <td>148479.460700</td>\n",
       "      <td>операции с коммерческой недвижимостью</td>\n",
       "    </tr>\n",
       "    <tr>\n",
       "      <td>20442</td>\n",
       "      <td>0</td>\n",
       "      <td>NaN</td>\n",
       "      <td>25</td>\n",
       "      <td>высшее</td>\n",
       "      <td>0</td>\n",
       "      <td>женат / замужем</td>\n",
       "      <td>0</td>\n",
       "      <td>F</td>\n",
       "      <td>сотрудник</td>\n",
       "      <td>0</td>\n",
       "      <td>NaN</td>\n",
       "      <td>покупка жилья</td>\n",
       "    </tr>\n",
       "    <tr>\n",
       "      <td>13246</td>\n",
       "      <td>0</td>\n",
       "      <td>-356.848785</td>\n",
       "      <td>52</td>\n",
       "      <td>среднее</td>\n",
       "      <td>1</td>\n",
       "      <td>вдовец / вдова</td>\n",
       "      <td>2</td>\n",
       "      <td>F</td>\n",
       "      <td>сотрудник</td>\n",
       "      <td>0</td>\n",
       "      <td>110987.432513</td>\n",
       "      <td>операции с коммерческой недвижимостью</td>\n",
       "    </tr>\n",
       "    <tr>\n",
       "      <td>8496</td>\n",
       "      <td>0</td>\n",
       "      <td>-1157.558992</td>\n",
       "      <td>22</td>\n",
       "      <td>среднее</td>\n",
       "      <td>1</td>\n",
       "      <td>женат / замужем</td>\n",
       "      <td>0</td>\n",
       "      <td>F</td>\n",
       "      <td>сотрудник</td>\n",
       "      <td>0</td>\n",
       "      <td>146769.807594</td>\n",
       "      <td>приобретение автомобиля</td>\n",
       "    </tr>\n",
       "    <tr>\n",
       "      <td>16641</td>\n",
       "      <td>0</td>\n",
       "      <td>-700.877911</td>\n",
       "      <td>36</td>\n",
       "      <td>среднее</td>\n",
       "      <td>1</td>\n",
       "      <td>женат / замужем</td>\n",
       "      <td>0</td>\n",
       "      <td>M</td>\n",
       "      <td>сотрудник</td>\n",
       "      <td>0</td>\n",
       "      <td>95944.211513</td>\n",
       "      <td>свой автомобиль</td>\n",
       "    </tr>\n",
       "    <tr>\n",
       "      <td>4116</td>\n",
       "      <td>1</td>\n",
       "      <td>-413.093126</td>\n",
       "      <td>42</td>\n",
       "      <td>среднее</td>\n",
       "      <td>1</td>\n",
       "      <td>вдовец / вдова</td>\n",
       "      <td>2</td>\n",
       "      <td>F</td>\n",
       "      <td>сотрудник</td>\n",
       "      <td>0</td>\n",
       "      <td>86720.231405</td>\n",
       "      <td>строительство недвижимости</td>\n",
       "    </tr>\n",
       "    <tr>\n",
       "      <td>13563</td>\n",
       "      <td>1</td>\n",
       "      <td>-2437.954349</td>\n",
       "      <td>31</td>\n",
       "      <td>высшее</td>\n",
       "      <td>0</td>\n",
       "      <td>женат / замужем</td>\n",
       "      <td>0</td>\n",
       "      <td>F</td>\n",
       "      <td>сотрудник</td>\n",
       "      <td>0</td>\n",
       "      <td>347427.250146</td>\n",
       "      <td>дополнительное образование</td>\n",
       "    </tr>\n",
       "    <tr>\n",
       "      <td>17621</td>\n",
       "      <td>0</td>\n",
       "      <td>NaN</td>\n",
       "      <td>41</td>\n",
       "      <td>высшее</td>\n",
       "      <td>0</td>\n",
       "      <td>гражданский брак</td>\n",
       "      <td>1</td>\n",
       "      <td>M</td>\n",
       "      <td>компаньон</td>\n",
       "      <td>0</td>\n",
       "      <td>NaN</td>\n",
       "      <td>свадьба</td>\n",
       "    </tr>\n",
       "    <tr>\n",
       "      <td>435</td>\n",
       "      <td>0</td>\n",
       "      <td>-3782.222880</td>\n",
       "      <td>60</td>\n",
       "      <td>среднее</td>\n",
       "      <td>1</td>\n",
       "      <td>женат / замужем</td>\n",
       "      <td>0</td>\n",
       "      <td>M</td>\n",
       "      <td>компаньон</td>\n",
       "      <td>0</td>\n",
       "      <td>237845.393549</td>\n",
       "      <td>на покупку подержанного автомобиля</td>\n",
       "    </tr>\n",
       "    <tr>\n",
       "      <td>12513</td>\n",
       "      <td>1</td>\n",
       "      <td>-1874.546554</td>\n",
       "      <td>45</td>\n",
       "      <td>Среднее</td>\n",
       "      <td>1</td>\n",
       "      <td>женат / замужем</td>\n",
       "      <td>0</td>\n",
       "      <td>F</td>\n",
       "      <td>сотрудник</td>\n",
       "      <td>0</td>\n",
       "      <td>136502.918140</td>\n",
       "      <td>строительство жилой недвижимости</td>\n",
       "    </tr>\n",
       "    <tr>\n",
       "      <td>13392</td>\n",
       "      <td>0</td>\n",
       "      <td>-5319.384994</td>\n",
       "      <td>65</td>\n",
       "      <td>среднее</td>\n",
       "      <td>1</td>\n",
       "      <td>женат / замужем</td>\n",
       "      <td>0</td>\n",
       "      <td>M</td>\n",
       "      <td>сотрудник</td>\n",
       "      <td>1</td>\n",
       "      <td>179415.483227</td>\n",
       "      <td>автомобили</td>\n",
       "    </tr>\n",
       "    <tr>\n",
       "      <td>1568</td>\n",
       "      <td>1</td>\n",
       "      <td>NaN</td>\n",
       "      <td>36</td>\n",
       "      <td>высшее</td>\n",
       "      <td>0</td>\n",
       "      <td>женат / замужем</td>\n",
       "      <td>0</td>\n",
       "      <td>F</td>\n",
       "      <td>сотрудник</td>\n",
       "      <td>0</td>\n",
       "      <td>NaN</td>\n",
       "      <td>операции с коммерческой недвижимостью</td>\n",
       "    </tr>\n",
       "    <tr>\n",
       "      <td>8825</td>\n",
       "      <td>0</td>\n",
       "      <td>362023.980028</td>\n",
       "      <td>62</td>\n",
       "      <td>среднее</td>\n",
       "      <td>1</td>\n",
       "      <td>женат / замужем</td>\n",
       "      <td>0</td>\n",
       "      <td>M</td>\n",
       "      <td>пенсионер</td>\n",
       "      <td>0</td>\n",
       "      <td>205117.998816</td>\n",
       "      <td>недвижимость</td>\n",
       "    </tr>\n",
       "    <tr>\n",
       "      <td>9893</td>\n",
       "      <td>2</td>\n",
       "      <td>-3336.911681</td>\n",
       "      <td>36</td>\n",
       "      <td>высшее</td>\n",
       "      <td>0</td>\n",
       "      <td>женат / замужем</td>\n",
       "      <td>0</td>\n",
       "      <td>M</td>\n",
       "      <td>компаньон</td>\n",
       "      <td>0</td>\n",
       "      <td>590384.731823</td>\n",
       "      <td>высшее образование</td>\n",
       "    </tr>\n",
       "    <tr>\n",
       "      <td>10329</td>\n",
       "      <td>0</td>\n",
       "      <td>-1625.622942</td>\n",
       "      <td>48</td>\n",
       "      <td>среднее</td>\n",
       "      <td>1</td>\n",
       "      <td>женат / замужем</td>\n",
       "      <td>0</td>\n",
       "      <td>M</td>\n",
       "      <td>компаньон</td>\n",
       "      <td>0</td>\n",
       "      <td>281578.850768</td>\n",
       "      <td>недвижимость</td>\n",
       "    </tr>\n",
       "    <tr>\n",
       "      <td>20676</td>\n",
       "      <td>0</td>\n",
       "      <td>NaN</td>\n",
       "      <td>49</td>\n",
       "      <td>высшее</td>\n",
       "      <td>0</td>\n",
       "      <td>гражданский брак</td>\n",
       "      <td>1</td>\n",
       "      <td>F</td>\n",
       "      <td>компаньон</td>\n",
       "      <td>0</td>\n",
       "      <td>NaN</td>\n",
       "      <td>сыграть свадьбу</td>\n",
       "    </tr>\n",
       "    <tr>\n",
       "      <td>17436</td>\n",
       "      <td>0</td>\n",
       "      <td>380438.151563</td>\n",
       "      <td>67</td>\n",
       "      <td>среднее</td>\n",
       "      <td>1</td>\n",
       "      <td>Не женат / не замужем</td>\n",
       "      <td>4</td>\n",
       "      <td>F</td>\n",
       "      <td>пенсионер</td>\n",
       "      <td>0</td>\n",
       "      <td>140250.905484</td>\n",
       "      <td>приобретение автомобиля</td>\n",
       "    </tr>\n",
       "    <tr>\n",
       "      <td>17505</td>\n",
       "      <td>0</td>\n",
       "      <td>-2194.814342</td>\n",
       "      <td>56</td>\n",
       "      <td>среднее</td>\n",
       "      <td>1</td>\n",
       "      <td>женат / замужем</td>\n",
       "      <td>0</td>\n",
       "      <td>F</td>\n",
       "      <td>компаньон</td>\n",
       "      <td>1</td>\n",
       "      <td>161805.633847</td>\n",
       "      <td>покупка жилой недвижимости</td>\n",
       "    </tr>\n",
       "    <tr>\n",
       "      <td>8059</td>\n",
       "      <td>0</td>\n",
       "      <td>347364.674015</td>\n",
       "      <td>53</td>\n",
       "      <td>среднее</td>\n",
       "      <td>1</td>\n",
       "      <td>Не женат / не замужем</td>\n",
       "      <td>4</td>\n",
       "      <td>F</td>\n",
       "      <td>пенсионер</td>\n",
       "      <td>0</td>\n",
       "      <td>86492.746797</td>\n",
       "      <td>приобретение автомобиля</td>\n",
       "    </tr>\n",
       "  </tbody>\n",
       "</table>\n",
       "</div>"
      ],
      "text/plain": [
       "       children  days_employed  dob_years education  education_id  \\\n",
       "1547          2    -425.307026         35   среднее             1   \n",
       "510           1    -744.016267         23   СРЕДНЕЕ             1   \n",
       "20442         0            NaN         25    высшее             0   \n",
       "13246         0    -356.848785         52   среднее             1   \n",
       "8496          0   -1157.558992         22   среднее             1   \n",
       "16641         0    -700.877911         36   среднее             1   \n",
       "4116          1    -413.093126         42   среднее             1   \n",
       "13563         1   -2437.954349         31    высшее             0   \n",
       "17621         0            NaN         41    высшее             0   \n",
       "435           0   -3782.222880         60   среднее             1   \n",
       "12513         1   -1874.546554         45   Среднее             1   \n",
       "13392         0   -5319.384994         65   среднее             1   \n",
       "1568          1            NaN         36    высшее             0   \n",
       "8825          0  362023.980028         62   среднее             1   \n",
       "9893          2   -3336.911681         36    высшее             0   \n",
       "10329         0   -1625.622942         48   среднее             1   \n",
       "20676         0            NaN         49    высшее             0   \n",
       "17436         0  380438.151563         67   среднее             1   \n",
       "17505         0   -2194.814342         56   среднее             1   \n",
       "8059          0  347364.674015         53   среднее             1   \n",
       "\n",
       "               family_status  family_status_id gender income_type  debt  \\\n",
       "1547         женат / замужем                 0      M   сотрудник     0   \n",
       "510         гражданский брак                 1      M   сотрудник     1   \n",
       "20442        женат / замужем                 0      F   сотрудник     0   \n",
       "13246         вдовец / вдова                 2      F   сотрудник     0   \n",
       "8496         женат / замужем                 0      F   сотрудник     0   \n",
       "16641        женат / замужем                 0      M   сотрудник     0   \n",
       "4116          вдовец / вдова                 2      F   сотрудник     0   \n",
       "13563        женат / замужем                 0      F   сотрудник     0   \n",
       "17621       гражданский брак                 1      M   компаньон     0   \n",
       "435          женат / замужем                 0      M   компаньон     0   \n",
       "12513        женат / замужем                 0      F   сотрудник     0   \n",
       "13392        женат / замужем                 0      M   сотрудник     1   \n",
       "1568         женат / замужем                 0      F   сотрудник     0   \n",
       "8825         женат / замужем                 0      M   пенсионер     0   \n",
       "9893         женат / замужем                 0      M   компаньон     0   \n",
       "10329        женат / замужем                 0      M   компаньон     0   \n",
       "20676       гражданский брак                 1      F   компаньон     0   \n",
       "17436  Не женат / не замужем                 4      F   пенсионер     0   \n",
       "17505        женат / замужем                 0      F   компаньон     1   \n",
       "8059   Не женат / не замужем                 4      F   пенсионер     0   \n",
       "\n",
       "        total_income                                purpose  \n",
       "1547   188979.043870                  получение образования  \n",
       "510    148479.460700  операции с коммерческой недвижимостью  \n",
       "20442            NaN                          покупка жилья  \n",
       "13246  110987.432513  операции с коммерческой недвижимостью  \n",
       "8496   146769.807594                приобретение автомобиля  \n",
       "16641   95944.211513                        свой автомобиль  \n",
       "4116    86720.231405             строительство недвижимости  \n",
       "13563  347427.250146             дополнительное образование  \n",
       "17621            NaN                                свадьба  \n",
       "435    237845.393549     на покупку подержанного автомобиля  \n",
       "12513  136502.918140       строительство жилой недвижимости  \n",
       "13392  179415.483227                             автомобили  \n",
       "1568             NaN  операции с коммерческой недвижимостью  \n",
       "8825   205117.998816                           недвижимость  \n",
       "9893   590384.731823                     высшее образование  \n",
       "10329  281578.850768                           недвижимость  \n",
       "20676            NaN                        сыграть свадьбу  \n",
       "17436  140250.905484                приобретение автомобиля  \n",
       "17505  161805.633847             покупка жилой недвижимости  \n",
       "8059    86492.746797                приобретение автомобиля  "
      ]
     },
     "execution_count": 3,
     "metadata": {},
     "output_type": "execute_result"
    }
   ],
   "source": [
    "df.sample(20)"
   ]
  },
  {
   "cell_type": "code",
   "execution_count": 4,
   "metadata": {},
   "outputs": [
    {
     "data": {
      "text/plain": [
       "(21525, 12)"
      ]
     },
     "execution_count": 4,
     "metadata": {},
     "output_type": "execute_result"
    }
   ],
   "source": [
    "df.shape"
   ]
  },
  {
   "cell_type": "code",
   "execution_count": 5,
   "metadata": {
    "scrolled": false
   },
   "outputs": [
    {
     "name": "stdout",
     "output_type": "stream",
     "text": [
      "<class 'pandas.core.frame.DataFrame'>\n",
      "RangeIndex: 21525 entries, 0 to 21524\n",
      "Data columns (total 12 columns):\n",
      "children            21525 non-null int64\n",
      "days_employed       19351 non-null float64\n",
      "dob_years           21525 non-null int64\n",
      "education           21525 non-null object\n",
      "education_id        21525 non-null int64\n",
      "family_status       21525 non-null object\n",
      "family_status_id    21525 non-null int64\n",
      "gender              21525 non-null object\n",
      "income_type         21525 non-null object\n",
      "debt                21525 non-null int64\n",
      "total_income        19351 non-null float64\n",
      "purpose             21525 non-null object\n",
      "dtypes: float64(2), int64(5), object(5)\n",
      "memory usage: 2.0+ MB\n"
     ]
    }
   ],
   "source": [
    "df.info()"
   ]
  },
  {
   "cell_type": "code",
   "execution_count": 6,
   "metadata": {
    "scrolled": false
   },
   "outputs": [
    {
     "data": {
      "text/html": [
       "<div>\n",
       "<style scoped>\n",
       "    .dataframe tbody tr th:only-of-type {\n",
       "        vertical-align: middle;\n",
       "    }\n",
       "\n",
       "    .dataframe tbody tr th {\n",
       "        vertical-align: top;\n",
       "    }\n",
       "\n",
       "    .dataframe thead th {\n",
       "        text-align: right;\n",
       "    }\n",
       "</style>\n",
       "<table border=\"1\" class=\"dataframe\">\n",
       "  <thead>\n",
       "    <tr style=\"text-align: right;\">\n",
       "      <th></th>\n",
       "      <th>children</th>\n",
       "      <th>days_employed</th>\n",
       "      <th>dob_years</th>\n",
       "      <th>education_id</th>\n",
       "      <th>family_status_id</th>\n",
       "      <th>debt</th>\n",
       "      <th>total_income</th>\n",
       "    </tr>\n",
       "  </thead>\n",
       "  <tbody>\n",
       "    <tr>\n",
       "      <td>count</td>\n",
       "      <td>21525.000000</td>\n",
       "      <td>19351.000000</td>\n",
       "      <td>21525.000000</td>\n",
       "      <td>21525.000000</td>\n",
       "      <td>21525.000000</td>\n",
       "      <td>21525.000000</td>\n",
       "      <td>1.935100e+04</td>\n",
       "    </tr>\n",
       "    <tr>\n",
       "      <td>mean</td>\n",
       "      <td>0.538908</td>\n",
       "      <td>63046.497661</td>\n",
       "      <td>43.293380</td>\n",
       "      <td>0.817236</td>\n",
       "      <td>0.972544</td>\n",
       "      <td>0.080883</td>\n",
       "      <td>1.674223e+05</td>\n",
       "    </tr>\n",
       "    <tr>\n",
       "      <td>std</td>\n",
       "      <td>1.381587</td>\n",
       "      <td>140827.311974</td>\n",
       "      <td>12.574584</td>\n",
       "      <td>0.548138</td>\n",
       "      <td>1.420324</td>\n",
       "      <td>0.272661</td>\n",
       "      <td>1.029716e+05</td>\n",
       "    </tr>\n",
       "    <tr>\n",
       "      <td>min</td>\n",
       "      <td>-1.000000</td>\n",
       "      <td>-18388.949901</td>\n",
       "      <td>0.000000</td>\n",
       "      <td>0.000000</td>\n",
       "      <td>0.000000</td>\n",
       "      <td>0.000000</td>\n",
       "      <td>2.066726e+04</td>\n",
       "    </tr>\n",
       "    <tr>\n",
       "      <td>25%</td>\n",
       "      <td>0.000000</td>\n",
       "      <td>-2747.423625</td>\n",
       "      <td>33.000000</td>\n",
       "      <td>1.000000</td>\n",
       "      <td>0.000000</td>\n",
       "      <td>0.000000</td>\n",
       "      <td>1.030532e+05</td>\n",
       "    </tr>\n",
       "    <tr>\n",
       "      <td>50%</td>\n",
       "      <td>0.000000</td>\n",
       "      <td>-1203.369529</td>\n",
       "      <td>42.000000</td>\n",
       "      <td>1.000000</td>\n",
       "      <td>0.000000</td>\n",
       "      <td>0.000000</td>\n",
       "      <td>1.450179e+05</td>\n",
       "    </tr>\n",
       "    <tr>\n",
       "      <td>75%</td>\n",
       "      <td>1.000000</td>\n",
       "      <td>-291.095954</td>\n",
       "      <td>53.000000</td>\n",
       "      <td>1.000000</td>\n",
       "      <td>1.000000</td>\n",
       "      <td>0.000000</td>\n",
       "      <td>2.034351e+05</td>\n",
       "    </tr>\n",
       "    <tr>\n",
       "      <td>max</td>\n",
       "      <td>20.000000</td>\n",
       "      <td>401755.400475</td>\n",
       "      <td>75.000000</td>\n",
       "      <td>4.000000</td>\n",
       "      <td>4.000000</td>\n",
       "      <td>1.000000</td>\n",
       "      <td>2.265604e+06</td>\n",
       "    </tr>\n",
       "  </tbody>\n",
       "</table>\n",
       "</div>"
      ],
      "text/plain": [
       "           children  days_employed     dob_years  education_id  \\\n",
       "count  21525.000000   19351.000000  21525.000000  21525.000000   \n",
       "mean       0.538908   63046.497661     43.293380      0.817236   \n",
       "std        1.381587  140827.311974     12.574584      0.548138   \n",
       "min       -1.000000  -18388.949901      0.000000      0.000000   \n",
       "25%        0.000000   -2747.423625     33.000000      1.000000   \n",
       "50%        0.000000   -1203.369529     42.000000      1.000000   \n",
       "75%        1.000000    -291.095954     53.000000      1.000000   \n",
       "max       20.000000  401755.400475     75.000000      4.000000   \n",
       "\n",
       "       family_status_id          debt  total_income  \n",
       "count      21525.000000  21525.000000  1.935100e+04  \n",
       "mean           0.972544      0.080883  1.674223e+05  \n",
       "std            1.420324      0.272661  1.029716e+05  \n",
       "min            0.000000      0.000000  2.066726e+04  \n",
       "25%            0.000000      0.000000  1.030532e+05  \n",
       "50%            0.000000      0.000000  1.450179e+05  \n",
       "75%            1.000000      0.000000  2.034351e+05  \n",
       "max            4.000000      1.000000  2.265604e+06  "
      ]
     },
     "execution_count": 6,
     "metadata": {},
     "output_type": "execute_result"
    }
   ],
   "source": [
    "df.describe()"
   ]
  },
  {
   "cell_type": "markdown",
   "metadata": {},
   "source": [
    "**Первичные выводы:**\n",
    "1. В данных присутствуют пропуски. Замечены в `days_employed`, `total_income`;\n",
    "2. `days_employed` в float64. Пересчитать в дни и перевести в int64.\n",
    "3. `total_income`. Много знаков после запятой. Принято хранить 4 знака. \n",
    "4. `days_employed` min и 3 квантили < 0. Без отрицательных дней на работе жизнь идёт вроде)\n",
    "5. `children` min = -1. И смеяться, и плакать хочется...\n",
    "А вот от max в 20 детей уже страшно))\n",
    "6. `dob_years` min = 0. Новорождённых заёмщиков у банка нет бывает вроде.\n",
    "7. Значения столбца `education` имеют разные регистры.\n",
    "8. `education` ~ `education_id`, `family_status` ~ `family_status_id`. Дубликаты одной сущности.  \n",
    "***\n",
    "* * *"
   ]
  },
  {
   "cell_type": "markdown",
   "metadata": {},
   "source": [
    "## 2. Предобработка данных\n",
    "- Определить и заполнить пропуски\n",
    "- Изменить типы данных\n",
    "- Очистить от дубликатов\n",
    "- Выделить леммы\n",
    "- Категоризировать данные"
   ]
  },
  {
   "cell_type": "code",
   "execution_count": 7,
   "metadata": {},
   "outputs": [
    {
     "data": {
      "text/plain": [
       "Index(['children_number', 'days_employed', 'client_age', 'education_level',\n",
       "       'education_level_id', 'family_status', 'family_status_id', 'gender',\n",
       "       'employment_type', 'loan_repayment_status', 'monthly_income',\n",
       "       'loan_purpose'],\n",
       "      dtype='object')"
      ]
     },
     "execution_count": 7,
     "metadata": {},
     "output_type": "execute_result"
    }
   ],
   "source": [
    "# Переименую столбцы.\n",
    "new_columns = [\n",
    "    'children_number',\n",
    "    'days_employed',\n",
    "    'client_age',\n",
    "    'education_level',\n",
    "    'education_level_id',\n",
    "    'family_status',\n",
    "    'family_status_id',\n",
    "    'gender',\n",
    "    'employment_type',\n",
    "    'loan_repayment_status',\n",
    "    'monthly_income',\n",
    "    'loan_purpose'\n",
    "]\n",
    "df.set_axis(new_columns, axis=\"columns\", inplace=True)\n",
    "df.columns"
   ]
  },
  {
   "cell_type": "code",
   "execution_count": 8,
   "metadata": {},
   "outputs": [
    {
     "data": {
      "text/plain": [
       "children_number             0\n",
       "days_employed            2174\n",
       "client_age                  0\n",
       "education_level             0\n",
       "education_level_id          0\n",
       "family_status               0\n",
       "family_status_id            0\n",
       "gender                      0\n",
       "employment_type             0\n",
       "loan_repayment_status       0\n",
       "monthly_income           2174\n",
       "loan_purpose                0\n",
       "dtype: int64"
      ]
     },
     "execution_count": 8,
     "metadata": {},
     "output_type": "execute_result"
    }
   ],
   "source": [
    "# Посчёт пропусков.\n",
    "df.isnull().sum()"
   ]
  },
  {
   "cell_type": "markdown",
   "metadata": {},
   "source": [
    "Значения столбцов `days_employed`, `monthly_income` имеют одиннаковое число пропусков => пропуски одной природы. \n",
    "Вспоминая про min(`client_age`) = 0, предположим, что эти пропуски соответствуют категории людей без офицального трудоустройста в силу возраста."
   ]
  },
  {
   "cell_type": "code",
   "execution_count": 9,
   "metadata": {
    "scrolled": true
   },
   "outputs": [
    {
     "data": {
      "text/plain": [
       "среднее                13750\n",
       "высшее                  4718\n",
       "СРЕДНЕЕ                  772\n",
       "Среднее                  711\n",
       "неоконченное высшее      668\n",
       "ВЫСШЕЕ                   274\n",
       "Высшее                   268\n",
       "начальное                250\n",
       "Неоконченное высшее       47\n",
       "НЕОКОНЧЕННОЕ ВЫСШЕЕ       29\n",
       "НАЧАЛЬНОЕ                 17\n",
       "Начальное                 15\n",
       "ученая степень             4\n",
       "УЧЕНАЯ СТЕПЕНЬ             1\n",
       "Ученая степень             1\n",
       "Name: education_level, dtype: int64"
      ]
     },
     "execution_count": 9,
     "metadata": {},
     "output_type": "execute_result"
    }
   ],
   "source": [
    "df['education_level'].value_counts()"
   ]
  },
  {
   "cell_type": "markdown",
   "metadata": {},
   "source": [
    "Видим данные по людям с начальным образованием. Их 282 человека. \n",
    "Кредит людям на уровне школы нужен не так часта да и эта категория людей мало интересна нам с данном исследовании, т.к. мало подходит для вопросов заданных заказчиком.  \n",
    "Выдвинем другое предположение:  \n",
    "Доминирующее число потенциальных заёмщиков имеют среднее образование. Люди со средним образованием чаще устроены на неофицальную работу, чем люди с высшим образованием, как минимум в силу их количества. А подсчитанная группа с начальным образованием более предрасположена к неофицальной работе, чем к офицальной.  \n",
    "Считаем заполнение 0 в таком случае максимально безобидным. (Опять же для вопросов исследования)"
   ]
  },
  {
   "cell_type": "code",
   "execution_count": 10,
   "metadata": {
    "scrolled": false
   },
   "outputs": [
    {
     "data": {
      "text/plain": [
       "children_number          0\n",
       "days_employed            0\n",
       "client_age               0\n",
       "education_level          0\n",
       "education_level_id       0\n",
       "family_status            0\n",
       "family_status_id         0\n",
       "gender                   0\n",
       "employment_type          0\n",
       "loan_repayment_status    0\n",
       "monthly_income           0\n",
       "loan_purpose             0\n",
       "dtype: int64"
      ]
     },
     "execution_count": 10,
     "metadata": {},
     "output_type": "execute_result"
    }
   ],
   "source": [
    "df['days_employed'] = df['days_employed'].fillna(0)\n",
    "df['monthly_income'] = df['monthly_income'].fillna(0)\n",
    "\n",
    "df.isnull().sum()"
   ]
  },
  {
   "cell_type": "markdown",
   "metadata": {},
   "source": [
    "____\n",
    "В первичных выводах заметно, что недочёты в данных вылазят в различных столбцах. Пробежимся по каждому, исправим, что подметили сначала и то, что могли не заметить."
   ]
  },
  {
   "cell_type": "markdown",
   "metadata": {},
   "source": [
    "**`children_number`**"
   ]
  },
  {
   "cell_type": "code",
   "execution_count": 11,
   "metadata": {
    "scrolled": true
   },
   "outputs": [
    {
     "data": {
      "text/plain": [
       " 0     14149\n",
       " 1      4818\n",
       " 2      2055\n",
       " 3       330\n",
       " 20       76\n",
       "-1        47\n",
       " 4        41\n",
       " 5         9\n",
       "Name: children_number, dtype: int64"
      ]
     },
     "execution_count": 11,
     "metadata": {},
     "output_type": "execute_result"
    }
   ],
   "source": [
    "df['children_number'].value_counts()"
   ]
  },
  {
   "cell_type": "markdown",
   "metadata": {},
   "source": [
    "Явно выделяются значения {-1, 20}. Рассмотрим каждое из них."
   ]
  },
  {
   "cell_type": "code",
   "execution_count": 12,
   "metadata": {},
   "outputs": [],
   "source": [
    "children_group_1 = df[df['children_number']==-1]\n",
    "children_group_2 = df[df['children_number']==20]"
   ]
  },
  {
   "cell_type": "code",
   "execution_count": 13,
   "metadata": {},
   "outputs": [
    {
     "data": {
      "text/html": [
       "<div>\n",
       "<style scoped>\n",
       "    .dataframe tbody tr th:only-of-type {\n",
       "        vertical-align: middle;\n",
       "    }\n",
       "\n",
       "    .dataframe tbody tr th {\n",
       "        vertical-align: top;\n",
       "    }\n",
       "\n",
       "    .dataframe thead th {\n",
       "        text-align: right;\n",
       "    }\n",
       "</style>\n",
       "<table border=\"1\" class=\"dataframe\">\n",
       "  <thead>\n",
       "    <tr style=\"text-align: right;\">\n",
       "      <th></th>\n",
       "      <th>children_number</th>\n",
       "      <th>days_employed</th>\n",
       "      <th>client_age</th>\n",
       "      <th>education_level_id</th>\n",
       "      <th>family_status_id</th>\n",
       "      <th>loan_repayment_status</th>\n",
       "      <th>monthly_income</th>\n",
       "    </tr>\n",
       "  </thead>\n",
       "  <tbody>\n",
       "    <tr>\n",
       "      <td>count</td>\n",
       "      <td>47.0</td>\n",
       "      <td>47.000000</td>\n",
       "      <td>47.000000</td>\n",
       "      <td>47.000000</td>\n",
       "      <td>47.000000</td>\n",
       "      <td>47.000000</td>\n",
       "      <td>47.000000</td>\n",
       "    </tr>\n",
       "    <tr>\n",
       "      <td>mean</td>\n",
       "      <td>-1.0</td>\n",
       "      <td>51502.033774</td>\n",
       "      <td>42.574468</td>\n",
       "      <td>0.829787</td>\n",
       "      <td>0.957447</td>\n",
       "      <td>0.021277</td>\n",
       "      <td>144042.124409</td>\n",
       "    </tr>\n",
       "    <tr>\n",
       "      <td>std</td>\n",
       "      <td>0.0</td>\n",
       "      <td>130054.203808</td>\n",
       "      <td>11.357328</td>\n",
       "      <td>0.433346</td>\n",
       "      <td>1.428856</td>\n",
       "      <td>0.145865</td>\n",
       "      <td>77215.777282</td>\n",
       "    </tr>\n",
       "    <tr>\n",
       "      <td>min</td>\n",
       "      <td>-1.0</td>\n",
       "      <td>-9851.184337</td>\n",
       "      <td>23.000000</td>\n",
       "      <td>0.000000</td>\n",
       "      <td>0.000000</td>\n",
       "      <td>0.000000</td>\n",
       "      <td>0.000000</td>\n",
       "    </tr>\n",
       "    <tr>\n",
       "      <td>25%</td>\n",
       "      <td>-1.0</td>\n",
       "      <td>-2970.960064</td>\n",
       "      <td>33.500000</td>\n",
       "      <td>1.000000</td>\n",
       "      <td>0.000000</td>\n",
       "      <td>0.000000</td>\n",
       "      <td>105968.957713</td>\n",
       "    </tr>\n",
       "    <tr>\n",
       "      <td>50%</td>\n",
       "      <td>-1.0</td>\n",
       "      <td>-1195.264956</td>\n",
       "      <td>41.000000</td>\n",
       "      <td>1.000000</td>\n",
       "      <td>0.000000</td>\n",
       "      <td>0.000000</td>\n",
       "      <td>138809.082930</td>\n",
       "    </tr>\n",
       "    <tr>\n",
       "      <td>75%</td>\n",
       "      <td>-1.0</td>\n",
       "      <td>-319.582084</td>\n",
       "      <td>50.500000</td>\n",
       "      <td>1.000000</td>\n",
       "      <td>2.000000</td>\n",
       "      <td>0.000000</td>\n",
       "      <td>170162.421662</td>\n",
       "    </tr>\n",
       "    <tr>\n",
       "      <td>max</td>\n",
       "      <td>-1.0</td>\n",
       "      <td>398001.302888</td>\n",
       "      <td>69.000000</td>\n",
       "      <td>2.000000</td>\n",
       "      <td>4.000000</td>\n",
       "      <td>1.000000</td>\n",
       "      <td>321603.700207</td>\n",
       "    </tr>\n",
       "  </tbody>\n",
       "</table>\n",
       "</div>"
      ],
      "text/plain": [
       "       children_number  days_employed  client_age  education_level_id  \\\n",
       "count             47.0      47.000000   47.000000           47.000000   \n",
       "mean              -1.0   51502.033774   42.574468            0.829787   \n",
       "std                0.0  130054.203808   11.357328            0.433346   \n",
       "min               -1.0   -9851.184337   23.000000            0.000000   \n",
       "25%               -1.0   -2970.960064   33.500000            1.000000   \n",
       "50%               -1.0   -1195.264956   41.000000            1.000000   \n",
       "75%               -1.0    -319.582084   50.500000            1.000000   \n",
       "max               -1.0  398001.302888   69.000000            2.000000   \n",
       "\n",
       "       family_status_id  loan_repayment_status  monthly_income  \n",
       "count         47.000000              47.000000       47.000000  \n",
       "mean           0.957447               0.021277   144042.124409  \n",
       "std            1.428856               0.145865    77215.777282  \n",
       "min            0.000000               0.000000        0.000000  \n",
       "25%            0.000000               0.000000   105968.957713  \n",
       "50%            0.000000               0.000000   138809.082930  \n",
       "75%            2.000000               0.000000   170162.421662  \n",
       "max            4.000000               1.000000   321603.700207  "
      ]
     },
     "execution_count": 13,
     "metadata": {},
     "output_type": "execute_result"
    }
   ],
   "source": [
    "children_group_1.describe()"
   ]
  },
  {
   "cell_type": "code",
   "execution_count": 14,
   "metadata": {
    "scrolled": false
   },
   "outputs": [
    {
     "data": {
      "text/html": [
       "<div>\n",
       "<style scoped>\n",
       "    .dataframe tbody tr th:only-of-type {\n",
       "        vertical-align: middle;\n",
       "    }\n",
       "\n",
       "    .dataframe tbody tr th {\n",
       "        vertical-align: top;\n",
       "    }\n",
       "\n",
       "    .dataframe thead th {\n",
       "        text-align: right;\n",
       "    }\n",
       "</style>\n",
       "<table border=\"1\" class=\"dataframe\">\n",
       "  <thead>\n",
       "    <tr style=\"text-align: right;\">\n",
       "      <th></th>\n",
       "      <th>children_number</th>\n",
       "      <th>days_employed</th>\n",
       "      <th>client_age</th>\n",
       "      <th>education_level_id</th>\n",
       "      <th>family_status_id</th>\n",
       "      <th>loan_repayment_status</th>\n",
       "      <th>monthly_income</th>\n",
       "    </tr>\n",
       "  </thead>\n",
       "  <tbody>\n",
       "    <tr>\n",
       "      <td>count</td>\n",
       "      <td>76.0</td>\n",
       "      <td>76.000000</td>\n",
       "      <td>76.000000</td>\n",
       "      <td>76.000000</td>\n",
       "      <td>76.000000</td>\n",
       "      <td>76.000000</td>\n",
       "      <td>76.000000</td>\n",
       "    </tr>\n",
       "    <tr>\n",
       "      <td>mean</td>\n",
       "      <td>20.0</td>\n",
       "      <td>31542.485681</td>\n",
       "      <td>41.815789</td>\n",
       "      <td>0.842105</td>\n",
       "      <td>0.815789</td>\n",
       "      <td>0.105263</td>\n",
       "      <td>148740.463869</td>\n",
       "    </tr>\n",
       "    <tr>\n",
       "      <td>std</td>\n",
       "      <td>0.0</td>\n",
       "      <td>105715.567259</td>\n",
       "      <td>12.065058</td>\n",
       "      <td>0.433671</td>\n",
       "      <td>1.363432</td>\n",
       "      <td>0.308931</td>\n",
       "      <td>93616.406029</td>\n",
       "    </tr>\n",
       "    <tr>\n",
       "      <td>min</td>\n",
       "      <td>20.0</td>\n",
       "      <td>-11937.171389</td>\n",
       "      <td>0.000000</td>\n",
       "      <td>0.000000</td>\n",
       "      <td>0.000000</td>\n",
       "      <td>0.000000</td>\n",
       "      <td>0.000000</td>\n",
       "    </tr>\n",
       "    <tr>\n",
       "      <td>25%</td>\n",
       "      <td>20.0</td>\n",
       "      <td>-2383.652717</td>\n",
       "      <td>33.750000</td>\n",
       "      <td>1.000000</td>\n",
       "      <td>0.000000</td>\n",
       "      <td>0.000000</td>\n",
       "      <td>94325.622621</td>\n",
       "    </tr>\n",
       "    <tr>\n",
       "      <td>50%</td>\n",
       "      <td>20.0</td>\n",
       "      <td>-867.908312</td>\n",
       "      <td>41.500000</td>\n",
       "      <td>1.000000</td>\n",
       "      <td>0.000000</td>\n",
       "      <td>0.000000</td>\n",
       "      <td>137889.864522</td>\n",
       "    </tr>\n",
       "    <tr>\n",
       "      <td>75%</td>\n",
       "      <td>20.0</td>\n",
       "      <td>-184.885692</td>\n",
       "      <td>50.000000</td>\n",
       "      <td>1.000000</td>\n",
       "      <td>1.000000</td>\n",
       "      <td>0.000000</td>\n",
       "      <td>203490.401462</td>\n",
       "    </tr>\n",
       "    <tr>\n",
       "      <td>max</td>\n",
       "      <td>20.0</td>\n",
       "      <td>385267.263676</td>\n",
       "      <td>69.000000</td>\n",
       "      <td>2.000000</td>\n",
       "      <td>4.000000</td>\n",
       "      <td>1.000000</td>\n",
       "      <td>441721.334145</td>\n",
       "    </tr>\n",
       "  </tbody>\n",
       "</table>\n",
       "</div>"
      ],
      "text/plain": [
       "       children_number  days_employed  client_age  education_level_id  \\\n",
       "count             76.0      76.000000   76.000000           76.000000   \n",
       "mean              20.0   31542.485681   41.815789            0.842105   \n",
       "std                0.0  105715.567259   12.065058            0.433671   \n",
       "min               20.0  -11937.171389    0.000000            0.000000   \n",
       "25%               20.0   -2383.652717   33.750000            1.000000   \n",
       "50%               20.0    -867.908312   41.500000            1.000000   \n",
       "75%               20.0    -184.885692   50.000000            1.000000   \n",
       "max               20.0  385267.263676   69.000000            2.000000   \n",
       "\n",
       "       family_status_id  loan_repayment_status  monthly_income  \n",
       "count         76.000000              76.000000       76.000000  \n",
       "mean           0.815789               0.105263   148740.463869  \n",
       "std            1.363432               0.308931    93616.406029  \n",
       "min            0.000000               0.000000        0.000000  \n",
       "25%            0.000000               0.000000    94325.622621  \n",
       "50%            0.000000               0.000000   137889.864522  \n",
       "75%            1.000000               0.000000   203490.401462  \n",
       "max            4.000000               1.000000   441721.334145  "
      ]
     },
     "execution_count": 14,
     "metadata": {},
     "output_type": "execute_result"
    }
   ],
   "source": [
    "children_group_2.describe()"
   ]
  },
  {
   "cell_type": "markdown",
   "metadata": {},
   "source": [
    "Для обеих групп хватает данных касательно возрастов клиентов, чтобы заключить, что значения {-1, 20} являются скорее опечатками и ошибками в данных, чем реальностью. \n",
    "Например: средний возраст \"многодетной\" группы 41,82. Мало для таких достижений)"
   ]
  },
  {
   "cell_type": "code",
   "execution_count": 15,
   "metadata": {},
   "outputs": [
    {
     "data": {
      "text/plain": [
       "array([1, 0, 3, 2, 4, 5], dtype=int64)"
      ]
     },
     "execution_count": 15,
     "metadata": {},
     "output_type": "execute_result"
    }
   ],
   "source": [
    "# Исправляем значения {-1, 20}.\n",
    "df['children_number'] = df['children_number'].replace(-1, 1)\n",
    "df['children_number'] = df['children_number'].replace(20, 2)\n",
    "\n",
    "df['children_number'].unique()"
   ]
  },
  {
   "cell_type": "markdown",
   "metadata": {},
   "source": [
    "**`days_employed`**"
   ]
  },
  {
   "cell_type": "code",
   "execution_count": 16,
   "metadata": {
    "scrolled": true
   },
   "outputs": [
    {
     "data": {
      "text/plain": [
       "20786       219\n",
       "4679       4668\n",
       "21388       441\n",
       "2311     398277\n",
       "10291       716\n",
       "5360       3240\n",
       "2872       1919\n",
       "4450       4243\n",
       "13898    340038\n",
       "2959        369\n",
       "Name: days_employed, dtype: int32"
      ]
     },
     "execution_count": 16,
     "metadata": {},
     "output_type": "execute_result"
    }
   ],
   "source": [
    "# Сделаем `days_employed` положительными и переведём в int64.\n",
    "df['days_employed'] = df['days_employed'].abs().astype('int')\n",
    "\n",
    "df['days_employed'].sample(10)"
   ]
  },
  {
   "cell_type": "code",
   "execution_count": 17,
   "metadata": {},
   "outputs": [
    {
     "data": {
      "text/plain": [
       "0         2174\n",
       "133         16\n",
       "327         16\n",
       "438         15\n",
       "223         14\n",
       "          ... \n",
       "350691       1\n",
       "329638       1\n",
       "346609       1\n",
       "360739       1\n",
       "6219         1\n",
       "Name: days_employed, Length: 9087, dtype: int64"
      ]
     },
     "execution_count": 17,
     "metadata": {},
     "output_type": "execute_result"
    }
   ],
   "source": [
    "df['days_employed'].value_counts()"
   ]
  },
  {
   "cell_type": "markdown",
   "metadata": {},
   "source": [
    "**`client_age`**  "
   ]
  },
  {
   "cell_type": "markdown",
   "metadata": {},
   "source": [
    "Помнится тут были несовершеннолетние клиенты и минимум в нуле.\n",
    "Выделим всех несовершеннолетних отдельно."
   ]
  },
  {
   "cell_type": "code",
   "execution_count": 18,
   "metadata": {
    "scrolled": true
   },
   "outputs": [
    {
     "name": "stdout",
     "output_type": "stream",
     "text": [
      "Количество несовершеннолетних: 101\n"
     ]
    },
    {
     "data": {
      "text/html": [
       "<div>\n",
       "<style scoped>\n",
       "    .dataframe tbody tr th:only-of-type {\n",
       "        vertical-align: middle;\n",
       "    }\n",
       "\n",
       "    .dataframe tbody tr th {\n",
       "        vertical-align: top;\n",
       "    }\n",
       "\n",
       "    .dataframe thead th {\n",
       "        text-align: right;\n",
       "    }\n",
       "</style>\n",
       "<table border=\"1\" class=\"dataframe\">\n",
       "  <thead>\n",
       "    <tr style=\"text-align: right;\">\n",
       "      <th></th>\n",
       "      <th>children_number</th>\n",
       "      <th>days_employed</th>\n",
       "      <th>client_age</th>\n",
       "      <th>education_level</th>\n",
       "      <th>education_level_id</th>\n",
       "      <th>family_status</th>\n",
       "      <th>family_status_id</th>\n",
       "      <th>gender</th>\n",
       "      <th>employment_type</th>\n",
       "      <th>loan_repayment_status</th>\n",
       "      <th>monthly_income</th>\n",
       "      <th>loan_purpose</th>\n",
       "    </tr>\n",
       "  </thead>\n",
       "  <tbody>\n",
       "    <tr>\n",
       "      <td>13439</td>\n",
       "      <td>0</td>\n",
       "      <td>1036</td>\n",
       "      <td>0</td>\n",
       "      <td>среднее</td>\n",
       "      <td>1</td>\n",
       "      <td>женат / замужем</td>\n",
       "      <td>0</td>\n",
       "      <td>M</td>\n",
       "      <td>сотрудник</td>\n",
       "      <td>1</td>\n",
       "      <td>271371.522623</td>\n",
       "      <td>операции с жильем</td>\n",
       "    </tr>\n",
       "    <tr>\n",
       "      <td>19829</td>\n",
       "      <td>0</td>\n",
       "      <td>0</td>\n",
       "      <td>0</td>\n",
       "      <td>среднее</td>\n",
       "      <td>1</td>\n",
       "      <td>женат / замужем</td>\n",
       "      <td>0</td>\n",
       "      <td>F</td>\n",
       "      <td>сотрудник</td>\n",
       "      <td>0</td>\n",
       "      <td>0.000000</td>\n",
       "      <td>жилье</td>\n",
       "    </tr>\n",
       "    <tr>\n",
       "      <td>18415</td>\n",
       "      <td>0</td>\n",
       "      <td>899</td>\n",
       "      <td>0</td>\n",
       "      <td>среднее</td>\n",
       "      <td>1</td>\n",
       "      <td>гражданский брак</td>\n",
       "      <td>1</td>\n",
       "      <td>F</td>\n",
       "      <td>сотрудник</td>\n",
       "      <td>0</td>\n",
       "      <td>76376.500925</td>\n",
       "      <td>на проведение свадьбы</td>\n",
       "    </tr>\n",
       "    <tr>\n",
       "      <td>18851</td>\n",
       "      <td>0</td>\n",
       "      <td>10637</td>\n",
       "      <td>0</td>\n",
       "      <td>среднее</td>\n",
       "      <td>1</td>\n",
       "      <td>женат / замужем</td>\n",
       "      <td>0</td>\n",
       "      <td>F</td>\n",
       "      <td>госслужащий</td>\n",
       "      <td>0</td>\n",
       "      <td>136537.132625</td>\n",
       "      <td>дополнительное образование</td>\n",
       "    </tr>\n",
       "    <tr>\n",
       "      <td>10384</td>\n",
       "      <td>1</td>\n",
       "      <td>1605</td>\n",
       "      <td>0</td>\n",
       "      <td>высшее</td>\n",
       "      <td>0</td>\n",
       "      <td>женат / замужем</td>\n",
       "      <td>0</td>\n",
       "      <td>F</td>\n",
       "      <td>сотрудник</td>\n",
       "      <td>0</td>\n",
       "      <td>153478.301459</td>\n",
       "      <td>сделка с подержанным автомобилем</td>\n",
       "    </tr>\n",
       "    <tr>\n",
       "      <td>14659</td>\n",
       "      <td>0</td>\n",
       "      <td>394949</td>\n",
       "      <td>0</td>\n",
       "      <td>среднее</td>\n",
       "      <td>1</td>\n",
       "      <td>Не женат / не замужем</td>\n",
       "      <td>4</td>\n",
       "      <td>F</td>\n",
       "      <td>пенсионер</td>\n",
       "      <td>0</td>\n",
       "      <td>34974.450366</td>\n",
       "      <td>жилье</td>\n",
       "    </tr>\n",
       "    <tr>\n",
       "      <td>7073</td>\n",
       "      <td>0</td>\n",
       "      <td>1570</td>\n",
       "      <td>0</td>\n",
       "      <td>среднее</td>\n",
       "      <td>1</td>\n",
       "      <td>гражданский брак</td>\n",
       "      <td>1</td>\n",
       "      <td>F</td>\n",
       "      <td>сотрудник</td>\n",
       "      <td>0</td>\n",
       "      <td>119958.933508</td>\n",
       "      <td>на проведение свадьбы</td>\n",
       "    </tr>\n",
       "    <tr>\n",
       "      <td>10163</td>\n",
       "      <td>0</td>\n",
       "      <td>4847</td>\n",
       "      <td>0</td>\n",
       "      <td>Среднее</td>\n",
       "      <td>1</td>\n",
       "      <td>гражданский брак</td>\n",
       "      <td>1</td>\n",
       "      <td>F</td>\n",
       "      <td>госслужащий</td>\n",
       "      <td>0</td>\n",
       "      <td>97169.690307</td>\n",
       "      <td>свадьба</td>\n",
       "    </tr>\n",
       "    <tr>\n",
       "      <td>13741</td>\n",
       "      <td>0</td>\n",
       "      <td>0</td>\n",
       "      <td>0</td>\n",
       "      <td>среднее</td>\n",
       "      <td>1</td>\n",
       "      <td>гражданский брак</td>\n",
       "      <td>1</td>\n",
       "      <td>F</td>\n",
       "      <td>сотрудник</td>\n",
       "      <td>0</td>\n",
       "      <td>0.000000</td>\n",
       "      <td>на проведение свадьбы</td>\n",
       "    </tr>\n",
       "    <tr>\n",
       "      <td>19116</td>\n",
       "      <td>0</td>\n",
       "      <td>331558</td>\n",
       "      <td>0</td>\n",
       "      <td>высшее</td>\n",
       "      <td>0</td>\n",
       "      <td>женат / замужем</td>\n",
       "      <td>0</td>\n",
       "      <td>F</td>\n",
       "      <td>пенсионер</td>\n",
       "      <td>0</td>\n",
       "      <td>91791.878400</td>\n",
       "      <td>покупка коммерческой недвижимости</td>\n",
       "    </tr>\n",
       "    <tr>\n",
       "      <td>13232</td>\n",
       "      <td>0</td>\n",
       "      <td>229</td>\n",
       "      <td>0</td>\n",
       "      <td>высшее</td>\n",
       "      <td>0</td>\n",
       "      <td>женат / замужем</td>\n",
       "      <td>0</td>\n",
       "      <td>M</td>\n",
       "      <td>сотрудник</td>\n",
       "      <td>0</td>\n",
       "      <td>131782.794583</td>\n",
       "      <td>заняться образованием</td>\n",
       "    </tr>\n",
       "    <tr>\n",
       "      <td>10595</td>\n",
       "      <td>1</td>\n",
       "      <td>908</td>\n",
       "      <td>0</td>\n",
       "      <td>среднее</td>\n",
       "      <td>1</td>\n",
       "      <td>женат / замужем</td>\n",
       "      <td>0</td>\n",
       "      <td>M</td>\n",
       "      <td>сотрудник</td>\n",
       "      <td>0</td>\n",
       "      <td>158458.734055</td>\n",
       "      <td>жилье</td>\n",
       "    </tr>\n",
       "    <tr>\n",
       "      <td>9588</td>\n",
       "      <td>0</td>\n",
       "      <td>1759</td>\n",
       "      <td>0</td>\n",
       "      <td>высшее</td>\n",
       "      <td>0</td>\n",
       "      <td>гражданский брак</td>\n",
       "      <td>1</td>\n",
       "      <td>F</td>\n",
       "      <td>компаньон</td>\n",
       "      <td>0</td>\n",
       "      <td>224510.589360</td>\n",
       "      <td>строительство собственной недвижимости</td>\n",
       "    </tr>\n",
       "    <tr>\n",
       "      <td>15886</td>\n",
       "      <td>0</td>\n",
       "      <td>355843</td>\n",
       "      <td>0</td>\n",
       "      <td>среднее</td>\n",
       "      <td>1</td>\n",
       "      <td>женат / замужем</td>\n",
       "      <td>0</td>\n",
       "      <td>F</td>\n",
       "      <td>пенсионер</td>\n",
       "      <td>0</td>\n",
       "      <td>50230.794174</td>\n",
       "      <td>высшее образование</td>\n",
       "    </tr>\n",
       "    <tr>\n",
       "      <td>12297</td>\n",
       "      <td>0</td>\n",
       "      <td>1572</td>\n",
       "      <td>0</td>\n",
       "      <td>среднее</td>\n",
       "      <td>1</td>\n",
       "      <td>женат / замужем</td>\n",
       "      <td>0</td>\n",
       "      <td>F</td>\n",
       "      <td>сотрудник</td>\n",
       "      <td>0</td>\n",
       "      <td>81994.469031</td>\n",
       "      <td>получение дополнительного образования</td>\n",
       "    </tr>\n",
       "    <tr>\n",
       "      <td>4064</td>\n",
       "      <td>1</td>\n",
       "      <td>0</td>\n",
       "      <td>0</td>\n",
       "      <td>среднее</td>\n",
       "      <td>1</td>\n",
       "      <td>гражданский брак</td>\n",
       "      <td>1</td>\n",
       "      <td>M</td>\n",
       "      <td>компаньон</td>\n",
       "      <td>0</td>\n",
       "      <td>0.000000</td>\n",
       "      <td>ремонт жилью</td>\n",
       "    </tr>\n",
       "    <tr>\n",
       "      <td>578</td>\n",
       "      <td>0</td>\n",
       "      <td>397856</td>\n",
       "      <td>0</td>\n",
       "      <td>среднее</td>\n",
       "      <td>1</td>\n",
       "      <td>женат / замужем</td>\n",
       "      <td>0</td>\n",
       "      <td>F</td>\n",
       "      <td>пенсионер</td>\n",
       "      <td>0</td>\n",
       "      <td>97620.687042</td>\n",
       "      <td>строительство собственной недвижимости</td>\n",
       "    </tr>\n",
       "    <tr>\n",
       "      <td>6670</td>\n",
       "      <td>0</td>\n",
       "      <td>0</td>\n",
       "      <td>0</td>\n",
       "      <td>Высшее</td>\n",
       "      <td>0</td>\n",
       "      <td>в разводе</td>\n",
       "      <td>3</td>\n",
       "      <td>F</td>\n",
       "      <td>пенсионер</td>\n",
       "      <td>0</td>\n",
       "      <td>0.000000</td>\n",
       "      <td>покупка жилой недвижимости</td>\n",
       "    </tr>\n",
       "    <tr>\n",
       "      <td>4930</td>\n",
       "      <td>2</td>\n",
       "      <td>8035</td>\n",
       "      <td>0</td>\n",
       "      <td>высшее</td>\n",
       "      <td>0</td>\n",
       "      <td>в разводе</td>\n",
       "      <td>3</td>\n",
       "      <td>F</td>\n",
       "      <td>госслужащий</td>\n",
       "      <td>0</td>\n",
       "      <td>112661.495601</td>\n",
       "      <td>покупка жилой недвижимости</td>\n",
       "    </tr>\n",
       "    <tr>\n",
       "      <td>21313</td>\n",
       "      <td>0</td>\n",
       "      <td>1268</td>\n",
       "      <td>0</td>\n",
       "      <td>среднее</td>\n",
       "      <td>1</td>\n",
       "      <td>Не женат / не замужем</td>\n",
       "      <td>4</td>\n",
       "      <td>M</td>\n",
       "      <td>сотрудник</td>\n",
       "      <td>0</td>\n",
       "      <td>152419.184851</td>\n",
       "      <td>операции с жильем</td>\n",
       "    </tr>\n",
       "  </tbody>\n",
       "</table>\n",
       "</div>"
      ],
      "text/plain": [
       "       children_number  days_employed  client_age education_level  \\\n",
       "13439                0           1036           0         среднее   \n",
       "19829                0              0           0         среднее   \n",
       "18415                0            899           0         среднее   \n",
       "18851                0          10637           0         среднее   \n",
       "10384                1           1605           0          высшее   \n",
       "14659                0         394949           0         среднее   \n",
       "7073                 0           1570           0         среднее   \n",
       "10163                0           4847           0         Среднее   \n",
       "13741                0              0           0         среднее   \n",
       "19116                0         331558           0          высшее   \n",
       "13232                0            229           0          высшее   \n",
       "10595                1            908           0         среднее   \n",
       "9588                 0           1759           0          высшее   \n",
       "15886                0         355843           0         среднее   \n",
       "12297                0           1572           0         среднее   \n",
       "4064                 1              0           0         среднее   \n",
       "578                  0         397856           0         среднее   \n",
       "6670                 0              0           0          Высшее   \n",
       "4930                 2           8035           0          высшее   \n",
       "21313                0           1268           0         среднее   \n",
       "\n",
       "       education_level_id          family_status  family_status_id gender  \\\n",
       "13439                   1        женат / замужем                 0      M   \n",
       "19829                   1        женат / замужем                 0      F   \n",
       "18415                   1       гражданский брак                 1      F   \n",
       "18851                   1        женат / замужем                 0      F   \n",
       "10384                   0        женат / замужем                 0      F   \n",
       "14659                   1  Не женат / не замужем                 4      F   \n",
       "7073                    1       гражданский брак                 1      F   \n",
       "10163                   1       гражданский брак                 1      F   \n",
       "13741                   1       гражданский брак                 1      F   \n",
       "19116                   0        женат / замужем                 0      F   \n",
       "13232                   0        женат / замужем                 0      M   \n",
       "10595                   1        женат / замужем                 0      M   \n",
       "9588                    0       гражданский брак                 1      F   \n",
       "15886                   1        женат / замужем                 0      F   \n",
       "12297                   1        женат / замужем                 0      F   \n",
       "4064                    1       гражданский брак                 1      M   \n",
       "578                     1        женат / замужем                 0      F   \n",
       "6670                    0              в разводе                 3      F   \n",
       "4930                    0              в разводе                 3      F   \n",
       "21313                   1  Не женат / не замужем                 4      M   \n",
       "\n",
       "      employment_type  loan_repayment_status  monthly_income  \\\n",
       "13439       сотрудник                      1   271371.522623   \n",
       "19829       сотрудник                      0        0.000000   \n",
       "18415       сотрудник                      0    76376.500925   \n",
       "18851     госслужащий                      0   136537.132625   \n",
       "10384       сотрудник                      0   153478.301459   \n",
       "14659       пенсионер                      0    34974.450366   \n",
       "7073        сотрудник                      0   119958.933508   \n",
       "10163     госслужащий                      0    97169.690307   \n",
       "13741       сотрудник                      0        0.000000   \n",
       "19116       пенсионер                      0    91791.878400   \n",
       "13232       сотрудник                      0   131782.794583   \n",
       "10595       сотрудник                      0   158458.734055   \n",
       "9588        компаньон                      0   224510.589360   \n",
       "15886       пенсионер                      0    50230.794174   \n",
       "12297       сотрудник                      0    81994.469031   \n",
       "4064        компаньон                      0        0.000000   \n",
       "578         пенсионер                      0    97620.687042   \n",
       "6670        пенсионер                      0        0.000000   \n",
       "4930      госслужащий                      0   112661.495601   \n",
       "21313       сотрудник                      0   152419.184851   \n",
       "\n",
       "                                 loan_purpose  \n",
       "13439                       операции с жильем  \n",
       "19829                                   жилье  \n",
       "18415                   на проведение свадьбы  \n",
       "18851              дополнительное образование  \n",
       "10384        сделка с подержанным автомобилем  \n",
       "14659                                   жилье  \n",
       "7073                    на проведение свадьбы  \n",
       "10163                                 свадьба  \n",
       "13741                   на проведение свадьбы  \n",
       "19116       покупка коммерческой недвижимости  \n",
       "13232                   заняться образованием  \n",
       "10595                                   жилье  \n",
       "9588   строительство собственной недвижимости  \n",
       "15886                      высшее образование  \n",
       "12297   получение дополнительного образования  \n",
       "4064                             ремонт жилью  \n",
       "578    строительство собственной недвижимости  \n",
       "6670               покупка жилой недвижимости  \n",
       "4930               покупка жилой недвижимости  \n",
       "21313                       операции с жильем  "
      ]
     },
     "execution_count": 18,
     "metadata": {},
     "output_type": "execute_result"
    }
   ],
   "source": [
    "low_age_clients = df[df['client_age']<18]\n",
    "print('Количество несовершеннолетних:', \n",
    "      low_age_clients.shape[0])\n",
    "low_age_clients.sample(20)"
   ]
  },
  {
   "cell_type": "markdown",
   "metadata": {},
   "source": [
    "На основе данных столбцов `education_level`, `family_status`, `loan_purpose` делаем вывод, что это случайная ошибка в данных. \n",
    "Первая идея: заполнить данные медианой.\n",
    "* Записей всего 101 штука;\n",
    "* Цели кредита разрознены;\n",
    "* Месячный доход одного порядка чисел;\n",
    "* Зависимости от пола не видно;\n",
    "* Трудовой стаж выглядит случайным."
   ]
  },
  {
   "cell_type": "code",
   "execution_count": 19,
   "metadata": {},
   "outputs": [
    {
     "data": {
      "text/plain": [
       "True"
      ]
     },
     "execution_count": 19,
     "metadata": {},
     "output_type": "execute_result"
    }
   ],
   "source": [
    "# Заполняем медианой.\n",
    "df.loc[df['client_age']<18, 'client_age'] = df['client_age'].median()\n",
    "\n",
    "df[df['client_age']<18].empty"
   ]
  },
  {
   "cell_type": "markdown",
   "metadata": {},
   "source": [
    "**`education_level`, `education_level_id`**  "
   ]
  },
  {
   "cell_type": "code",
   "execution_count": 20,
   "metadata": {},
   "outputs": [
    {
     "name": "stdout",
     "output_type": "stream",
     "text": [
      "Уровень образования:\n",
      "\n",
      "---высшее\n",
      "---среднее\n",
      "---Среднее\n",
      "---СРЕДНЕЕ\n",
      "---ВЫСШЕЕ\n",
      "---неоконченное высшее\n",
      "---начальное\n",
      "---Высшее\n",
      "---НЕОКОНЧЕННОЕ ВЫСШЕЕ\n",
      "---Неоконченное высшее\n",
      "---НАЧАЛЬНОЕ\n",
      "---Начальное\n",
      "---Ученая степень\n",
      "---УЧЕНАЯ СТЕПЕНЬ\n",
      "---ученая степень\n",
      "---\n",
      "в количестве - \n",
      "---15\n",
      "---\n",
      "им соответствуют идентификаторы:\n",
      "---0\n",
      "---1\n",
      "---2\n",
      "---3\n",
      "---4\n",
      "---\n",
      "в количестве - \n",
      "---5\n"
     ]
    }
   ],
   "source": [
    "print('Уровень образования:\\n', *df['education_level'].unique(), \n",
    "      '\\nв количестве - ', df['education_level'].nunique(),\n",
    "      '\\nим соответствуют идентификаторы:', *df['education_level_id'].unique(),\n",
    "      '\\nв количестве - ', df['education_level_id'].nunique(), sep='\\n---')"
   ]
  },
  {
   "cell_type": "markdown",
   "metadata": {},
   "source": [
    "Исправим уровни образования клиентов:)  \n",
    "Проблема решается достаточно легко сведением к одному регистру."
   ]
  },
  {
   "cell_type": "code",
   "execution_count": 21,
   "metadata": {},
   "outputs": [
    {
     "data": {
      "text/plain": [
       "array(['высшее', 'среднее', 'неоконченное высшее', 'начальное',\n",
       "       'ученая степень'], dtype=object)"
      ]
     },
     "execution_count": 21,
     "metadata": {},
     "output_type": "execute_result"
    }
   ],
   "source": [
    "df['education_level'] = df['education_level'].str.lower()\n",
    "\n",
    "df['education_level'].unique()"
   ]
  },
  {
   "cell_type": "code",
   "execution_count": 22,
   "metadata": {},
   "outputs": [],
   "source": [
    "# Удаляем дубликаты.\n",
    "df = df.drop(columns='education_level_id')"
   ]
  },
  {
   "cell_type": "code",
   "execution_count": 23,
   "metadata": {},
   "outputs": [
    {
     "data": {
      "text/plain": [
       "(21525, 11)"
      ]
     },
     "execution_count": 23,
     "metadata": {},
     "output_type": "execute_result"
    }
   ],
   "source": [
    "df.shape"
   ]
  },
  {
   "cell_type": "markdown",
   "metadata": {},
   "source": [
    "**`family_status`, `family_status_id`**  "
   ]
  },
  {
   "cell_type": "markdown",
   "metadata": {},
   "source": [
    "После подставы в разночтении количества id и уникальных значений проверим по аналогии."
   ]
  },
  {
   "cell_type": "code",
   "execution_count": 24,
   "metadata": {},
   "outputs": [
    {
     "name": "stdout",
     "output_type": "stream",
     "text": [
      "Семейное положение:\n",
      "\n",
      "---женат / замужем\n",
      "---гражданский брак\n",
      "---вдовец / вдова\n",
      "---в разводе\n",
      "---Не женат / не замужем\n",
      "---\n",
      "в количестве - \n",
      "---5\n",
      "---\n",
      "им соответствуют идентификаторы:\n",
      "---0\n",
      "---1\n",
      "---2\n",
      "---3\n",
      "---4\n",
      "---\n",
      "в количестве - \n",
      "---5\n"
     ]
    }
   ],
   "source": [
    "print('Семейное положение:\\n', *df['family_status'].unique(), \n",
    "      '\\nв количестве - ', df['family_status'].nunique(),\n",
    "      '\\nим соответствуют идентификаторы:', *df['family_status_id'].unique(),\n",
    "      '\\nв количестве - ', df['family_status_id'].nunique(), sep='\\n---')"
   ]
  },
  {
   "cell_type": "code",
   "execution_count": 25,
   "metadata": {},
   "outputs": [
    {
     "data": {
      "text/plain": [
       "array(['женат / замужем', 'гражданский брак', 'вдовец / вдова',\n",
       "       'в разводе', 'не женат / не замужем'], dtype=object)"
      ]
     },
     "execution_count": 25,
     "metadata": {},
     "output_type": "execute_result"
    }
   ],
   "source": [
    "# Всё равно сведём к одному регистру из-за значения \"Не женат / не замужем\".\n",
    "df['family_status'] = df['family_status'].str.lower()\n",
    "\n",
    "df['family_status'].unique()"
   ]
  },
  {
   "cell_type": "markdown",
   "metadata": {},
   "source": [
    "**`gender`**  "
   ]
  },
  {
   "cell_type": "code",
   "execution_count": 26,
   "metadata": {},
   "outputs": [
    {
     "data": {
      "text/plain": [
       "F      14236\n",
       "M       7288\n",
       "XNA        1\n",
       "Name: gender, dtype: int64"
      ]
     },
     "execution_count": 26,
     "metadata": {},
     "output_type": "execute_result"
    }
   ],
   "source": [
    "df['gender'].value_counts()"
   ]
  },
  {
   "cell_type": "code",
   "execution_count": 27,
   "metadata": {},
   "outputs": [
    {
     "data": {
      "text/html": [
       "<div>\n",
       "<style scoped>\n",
       "    .dataframe tbody tr th:only-of-type {\n",
       "        vertical-align: middle;\n",
       "    }\n",
       "\n",
       "    .dataframe tbody tr th {\n",
       "        vertical-align: top;\n",
       "    }\n",
       "\n",
       "    .dataframe thead th {\n",
       "        text-align: right;\n",
       "    }\n",
       "</style>\n",
       "<table border=\"1\" class=\"dataframe\">\n",
       "  <thead>\n",
       "    <tr style=\"text-align: right;\">\n",
       "      <th></th>\n",
       "      <th>children_number</th>\n",
       "      <th>days_employed</th>\n",
       "      <th>client_age</th>\n",
       "      <th>education_level</th>\n",
       "      <th>family_status</th>\n",
       "      <th>family_status_id</th>\n",
       "      <th>gender</th>\n",
       "      <th>employment_type</th>\n",
       "      <th>loan_repayment_status</th>\n",
       "      <th>monthly_income</th>\n",
       "      <th>loan_purpose</th>\n",
       "    </tr>\n",
       "  </thead>\n",
       "  <tbody>\n",
       "    <tr>\n",
       "      <td>10701</td>\n",
       "      <td>0</td>\n",
       "      <td>2358</td>\n",
       "      <td>24.0</td>\n",
       "      <td>неоконченное высшее</td>\n",
       "      <td>гражданский брак</td>\n",
       "      <td>1</td>\n",
       "      <td>XNA</td>\n",
       "      <td>компаньон</td>\n",
       "      <td>0</td>\n",
       "      <td>203905.157261</td>\n",
       "      <td>покупка недвижимости</td>\n",
       "    </tr>\n",
       "  </tbody>\n",
       "</table>\n",
       "</div>"
      ],
      "text/plain": [
       "       children_number  days_employed  client_age      education_level  \\\n",
       "10701                0           2358        24.0  неоконченное высшее   \n",
       "\n",
       "          family_status  family_status_id gender employment_type  \\\n",
       "10701  гражданский брак                 1    XNA       компаньон   \n",
       "\n",
       "       loan_repayment_status  monthly_income          loan_purpose  \n",
       "10701                      0   203905.157261  покупка недвижимости  "
      ]
     },
     "execution_count": 27,
     "metadata": {},
     "output_type": "execute_result"
    }
   ],
   "source": [
    "# Посмотрим на эту одну запись.\n",
    "df.loc[df['gender']=='XNA']"
   ]
  },
  {
   "cell_type": "code",
   "execution_count": 28,
   "metadata": {},
   "outputs": [
    {
     "data": {
      "text/plain": [
       "array(['F', 'M'], dtype=object)"
      ]
     },
     "execution_count": 28,
     "metadata": {},
     "output_type": "execute_result"
    }
   ],
   "source": [
    "# Одна запись не стоит того, чтобы отдельный тип под неё держать.\n",
    "df = df.loc[df['gender']!='XNA']\n",
    "\n",
    "df['gender'].unique()"
   ]
  },
  {
   "cell_type": "markdown",
   "metadata": {},
   "source": [
    "**`employment_type`**"
   ]
  },
  {
   "cell_type": "code",
   "execution_count": 29,
   "metadata": {},
   "outputs": [
    {
     "data": {
      "text/plain": [
       "сотрудник          11119\n",
       "компаньон           5084\n",
       "пенсионер           3856\n",
       "госслужащий         1459\n",
       "предприниматель        2\n",
       "безработный            2\n",
       "в декрете              1\n",
       "студент                1\n",
       "Name: employment_type, dtype: int64"
      ]
     },
     "execution_count": 29,
     "metadata": {},
     "output_type": "execute_result"
    }
   ],
   "source": [
    "df['employment_type'].value_counts()"
   ]
  },
  {
   "cell_type": "code",
   "execution_count": 30,
   "metadata": {},
   "outputs": [
    {
     "data": {
      "text/plain": [
       "count         21524\n",
       "unique            8\n",
       "top       сотрудник\n",
       "freq          11119\n",
       "Name: employment_type, dtype: object"
      ]
     },
     "execution_count": 30,
     "metadata": {},
     "output_type": "execute_result"
    }
   ],
   "source": [
    "df['employment_type'].describe()"
   ]
  },
  {
   "cell_type": "markdown",
   "metadata": {},
   "source": [
    "Не видно проблем пока."
   ]
  },
  {
   "cell_type": "markdown",
   "metadata": {},
   "source": [
    "**`loan_repayment_status`**\n"
   ]
  },
  {
   "cell_type": "code",
   "execution_count": 31,
   "metadata": {},
   "outputs": [
    {
     "data": {
      "text/plain": [
       "0    19783\n",
       "1     1741\n",
       "Name: loan_repayment_status, dtype: int64"
      ]
     },
     "execution_count": 31,
     "metadata": {},
     "output_type": "execute_result"
    }
   ],
   "source": [
    "df['loan_repayment_status'].value_counts()"
   ]
  },
  {
   "cell_type": "code",
   "execution_count": 32,
   "metadata": {},
   "outputs": [
    {
     "name": "stdout",
     "output_type": "stream",
     "text": [
      "91.91%\n"
     ]
    }
   ],
   "source": [
    "total = df['loan_repayment_status'].shape[0]\n",
    "t = df[df['loan_repayment_status']==1].shape[0]\n",
    "f = df[df['loan_repayment_status']==0].shape[0]\n",
    "print('{:.2%}'.format(f / total))"
   ]
  },
  {
   "cell_type": "markdown",
   "metadata": {},
   "source": [
    "Обычный булевский столбец.  \n",
    "91,91% клиентов НЕ имел задолженностей по возврату кредитов!  \n",
    "Удивляет лично, какие ответственные клиенты... \n",
    "Либо какие страшные банки, когда им нужны свои деньги."
   ]
  },
  {
   "cell_type": "markdown",
   "metadata": {},
   "source": [
    "**`monthly_income`**"
   ]
  },
  {
   "cell_type": "code",
   "execution_count": 33,
   "metadata": {},
   "outputs": [
    {
     "data": {
      "text/plain": [
       "count    2.152400e+04\n",
       "mean     1.505104e+05\n",
       "std      1.098992e+05\n",
       "min      0.000000e+00\n",
       "25%      8.861161e+04\n",
       "50%      1.355119e+05\n",
       "75%      1.955387e+05\n",
       "max      2.265604e+06\n",
       "Name: monthly_income, dtype: float64"
      ]
     },
     "execution_count": 33,
     "metadata": {},
     "output_type": "execute_result"
    }
   ],
   "source": [
    "df['monthly_income'].describe()"
   ]
  },
  {
   "cell_type": "code",
   "execution_count": 34,
   "metadata": {},
   "outputs": [
    {
     "data": {
      "text/plain": [
       "0    253875.6395\n",
       "1    112080.0141\n",
       "2    145885.9523\n",
       "3    267628.5503\n",
       "4    158616.0779\n",
       "Name: monthly_income, dtype: float64"
      ]
     },
     "execution_count": 34,
     "metadata": {},
     "output_type": "execute_result"
    }
   ],
   "source": [
    "# Округлим денежное значение только по \"ГОСТу\" до 4 знаков.\n",
    "df['monthly_income'] = df['monthly_income'].round(4)\n",
    "\n",
    "df['monthly_income'].head()"
   ]
  },
  {
   "cell_type": "markdown",
   "metadata": {},
   "source": [
    "**`loan_purpose`**"
   ]
  },
  {
   "cell_type": "code",
   "execution_count": 35,
   "metadata": {},
   "outputs": [
    {
     "data": {
      "text/plain": [
       "array(['покупка жилья', 'приобретение автомобиля',\n",
       "       'дополнительное образование', 'сыграть свадьбу',\n",
       "       'операции с жильем', 'образование', 'на проведение свадьбы',\n",
       "       'покупка жилья для семьи', 'покупка недвижимости',\n",
       "       'покупка коммерческой недвижимости', 'покупка жилой недвижимости',\n",
       "       'строительство собственной недвижимости', 'недвижимость',\n",
       "       'строительство недвижимости', 'на покупку подержанного автомобиля',\n",
       "       'на покупку своего автомобиля',\n",
       "       'операции с коммерческой недвижимостью',\n",
       "       'строительство жилой недвижимости', 'жилье',\n",
       "       'операции со своей недвижимостью', 'автомобили',\n",
       "       'заняться образованием', 'сделка с подержанным автомобилем',\n",
       "       'получение образования', 'автомобиль', 'свадьба',\n",
       "       'получение дополнительного образования', 'покупка своего жилья',\n",
       "       'операции с недвижимостью', 'получение высшего образования',\n",
       "       'свой автомобиль', 'сделка с автомобилем',\n",
       "       'профильное образование', 'высшее образование',\n",
       "       'покупка жилья для сдачи', 'на покупку автомобиля', 'ремонт жилью',\n",
       "       'заняться высшим образованием'], dtype=object)"
      ]
     },
     "execution_count": 35,
     "metadata": {},
     "output_type": "execute_result"
    }
   ],
   "source": [
    "unique_loan_purpose = df['loan_purpose'].unique()\n",
    "unique_loan_purpose"
   ]
  },
  {
   "cell_type": "markdown",
   "metadata": {},
   "source": [
    "Нужна лемматизация."
   ]
  },
  {
   "cell_type": "code",
   "execution_count": 36,
   "metadata": {},
   "outputs": [
    {
     "data": {
      "text/plain": [
       "'покупка жилья, приобретение автомобиля, дополнительное образование, сыграть свадьбу, операции с жильем, образование, на проведение свадьбы, покупка жилья для семьи, покупка недвижимости, покупка коммерческой недвижимости, покупка жилой недвижимости, строительство собственной недвижимости, недвижимость, строительство недвижимости, на покупку подержанного автомобиля, на покупку своего автомобиля, операции с коммерческой недвижимостью, строительство жилой недвижимости, жилье, операции со своей недвижимостью, автомобили, заняться образованием, сделка с подержанным автомобилем, получение образования, автомобиль, свадьба, получение дополнительного образования, покупка своего жилья, операции с недвижимостью, получение высшего образования, свой автомобиль, сделка с автомобилем, профильное образование, высшее образование, покупка жилья для сдачи, на покупку автомобиля, ремонт жилью, заняться высшим образованием'"
      ]
     },
     "execution_count": 36,
     "metadata": {},
     "output_type": "execute_result"
    }
   ],
   "source": [
    "m = Mystem()\n",
    "# Соберём строку.\n",
    "base_string = ', '.join(unique_loan_purpose)\n",
    "base_string"
   ]
  },
  {
   "cell_type": "code",
   "execution_count": 37,
   "metadata": {},
   "outputs": [],
   "source": [
    "lemmas = m.lemmatize(base_string)\n",
    "counted_lemmas = Counter(lemmas)"
   ]
  },
  {
   "cell_type": "code",
   "execution_count": 38,
   "metadata": {
    "scrolled": true
   },
   "outputs": [
    {
     "data": {
      "text/plain": [
       "[(' ', 59),\n",
       " (', ', 37),\n",
       " ('покупка', 10),\n",
       " ('недвижимость', 10),\n",
       " ('образование', 9),\n",
       " ('автомобиль', 9),\n",
       " ('жилье', 7),\n",
       " ('с', 5),\n",
       " ('свой', 4),\n",
       " ('операция', 4),\n",
       " ('на', 4),\n",
       " ('строительство', 3),\n",
       " ('свадьба', 3),\n",
       " ('получение', 3),\n",
       " ('высокий', 3),\n",
       " ('сделка', 2),\n",
       " ('подержать', 2),\n",
       " ('коммерческий', 2),\n",
       " ('заниматься', 2),\n",
       " ('жилой', 2),\n",
       " ('дополнительный', 2),\n",
       " ('для', 2),\n",
       " ('сыграть', 1),\n",
       " ('собственный', 1),\n",
       " ('со', 1),\n",
       " ('семья', 1),\n",
       " ('сдача', 1),\n",
       " ('ремонт', 1),\n",
       " ('профильный', 1),\n",
       " ('проведение', 1),\n",
       " ('приобретение', 1),\n",
       " ('\\n', 1)]"
      ]
     },
     "execution_count": 38,
     "metadata": {},
     "output_type": "execute_result"
    }
   ],
   "source": [
    "# Вывод значений.\n",
    "sorted(counted_lemmas.items(), \n",
    "       key=lambda item: (item[1], item[0]), \n",
    "       reverse=True)"
   ]
  },
  {
   "cell_type": "markdown",
   "metadata": {},
   "source": [
    "Клиенты берут кредит с целью:\n",
    "- улучшения жилищных условий\n",
    "- повышение качества образования\n",
    "- покупки нового автомобиля\n",
    "- решения проблем со здоровьем\n",
    "- оплаты свадебной процессии"
   ]
  },
  {
   "cell_type": "markdown",
   "metadata": {},
   "source": [
    "Хотел бы спросить про лемматизацию на примере нашего датафрейма.\n",
    "Есть столбец `loan_purpose`. Лемматизация + Counter сделали широкий мазок по этим данным. В дальнейшем хотелось бы перегруппировать клиентов по цели кредита, чтобы использовать информацию более точечно, например: кредит на ремонт <=> рекламе из строительных магазинов => рекламе из мебельных магазинов и т.д.\n",
    "Какими способами мы можем перевести значение каждого столбца в нормальную форму по каждому слову?\n",
    "Пробовал через `.apply(lambda row : ' '.join([lemmatize(s) for s in row_values])`."
   ]
  },
  {
   "cell_type": "markdown",
   "metadata": {},
   "source": [
    "______\n",
    "Удаление дубликатов"
   ]
  },
  {
   "cell_type": "code",
   "execution_count": 39,
   "metadata": {},
   "outputs": [
    {
     "data": {
      "text/plain": [
       "72"
      ]
     },
     "execution_count": 39,
     "metadata": {},
     "output_type": "execute_result"
    }
   ],
   "source": [
    "df.duplicated().sum()"
   ]
  },
  {
   "cell_type": "code",
   "execution_count": 40,
   "metadata": {},
   "outputs": [
    {
     "data": {
      "text/html": [
       "<div>\n",
       "<style scoped>\n",
       "    .dataframe tbody tr th:only-of-type {\n",
       "        vertical-align: middle;\n",
       "    }\n",
       "\n",
       "    .dataframe tbody tr th {\n",
       "        vertical-align: top;\n",
       "    }\n",
       "\n",
       "    .dataframe thead th {\n",
       "        text-align: right;\n",
       "    }\n",
       "</style>\n",
       "<table border=\"1\" class=\"dataframe\">\n",
       "  <thead>\n",
       "    <tr style=\"text-align: right;\">\n",
       "      <th></th>\n",
       "      <th>children_number</th>\n",
       "      <th>days_employed</th>\n",
       "      <th>client_age</th>\n",
       "      <th>education_level</th>\n",
       "      <th>family_status</th>\n",
       "      <th>family_status_id</th>\n",
       "      <th>gender</th>\n",
       "      <th>employment_type</th>\n",
       "      <th>loan_repayment_status</th>\n",
       "      <th>monthly_income</th>\n",
       "      <th>loan_purpose</th>\n",
       "    </tr>\n",
       "  </thead>\n",
       "  <tbody>\n",
       "    <tr>\n",
       "      <td>14832</td>\n",
       "      <td>0</td>\n",
       "      <td>0</td>\n",
       "      <td>50.0</td>\n",
       "      <td>среднее</td>\n",
       "      <td>не женат / не замужем</td>\n",
       "      <td>4</td>\n",
       "      <td>F</td>\n",
       "      <td>сотрудник</td>\n",
       "      <td>0</td>\n",
       "      <td>0.0</td>\n",
       "      <td>недвижимость</td>\n",
       "    </tr>\n",
       "    <tr>\n",
       "      <td>4851</td>\n",
       "      <td>0</td>\n",
       "      <td>0</td>\n",
       "      <td>60.0</td>\n",
       "      <td>среднее</td>\n",
       "      <td>гражданский брак</td>\n",
       "      <td>1</td>\n",
       "      <td>F</td>\n",
       "      <td>пенсионер</td>\n",
       "      <td>0</td>\n",
       "      <td>0.0</td>\n",
       "      <td>свадьба</td>\n",
       "    </tr>\n",
       "    <tr>\n",
       "      <td>20116</td>\n",
       "      <td>0</td>\n",
       "      <td>0</td>\n",
       "      <td>57.0</td>\n",
       "      <td>среднее</td>\n",
       "      <td>гражданский брак</td>\n",
       "      <td>1</td>\n",
       "      <td>M</td>\n",
       "      <td>пенсионер</td>\n",
       "      <td>0</td>\n",
       "      <td>0.0</td>\n",
       "      <td>свадьба</td>\n",
       "    </tr>\n",
       "    <tr>\n",
       "      <td>19832</td>\n",
       "      <td>0</td>\n",
       "      <td>0</td>\n",
       "      <td>48.0</td>\n",
       "      <td>среднее</td>\n",
       "      <td>женат / замужем</td>\n",
       "      <td>0</td>\n",
       "      <td>F</td>\n",
       "      <td>сотрудник</td>\n",
       "      <td>0</td>\n",
       "      <td>0.0</td>\n",
       "      <td>ремонт жилью</td>\n",
       "    </tr>\n",
       "    <tr>\n",
       "      <td>12373</td>\n",
       "      <td>0</td>\n",
       "      <td>0</td>\n",
       "      <td>58.0</td>\n",
       "      <td>среднее</td>\n",
       "      <td>женат / замужем</td>\n",
       "      <td>0</td>\n",
       "      <td>M</td>\n",
       "      <td>сотрудник</td>\n",
       "      <td>0</td>\n",
       "      <td>0.0</td>\n",
       "      <td>покупка недвижимости</td>\n",
       "    </tr>\n",
       "  </tbody>\n",
       "</table>\n",
       "</div>"
      ],
      "text/plain": [
       "       children_number  days_employed  client_age education_level  \\\n",
       "14832                0              0        50.0         среднее   \n",
       "4851                 0              0        60.0         среднее   \n",
       "20116                0              0        57.0         среднее   \n",
       "19832                0              0        48.0         среднее   \n",
       "12373                0              0        58.0         среднее   \n",
       "\n",
       "               family_status  family_status_id gender employment_type  \\\n",
       "14832  не женат / не замужем                 4      F       сотрудник   \n",
       "4851        гражданский брак                 1      F       пенсионер   \n",
       "20116       гражданский брак                 1      M       пенсионер   \n",
       "19832        женат / замужем                 0      F       сотрудник   \n",
       "12373        женат / замужем                 0      M       сотрудник   \n",
       "\n",
       "       loan_repayment_status  monthly_income          loan_purpose  \n",
       "14832                      0             0.0          недвижимость  \n",
       "4851                       0             0.0               свадьба  \n",
       "20116                      0             0.0               свадьба  \n",
       "19832                      0             0.0          ремонт жилью  \n",
       "12373                      0             0.0  покупка недвижимости  "
      ]
     },
     "execution_count": 40,
     "metadata": {},
     "output_type": "execute_result"
    }
   ],
   "source": [
    "duplicated = df[df.duplicated()]\n",
    "duplicated.sample(5)"
   ]
  },
  {
   "cell_type": "markdown",
   "metadata": {},
   "source": [
    "Есть подозрения, что все эти строки со значениями столбца `days_employed` == 0."
   ]
  },
  {
   "cell_type": "code",
   "execution_count": 41,
   "metadata": {},
   "outputs": [
    {
     "data": {
      "text/plain": [
       "0    72\n",
       "Name: days_employed, dtype: int64"
      ]
     },
     "execution_count": 41,
     "metadata": {},
     "output_type": "execute_result"
    }
   ],
   "source": [
    "duplicated['days_employed'].value_counts()"
   ]
  },
  {
   "cell_type": "code",
   "execution_count": 42,
   "metadata": {
    "scrolled": true
   },
   "outputs": [
    {
     "data": {
      "text/plain": [
       "True"
      ]
     },
     "execution_count": 42,
     "metadata": {},
     "output_type": "execute_result"
    }
   ],
   "source": [
    "# Удалим дубликаты.\n",
    "df = df.drop_duplicates()\n",
    "\n",
    "df[df.duplicated()].empty"
   ]
  },
  {
   "cell_type": "markdown",
   "metadata": {},
   "source": [
    "Окончательно перепроверим на 0 и NaN."
   ]
  },
  {
   "cell_type": "code",
   "execution_count": 43,
   "metadata": {},
   "outputs": [
    {
     "data": {
      "text/plain": [
       "children_number          0\n",
       "days_employed            0\n",
       "client_age               0\n",
       "education_level          0\n",
       "family_status            0\n",
       "family_status_id         0\n",
       "gender                   0\n",
       "employment_type          0\n",
       "loan_repayment_status    0\n",
       "monthly_income           0\n",
       "loan_purpose             0\n",
       "dtype: int64"
      ]
     },
     "execution_count": 43,
     "metadata": {},
     "output_type": "execute_result"
    }
   ],
   "source": [
    "df.isnull().sum()"
   ]
  },
  {
   "cell_type": "code",
   "execution_count": 44,
   "metadata": {},
   "outputs": [
    {
     "data": {
      "text/plain": [
       "children_number          0\n",
       "days_employed            0\n",
       "client_age               0\n",
       "education_level          0\n",
       "family_status            0\n",
       "family_status_id         0\n",
       "gender                   0\n",
       "employment_type          0\n",
       "loan_repayment_status    0\n",
       "monthly_income           0\n",
       "loan_purpose             0\n",
       "dtype: int64"
      ]
     },
     "execution_count": 44,
     "metadata": {},
     "output_type": "execute_result"
    }
   ],
   "source": [
    "df.isna().sum()"
   ]
  },
  {
   "cell_type": "markdown",
   "metadata": {},
   "source": [
    "____\n",
    "____"
   ]
  },
  {
   "cell_type": "markdown",
   "metadata": {},
   "source": [
    "## 3. Ответы на вопросы заказчика\n",
    "* Есть ли зависимость между наличием детей и возвратом кредита в срок?\n",
    "* Есть ли зависимость между семейным положением и возвратом кредита в срок?\n",
    "* Есть ли зависимость между уровнем дохода и возвратом кредита в срок?\n",
    "* Как разные цели кредита влияют на его возврат в срок?"
   ]
  },
  {
   "cell_type": "markdown",
   "metadata": {},
   "source": [
    "Заметим, что все вопросы оперируют к столбцу `loan_repayment_status`.\n",
    "Сразу напишем функцию для создания сводной таблицы по этому столбцу."
   ]
  },
  {
   "cell_type": "code",
   "execution_count": 45,
   "metadata": {},
   "outputs": [],
   "source": [
    "def get_repayment_pivot_table(feature_column, aggfunc='count'):\n",
    "    pivot_table = df.pivot_table(values='loan_purpose',\n",
    "                                index=[feature_column],\n",
    "                                columns=['loan_repayment_status'],\n",
    "                                aggfunc=aggfunc)\n",
    "    pivot_table['percent'] = pivot_table[1] / (pivot_table[0] + pivot_table[1]) * 100\n",
    "    pivot_table['percent'] = pivot_table['percent'].round(2)\n",
    "    pivot_table['ratio'] = pivot_table[1] / pivot_table[0] * 100\n",
    "    pivot_table['ratio'] = pivot_table['ratio'].round(2)\n",
    "    return pivot_table"
   ]
  },
  {
   "cell_type": "code",
   "execution_count": 46,
   "metadata": {},
   "outputs": [],
   "source": [
    "def get_plot_by_pivot_table(pivot_table, kind='bar', rot=0):\n",
    "    bar_figure = pivot_table.plot(y=['ratio', 'percent'], kind=kind, rot=rot)\n",
    "    return bar_figure"
   ]
  },
  {
   "cell_type": "markdown",
   "metadata": {},
   "source": [
    "____"
   ]
  },
  {
   "cell_type": "markdown",
   "metadata": {},
   "source": [
    "### 1. Зависимость между наличием детей и возвратом кредита в срок"
   ]
  },
  {
   "cell_type": "code",
   "execution_count": 47,
   "metadata": {},
   "outputs": [
    {
     "data": {
      "text/html": [
       "<div>\n",
       "<style scoped>\n",
       "    .dataframe tbody tr th:only-of-type {\n",
       "        vertical-align: middle;\n",
       "    }\n",
       "\n",
       "    .dataframe tbody tr th {\n",
       "        vertical-align: top;\n",
       "    }\n",
       "\n",
       "    .dataframe thead th {\n",
       "        text-align: right;\n",
       "    }\n",
       "</style>\n",
       "<table border=\"1\" class=\"dataframe\">\n",
       "  <thead>\n",
       "    <tr style=\"text-align: right;\">\n",
       "      <th>loan_repayment_status</th>\n",
       "      <th>0</th>\n",
       "      <th>1</th>\n",
       "      <th>percent</th>\n",
       "      <th>ratio</th>\n",
       "    </tr>\n",
       "    <tr>\n",
       "      <th>children_number</th>\n",
       "      <th></th>\n",
       "      <th></th>\n",
       "      <th></th>\n",
       "      <th></th>\n",
       "    </tr>\n",
       "  </thead>\n",
       "  <tbody>\n",
       "    <tr>\n",
       "      <td>0</td>\n",
       "      <td>13026.0</td>\n",
       "      <td>1063.0</td>\n",
       "      <td>7.54</td>\n",
       "      <td>8.16</td>\n",
       "    </tr>\n",
       "    <tr>\n",
       "      <td>1</td>\n",
       "      <td>4410.0</td>\n",
       "      <td>445.0</td>\n",
       "      <td>9.17</td>\n",
       "      <td>10.09</td>\n",
       "    </tr>\n",
       "    <tr>\n",
       "      <td>2</td>\n",
       "      <td>1926.0</td>\n",
       "      <td>202.0</td>\n",
       "      <td>9.49</td>\n",
       "      <td>10.49</td>\n",
       "    </tr>\n",
       "    <tr>\n",
       "      <td>3</td>\n",
       "      <td>303.0</td>\n",
       "      <td>27.0</td>\n",
       "      <td>8.18</td>\n",
       "      <td>8.91</td>\n",
       "    </tr>\n",
       "    <tr>\n",
       "      <td>4</td>\n",
       "      <td>37.0</td>\n",
       "      <td>4.0</td>\n",
       "      <td>9.76</td>\n",
       "      <td>10.81</td>\n",
       "    </tr>\n",
       "    <tr>\n",
       "      <td>5</td>\n",
       "      <td>9.0</td>\n",
       "      <td>NaN</td>\n",
       "      <td>NaN</td>\n",
       "      <td>NaN</td>\n",
       "    </tr>\n",
       "  </tbody>\n",
       "</table>\n",
       "</div>"
      ],
      "text/plain": [
       "loan_repayment_status        0       1  percent  ratio\n",
       "children_number                                       \n",
       "0                      13026.0  1063.0     7.54   8.16\n",
       "1                       4410.0   445.0     9.17  10.09\n",
       "2                       1926.0   202.0     9.49  10.49\n",
       "3                        303.0    27.0     8.18   8.91\n",
       "4                         37.0     4.0     9.76  10.81\n",
       "5                          9.0     NaN      NaN    NaN"
      ]
     },
     "execution_count": 47,
     "metadata": {},
     "output_type": "execute_result"
    }
   ],
   "source": [
    "chidren_repayment_pivot = get_repayment_pivot_table(feature_column='children_number')\n",
    "\n",
    "chidren_repayment_pivot"
   ]
  },
  {
   "cell_type": "code",
   "execution_count": 48,
   "metadata": {},
   "outputs": [
    {
     "data": {
      "text/plain": [
       "True"
      ]
     },
     "execution_count": 48,
     "metadata": {},
     "output_type": "execute_result"
    }
   ],
   "source": [
    "# Проверим появившиеся NaN в сводной таблице.\n",
    "df[(df['children_number']==5) & (df['loan_repayment_status']==1)].empty"
   ]
  },
  {
   "cell_type": "code",
   "execution_count": 49,
   "metadata": {},
   "outputs": [
    {
     "data": {
      "image/png": "[encoded data removed]",
      "text/plain": [
       "<Figure size 432x288 with 1 Axes>"
      ]
     },
     "metadata": {
      "needs_background": "light"
     },
     "output_type": "display_data"
    }
   ],
   "source": [
    "children_repayment_bar = get_plot_by_pivot_table(chidren_repayment_pivot)"
   ]
  },
  {
   "cell_type": "markdown",
   "metadata": {},
   "source": [
    "**Выводы:**\n",
    "* Выборки по клиентам с пятью детьми недостаточно для выводов;\n",
    "* Зависимости между бездетными клиентами и клиентами родителями в отношении возврата кредита в срок НЕ наблюдается.\n",
    "____"
   ]
  },
  {
   "cell_type": "markdown",
   "metadata": {},
   "source": [
    "### 2. Зависимость между семейным положением и возвратом кредита в срок"
   ]
  },
  {
   "cell_type": "markdown",
   "metadata": {},
   "source": [
    "Сделаем по аналогии с предыдущим для начала в силу схожести вопросов."
   ]
  },
  {
   "cell_type": "code",
   "execution_count": 50,
   "metadata": {},
   "outputs": [
    {
     "data": {
      "text/html": [
       "<div>\n",
       "<style scoped>\n",
       "    .dataframe tbody tr th:only-of-type {\n",
       "        vertical-align: middle;\n",
       "    }\n",
       "\n",
       "    .dataframe tbody tr th {\n",
       "        vertical-align: top;\n",
       "    }\n",
       "\n",
       "    .dataframe thead th {\n",
       "        text-align: right;\n",
       "    }\n",
       "</style>\n",
       "<table border=\"1\" class=\"dataframe\">\n",
       "  <thead>\n",
       "    <tr style=\"text-align: right;\">\n",
       "      <th>loan_repayment_status</th>\n",
       "      <th>0</th>\n",
       "      <th>1</th>\n",
       "      <th>percent</th>\n",
       "      <th>ratio</th>\n",
       "    </tr>\n",
       "    <tr>\n",
       "      <th>family_status</th>\n",
       "      <th></th>\n",
       "      <th></th>\n",
       "      <th></th>\n",
       "      <th></th>\n",
       "    </tr>\n",
       "  </thead>\n",
       "  <tbody>\n",
       "    <tr>\n",
       "      <td>в разводе</td>\n",
       "      <td>1110</td>\n",
       "      <td>85</td>\n",
       "      <td>7.11</td>\n",
       "      <td>7.66</td>\n",
       "    </tr>\n",
       "    <tr>\n",
       "      <td>вдовец / вдова</td>\n",
       "      <td>896</td>\n",
       "      <td>63</td>\n",
       "      <td>6.57</td>\n",
       "      <td>7.03</td>\n",
       "    </tr>\n",
       "    <tr>\n",
       "      <td>гражданский брак</td>\n",
       "      <td>3761</td>\n",
       "      <td>388</td>\n",
       "      <td>9.35</td>\n",
       "      <td>10.32</td>\n",
       "    </tr>\n",
       "    <tr>\n",
       "      <td>женат / замужем</td>\n",
       "      <td>11408</td>\n",
       "      <td>931</td>\n",
       "      <td>7.55</td>\n",
       "      <td>8.16</td>\n",
       "    </tr>\n",
       "    <tr>\n",
       "      <td>не женат / не замужем</td>\n",
       "      <td>2536</td>\n",
       "      <td>274</td>\n",
       "      <td>9.75</td>\n",
       "      <td>10.80</td>\n",
       "    </tr>\n",
       "  </tbody>\n",
       "</table>\n",
       "</div>"
      ],
      "text/plain": [
       "loan_repayment_status      0    1  percent  ratio\n",
       "family_status                                    \n",
       "в разводе               1110   85     7.11   7.66\n",
       "вдовец / вдова           896   63     6.57   7.03\n",
       "гражданский брак        3761  388     9.35  10.32\n",
       "женат / замужем        11408  931     7.55   8.16\n",
       "не женат / не замужем   2536  274     9.75  10.80"
      ]
     },
     "execution_count": 50,
     "metadata": {},
     "output_type": "execute_result"
    }
   ],
   "source": [
    "family_repayment_pivot = get_repayment_pivot_table(feature_column='family_status')\n",
    "\n",
    "family_repayment_pivot"
   ]
  },
  {
   "cell_type": "code",
   "execution_count": 51,
   "metadata": {
    "scrolled": true
   },
   "outputs": [
    {
     "data": {
      "image/png": "[encoded data removed]",
      "text/plain": [
       "<Figure size 432x288 with 1 Axes>"
      ]
     },
     "metadata": {
      "needs_background": "light"
     },
     "output_type": "display_data"
    }
   ],
   "source": [
    "family_repayment_bar = get_plot_by_pivot_table(family_repayment_pivot, rot=45)"
   ]
  },
  {
   "cell_type": "markdown",
   "metadata": {},
   "source": [
    "**Выводы:**\n",
    "* Клиенты из категорий {`в разводе`, `вдовец/вдова`} дают повод предположить, что есть зависимость между возвратом кредита и семейным положением не в лучшую для них сторону.\n",
    "* С другой стороны категория клиентов, не вступавшая в офицальный брак: {`не женат / не замужем`}, - имеет самые высокие показатели. Однако имеющиеся значения в диапазоне ~10%, что требует за собой большего исследования.\n",
    "____"
   ]
  },
  {
   "cell_type": "markdown",
   "metadata": {},
   "source": [
    "### 3. Зависимость между уровнем дохода и возвратом кредита в срок"
   ]
  },
  {
   "cell_type": "code",
   "execution_count": 52,
   "metadata": {},
   "outputs": [
    {
     "data": {
      "text/plain": [
       "count    2.145200e+04\n",
       "mean     1.510155e+05\n",
       "std      1.097364e+05\n",
       "min      0.000000e+00\n",
       "25%      8.908987e+04\n",
       "50%      1.357810e+05\n",
       "75%      1.958043e+05\n",
       "max      2.265604e+06\n",
       "Name: monthly_income, dtype: float64"
      ]
     },
     "execution_count": 52,
     "metadata": {},
     "output_type": "execute_result"
    }
   ],
   "source": [
    "df['monthly_income'].describe()"
   ]
  },
  {
   "cell_type": "markdown",
   "metadata": {},
   "source": [
    "Распределим уровень дохода на 4 диапазона в засимости от отношения к значениям квантилей [0.25, 0.5, 0.75]."
   ]
  },
  {
   "cell_type": "code",
   "execution_count": 53,
   "metadata": {},
   "outputs": [
    {
     "data": {
      "text/plain": [
       "[89089.86809999999, 135781.0425, 195804.33775]"
      ]
     },
     "execution_count": 53,
     "metadata": {},
     "output_type": "execute_result"
    }
   ],
   "source": [
    "quantiles = df['monthly_income'].quantile([0.25, 0.5, 0.75]).tolist()\n",
    "quantiles"
   ]
  },
  {
   "cell_type": "code",
   "execution_count": 54,
   "metadata": {},
   "outputs": [],
   "source": [
    "def whats_your_income_level(monthly_income, quantiles=quantiles):\n",
    "    if monthly_income <= quantiles[0]:\n",
    "            return 'низкий'\n",
    "    elif monthly_income <= quantiles[1]:\n",
    "            return 'низкий средний'\n",
    "    elif monthly_income <= quantiles[2]:\n",
    "            return 'высокий средний'\n",
    "    else:\n",
    "        return 'высокий'"
   ]
  },
  {
   "cell_type": "code",
   "execution_count": 55,
   "metadata": {},
   "outputs": [
    {
     "data": {
      "text/html": [
       "<div>\n",
       "<style scoped>\n",
       "    .dataframe tbody tr th:only-of-type {\n",
       "        vertical-align: middle;\n",
       "    }\n",
       "\n",
       "    .dataframe tbody tr th {\n",
       "        vertical-align: top;\n",
       "    }\n",
       "\n",
       "    .dataframe thead th {\n",
       "        text-align: right;\n",
       "    }\n",
       "</style>\n",
       "<table border=\"1\" class=\"dataframe\">\n",
       "  <thead>\n",
       "    <tr style=\"text-align: right;\">\n",
       "      <th></th>\n",
       "      <th>children_number</th>\n",
       "      <th>days_employed</th>\n",
       "      <th>client_age</th>\n",
       "      <th>education_level</th>\n",
       "      <th>family_status</th>\n",
       "      <th>family_status_id</th>\n",
       "      <th>gender</th>\n",
       "      <th>employment_type</th>\n",
       "      <th>loan_repayment_status</th>\n",
       "      <th>monthly_income</th>\n",
       "      <th>loan_purpose</th>\n",
       "      <th>income_level</th>\n",
       "    </tr>\n",
       "  </thead>\n",
       "  <tbody>\n",
       "    <tr>\n",
       "      <td>20254</td>\n",
       "      <td>0</td>\n",
       "      <td>0</td>\n",
       "      <td>35.0</td>\n",
       "      <td>высшее</td>\n",
       "      <td>не женат / не замужем</td>\n",
       "      <td>4</td>\n",
       "      <td>M</td>\n",
       "      <td>госслужащий</td>\n",
       "      <td>0</td>\n",
       "      <td>0.0000</td>\n",
       "      <td>покупка жилья</td>\n",
       "      <td>низкий</td>\n",
       "    </tr>\n",
       "    <tr>\n",
       "      <td>19435</td>\n",
       "      <td>0</td>\n",
       "      <td>375345</td>\n",
       "      <td>59.0</td>\n",
       "      <td>среднее</td>\n",
       "      <td>женат / замужем</td>\n",
       "      <td>0</td>\n",
       "      <td>F</td>\n",
       "      <td>пенсионер</td>\n",
       "      <td>0</td>\n",
       "      <td>293103.1139</td>\n",
       "      <td>дополнительное образование</td>\n",
       "      <td>высокий</td>\n",
       "    </tr>\n",
       "    <tr>\n",
       "      <td>14473</td>\n",
       "      <td>0</td>\n",
       "      <td>385325</td>\n",
       "      <td>70.0</td>\n",
       "      <td>среднее</td>\n",
       "      <td>гражданский брак</td>\n",
       "      <td>1</td>\n",
       "      <td>F</td>\n",
       "      <td>пенсионер</td>\n",
       "      <td>0</td>\n",
       "      <td>212154.3178</td>\n",
       "      <td>сыграть свадьбу</td>\n",
       "      <td>высокий</td>\n",
       "    </tr>\n",
       "    <tr>\n",
       "      <td>735</td>\n",
       "      <td>0</td>\n",
       "      <td>1013</td>\n",
       "      <td>21.0</td>\n",
       "      <td>среднее</td>\n",
       "      <td>женат / замужем</td>\n",
       "      <td>0</td>\n",
       "      <td>F</td>\n",
       "      <td>сотрудник</td>\n",
       "      <td>0</td>\n",
       "      <td>56394.2368</td>\n",
       "      <td>покупка жилья для сдачи</td>\n",
       "      <td>низкий</td>\n",
       "    </tr>\n",
       "    <tr>\n",
       "      <td>2022</td>\n",
       "      <td>1</td>\n",
       "      <td>1106</td>\n",
       "      <td>29.0</td>\n",
       "      <td>среднее</td>\n",
       "      <td>женат / замужем</td>\n",
       "      <td>0</td>\n",
       "      <td>M</td>\n",
       "      <td>сотрудник</td>\n",
       "      <td>0</td>\n",
       "      <td>108338.3062</td>\n",
       "      <td>строительство жилой недвижимости</td>\n",
       "      <td>низкий средний</td>\n",
       "    </tr>\n",
       "    <tr>\n",
       "      <td>15032</td>\n",
       "      <td>0</td>\n",
       "      <td>980</td>\n",
       "      <td>29.0</td>\n",
       "      <td>среднее</td>\n",
       "      <td>не женат / не замужем</td>\n",
       "      <td>4</td>\n",
       "      <td>M</td>\n",
       "      <td>сотрудник</td>\n",
       "      <td>0</td>\n",
       "      <td>68900.6535</td>\n",
       "      <td>строительство жилой недвижимости</td>\n",
       "      <td>низкий</td>\n",
       "    </tr>\n",
       "    <tr>\n",
       "      <td>3709</td>\n",
       "      <td>0</td>\n",
       "      <td>4711</td>\n",
       "      <td>61.0</td>\n",
       "      <td>среднее</td>\n",
       "      <td>гражданский брак</td>\n",
       "      <td>1</td>\n",
       "      <td>F</td>\n",
       "      <td>компаньон</td>\n",
       "      <td>0</td>\n",
       "      <td>142595.6025</td>\n",
       "      <td>свадьба</td>\n",
       "      <td>высокий средний</td>\n",
       "    </tr>\n",
       "    <tr>\n",
       "      <td>9901</td>\n",
       "      <td>0</td>\n",
       "      <td>4723</td>\n",
       "      <td>53.0</td>\n",
       "      <td>высшее</td>\n",
       "      <td>в разводе</td>\n",
       "      <td>3</td>\n",
       "      <td>F</td>\n",
       "      <td>сотрудник</td>\n",
       "      <td>0</td>\n",
       "      <td>182890.6030</td>\n",
       "      <td>покупка жилья для сдачи</td>\n",
       "      <td>высокий средний</td>\n",
       "    </tr>\n",
       "    <tr>\n",
       "      <td>1061</td>\n",
       "      <td>0</td>\n",
       "      <td>4966</td>\n",
       "      <td>39.0</td>\n",
       "      <td>среднее</td>\n",
       "      <td>вдовец / вдова</td>\n",
       "      <td>2</td>\n",
       "      <td>F</td>\n",
       "      <td>госслужащий</td>\n",
       "      <td>0</td>\n",
       "      <td>84431.1900</td>\n",
       "      <td>операции с коммерческой недвижимостью</td>\n",
       "      <td>низкий</td>\n",
       "    </tr>\n",
       "    <tr>\n",
       "      <td>21209</td>\n",
       "      <td>2</td>\n",
       "      <td>186</td>\n",
       "      <td>37.0</td>\n",
       "      <td>высшее</td>\n",
       "      <td>женат / замужем</td>\n",
       "      <td>0</td>\n",
       "      <td>F</td>\n",
       "      <td>сотрудник</td>\n",
       "      <td>0</td>\n",
       "      <td>132810.4162</td>\n",
       "      <td>заняться образованием</td>\n",
       "      <td>низкий средний</td>\n",
       "    </tr>\n",
       "  </tbody>\n",
       "</table>\n",
       "</div>"
      ],
      "text/plain": [
       "       children_number  days_employed  client_age education_level  \\\n",
       "20254                0              0        35.0          высшее   \n",
       "19435                0         375345        59.0         среднее   \n",
       "14473                0         385325        70.0         среднее   \n",
       "735                  0           1013        21.0         среднее   \n",
       "2022                 1           1106        29.0         среднее   \n",
       "15032                0            980        29.0         среднее   \n",
       "3709                 0           4711        61.0         среднее   \n",
       "9901                 0           4723        53.0          высшее   \n",
       "1061                 0           4966        39.0         среднее   \n",
       "21209                2            186        37.0          высшее   \n",
       "\n",
       "               family_status  family_status_id gender employment_type  \\\n",
       "20254  не женат / не замужем                 4      M     госслужащий   \n",
       "19435        женат / замужем                 0      F       пенсионер   \n",
       "14473       гражданский брак                 1      F       пенсионер   \n",
       "735          женат / замужем                 0      F       сотрудник   \n",
       "2022         женат / замужем                 0      M       сотрудник   \n",
       "15032  не женат / не замужем                 4      M       сотрудник   \n",
       "3709        гражданский брак                 1      F       компаньон   \n",
       "9901               в разводе                 3      F       сотрудник   \n",
       "1061          вдовец / вдова                 2      F     госслужащий   \n",
       "21209        женат / замужем                 0      F       сотрудник   \n",
       "\n",
       "       loan_repayment_status  monthly_income  \\\n",
       "20254                      0          0.0000   \n",
       "19435                      0     293103.1139   \n",
       "14473                      0     212154.3178   \n",
       "735                        0      56394.2368   \n",
       "2022                       0     108338.3062   \n",
       "15032                      0      68900.6535   \n",
       "3709                       0     142595.6025   \n",
       "9901                       0     182890.6030   \n",
       "1061                       0      84431.1900   \n",
       "21209                      0     132810.4162   \n",
       "\n",
       "                                loan_purpose     income_level  \n",
       "20254                          покупка жилья           низкий  \n",
       "19435             дополнительное образование          высокий  \n",
       "14473                        сыграть свадьбу          высокий  \n",
       "735                  покупка жилья для сдачи           низкий  \n",
       "2022        строительство жилой недвижимости   низкий средний  \n",
       "15032       строительство жилой недвижимости           низкий  \n",
       "3709                                 свадьба  высокий средний  \n",
       "9901                 покупка жилья для сдачи  высокий средний  \n",
       "1061   операции с коммерческой недвижимостью           низкий  \n",
       "21209                  заняться образованием   низкий средний  "
      ]
     },
     "execution_count": 55,
     "metadata": {},
     "output_type": "execute_result"
    }
   ],
   "source": [
    "df['income_level'] = df['monthly_income'].apply(whats_your_income_level)\n",
    "\n",
    "df.sample(10)"
   ]
  },
  {
   "cell_type": "code",
   "execution_count": 56,
   "metadata": {},
   "outputs": [
    {
     "data": {
      "text/html": [
       "<div>\n",
       "<style scoped>\n",
       "    .dataframe tbody tr th:only-of-type {\n",
       "        vertical-align: middle;\n",
       "    }\n",
       "\n",
       "    .dataframe tbody tr th {\n",
       "        vertical-align: top;\n",
       "    }\n",
       "\n",
       "    .dataframe thead th {\n",
       "        text-align: right;\n",
       "    }\n",
       "</style>\n",
       "<table border=\"1\" class=\"dataframe\">\n",
       "  <thead>\n",
       "    <tr style=\"text-align: right;\">\n",
       "      <th>loan_repayment_status</th>\n",
       "      <th>0</th>\n",
       "      <th>1</th>\n",
       "      <th>percent</th>\n",
       "      <th>ratio</th>\n",
       "    </tr>\n",
       "    <tr>\n",
       "      <th>income_level</th>\n",
       "      <th></th>\n",
       "      <th></th>\n",
       "      <th></th>\n",
       "      <th></th>\n",
       "    </tr>\n",
       "  </thead>\n",
       "  <tbody>\n",
       "    <tr>\n",
       "      <td>высокий</td>\n",
       "      <td>4980</td>\n",
       "      <td>383</td>\n",
       "      <td>7.14</td>\n",
       "      <td>7.69</td>\n",
       "    </tr>\n",
       "    <tr>\n",
       "      <td>высокий средний</td>\n",
       "      <td>4882</td>\n",
       "      <td>481</td>\n",
       "      <td>8.97</td>\n",
       "      <td>9.85</td>\n",
       "    </tr>\n",
       "    <tr>\n",
       "      <td>низкий</td>\n",
       "      <td>4944</td>\n",
       "      <td>419</td>\n",
       "      <td>7.81</td>\n",
       "      <td>8.47</td>\n",
       "    </tr>\n",
       "    <tr>\n",
       "      <td>низкий средний</td>\n",
       "      <td>4905</td>\n",
       "      <td>458</td>\n",
       "      <td>8.54</td>\n",
       "      <td>9.34</td>\n",
       "    </tr>\n",
       "  </tbody>\n",
       "</table>\n",
       "</div>"
      ],
      "text/plain": [
       "loan_repayment_status     0    1  percent  ratio\n",
       "income_level                                    \n",
       "высокий                4980  383     7.14   7.69\n",
       "высокий средний        4882  481     8.97   9.85\n",
       "низкий                 4944  419     7.81   8.47\n",
       "низкий средний         4905  458     8.54   9.34"
      ]
     },
     "execution_count": 56,
     "metadata": {},
     "output_type": "execute_result"
    }
   ],
   "source": [
    "income_repayment_pivot = get_repayment_pivot_table(feature_column='income_level')\n",
    "\n",
    "income_repayment_pivot"
   ]
  },
  {
   "cell_type": "code",
   "execution_count": 57,
   "metadata": {},
   "outputs": [
    {
     "data": {
      "image/png": "[encoded data removed]",
      "text/plain": [
       "<Figure size 432x288 with 1 Axes>"
      ]
     },
     "metadata": {
      "needs_background": "light"
     },
     "output_type": "display_data"
    }
   ],
   "source": [
    "income_repayment_bar = get_plot_by_pivot_table(income_repayment_pivot)"
   ]
  },
  {
   "cell_type": "markdown",
   "metadata": {},
   "source": [
    "**Выводы:**  \n",
    "У клиентов из категорий {`низкий`, `высокий`} по уровню дохода наимешьние показатели.  \n",
    "Клиенты с низким уровнем дохода чаще используют кредитную систему для получение непосредственных благ сейчас.\n",
    "Отнюдь же клиенты с высоким уровнем дохода часто используют эту же систему для инвестиций и бизнеса.\n",
    "Но и та и другая группа подверженна риску больше среднего класса по причине того, что им не является.\n",
    "____"
   ]
  },
  {
   "cell_type": "markdown",
   "metadata": {},
   "source": [
    "### 4. Влияние целей кредита на его возврат в срок"
   ]
  },
  {
   "cell_type": "markdown",
   "metadata": {},
   "source": [
    "Рассмотрев нормализованные слова в пункте `2. Предобработка данных/loan_purpose`, можем заметить 4 основных направления:  \n",
    "* Автомобиль\n",
    "* Свадьба\n",
    "* Образование\n",
    "* Недвижимость  \n",
    "\n",
    "Создадим столбец `loan_purpose_category` и распределим все строки по этим 4-ём категориям."
   ]
  },
  {
   "cell_type": "code",
   "execution_count": 58,
   "metadata": {},
   "outputs": [
    {
     "data": {
      "text/plain": [
       "array(['покупка жилья', 'приобретение автомобиля',\n",
       "       'дополнительное образование', 'сыграть свадьбу',\n",
       "       'операции с жильем', 'образование', 'на проведение свадьбы',\n",
       "       'покупка жилья для семьи', 'покупка недвижимости',\n",
       "       'покупка коммерческой недвижимости', 'покупка жилой недвижимости',\n",
       "       'строительство собственной недвижимости', 'недвижимость',\n",
       "       'строительство недвижимости', 'на покупку подержанного автомобиля',\n",
       "       'на покупку своего автомобиля',\n",
       "       'операции с коммерческой недвижимостью',\n",
       "       'строительство жилой недвижимости', 'жилье',\n",
       "       'операции со своей недвижимостью', 'автомобили',\n",
       "       'заняться образованием', 'сделка с подержанным автомобилем',\n",
       "       'получение образования', 'автомобиль', 'свадьба',\n",
       "       'получение дополнительного образования', 'покупка своего жилья',\n",
       "       'операции с недвижимостью', 'получение высшего образования',\n",
       "       'свой автомобиль', 'сделка с автомобилем',\n",
       "       'профильное образование', 'высшее образование',\n",
       "       'покупка жилья для сдачи', 'на покупку автомобиля', 'ремонт жилью',\n",
       "       'заняться высшим образованием'], dtype=object)"
      ]
     },
     "execution_count": 58,
     "metadata": {},
     "output_type": "execute_result"
    }
   ],
   "source": [
    "# Уже составляли массив уникальных целей кредита.\n",
    "unique_loan_purpose"
   ]
  },
  {
   "cell_type": "code",
   "execution_count": 59,
   "metadata": {},
   "outputs": [],
   "source": [
    "def set_loan_purpose_category(purpose):\n",
    "    if 'автомобил' in purpose:\n",
    "        return 'автомобиль'\n",
    "    elif 'свадьб' in purpose:\n",
    "        return 'свадьба'\n",
    "    elif 'образован' in purpose:\n",
    "        return 'образование'\n",
    "    elif ('жиль' in purpose) or ('недвижимост' in purpose):\n",
    "        return 'недвижимость'\n",
    "    else:\n",
    "        return 'другое'"
   ]
  },
  {
   "cell_type": "code",
   "execution_count": 60,
   "metadata": {},
   "outputs": [
    {
     "data": {
      "text/plain": [
       "недвижимость    10810\n",
       "автомобиль       4306\n",
       "образование      4013\n",
       "свадьба          2323\n",
       "Name: loan_purpose_category, dtype: int64"
      ]
     },
     "execution_count": 60,
     "metadata": {},
     "output_type": "execute_result"
    }
   ],
   "source": [
    "df['loan_purpose_category'] = df['loan_purpose'].apply(set_loan_purpose_category)\n",
    "\n",
    "df['loan_purpose_category'].value_counts()"
   ]
  },
  {
   "cell_type": "markdown",
   "metadata": {},
   "source": [
    "Видим, что категории `другое` нет => учли всё. "
   ]
  },
  {
   "cell_type": "code",
   "execution_count": 61,
   "metadata": {},
   "outputs": [
    {
     "data": {
      "text/html": [
       "<div>\n",
       "<style scoped>\n",
       "    .dataframe tbody tr th:only-of-type {\n",
       "        vertical-align: middle;\n",
       "    }\n",
       "\n",
       "    .dataframe tbody tr th {\n",
       "        vertical-align: top;\n",
       "    }\n",
       "\n",
       "    .dataframe thead th {\n",
       "        text-align: right;\n",
       "    }\n",
       "</style>\n",
       "<table border=\"1\" class=\"dataframe\">\n",
       "  <thead>\n",
       "    <tr style=\"text-align: right;\">\n",
       "      <th>loan_repayment_status</th>\n",
       "      <th>0</th>\n",
       "      <th>1</th>\n",
       "      <th>percent</th>\n",
       "      <th>ratio</th>\n",
       "    </tr>\n",
       "    <tr>\n",
       "      <th>loan_purpose_category</th>\n",
       "      <th></th>\n",
       "      <th></th>\n",
       "      <th></th>\n",
       "      <th></th>\n",
       "    </tr>\n",
       "  </thead>\n",
       "  <tbody>\n",
       "    <tr>\n",
       "      <td>автомобиль</td>\n",
       "      <td>3903</td>\n",
       "      <td>403</td>\n",
       "      <td>9.36</td>\n",
       "      <td>10.33</td>\n",
       "    </tr>\n",
       "    <tr>\n",
       "      <td>недвижимость</td>\n",
       "      <td>10028</td>\n",
       "      <td>782</td>\n",
       "      <td>7.23</td>\n",
       "      <td>7.80</td>\n",
       "    </tr>\n",
       "    <tr>\n",
       "      <td>образование</td>\n",
       "      <td>3643</td>\n",
       "      <td>370</td>\n",
       "      <td>9.22</td>\n",
       "      <td>10.16</td>\n",
       "    </tr>\n",
       "    <tr>\n",
       "      <td>свадьба</td>\n",
       "      <td>2137</td>\n",
       "      <td>186</td>\n",
       "      <td>8.01</td>\n",
       "      <td>8.70</td>\n",
       "    </tr>\n",
       "  </tbody>\n",
       "</table>\n",
       "</div>"
      ],
      "text/plain": [
       "loan_repayment_status      0    1  percent  ratio\n",
       "loan_purpose_category                            \n",
       "автомобиль              3903  403     9.36  10.33\n",
       "недвижимость           10028  782     7.23   7.80\n",
       "образование             3643  370     9.22  10.16\n",
       "свадьба                 2137  186     8.01   8.70"
      ]
     },
     "execution_count": 61,
     "metadata": {},
     "output_type": "execute_result"
    }
   ],
   "source": [
    "loan_category_repayment_pivot = get_repayment_pivot_table(feature_column='loan_purpose_category')\n",
    "\n",
    "loan_category_repayment_pivot"
   ]
  },
  {
   "cell_type": "code",
   "execution_count": 62,
   "metadata": {
    "scrolled": true
   },
   "outputs": [
    {
     "data": {
      "image/png": "[encoded data removed]",
      "text/plain": [
       "<Figure size 432x288 with 1 Axes>"
      ]
     },
     "metadata": {
      "needs_background": "light"
     },
     "output_type": "display_data"
    }
   ],
   "source": [
    "loan_category_repayment_bar = get_plot_by_pivot_table(loan_category_repayment_pivot)"
   ]
  },
  {
   "cell_type": "markdown",
   "metadata": {},
   "source": [
    "**Выводы:**  \n",
    "Недвижимость и свадьба показывают себя самыми рискованными целями кредита.\n",
    "* Свадьба - самый нерентабельный проект из всех здесь представленных. Он не предлагает вариантов для выплаты себя же.\n",
    "* Недвижимость - не самое глупое вложение средств.  \n",
    "[https://www.irn.ru/gd/?class=all&type=1&period=0&grnum=1&currency=0&select=period]  Однако тут скорее всего подразумевается ипотека. Она требует от клиента самоорганизованности на протяжении длительного периода жизни, поэтому закрыть этот кредит сложнее остальных. Тогда такой результат выглядит правдоподобным."
   ]
  },
  {
   "cell_type": "markdown",
   "metadata": {},
   "source": [
    "___\n",
    "___"
   ]
  },
  {
   "cell_type": "markdown",
   "metadata": {},
   "source": [
    "## 4. Выводы исследования"
   ]
  },
  {
   "cell_type": "markdown",
   "metadata": {},
   "source": [
    "1. Самыми рискованными категориями клиентов считаем:\n",
    "    * Вдов/вдовцов или состоящих в разводе граждан,\n",
    "    * Обладающих низким уровнем дохода,\n",
    "    * Желающих взать кредит на празднование свадьбы или новой квартиры :)  \n",
    "    Наибольшую угрозу невозрата кредита вызывают недавно обручённые или вдовствующие категории граждан. Из всех изученнных зависимостей группы {`вдовец/вдова`, `свадьба`} показывали худшие результаты.\n",
    "2. Уделить внимание обработке данных:\n",
    "    * Ввести единые словари значений в базе данных компании для формы заполнения заявки на кредитование.  \n",
    "    Это поспособствует:\n",
    "        * Контролю одних и тех же значений разных регистров.\n",
    "        * Определить категории для целей кредитования.\n",
    "        * Сделает построение дальнейшней аналитики компании легче.\n",
    "    * Добавить систему контроля значений для каждого из столбцов.\n",
    "    * Добавить систему контроля дубликатов.\n",
    "    Например, автоматически, после окончания рабочего дня, пробежаться по всем оформленным заявкам на кредит в течение дня по характеристикам клиента. В случае совпадения отложить до подтверждения человеком утром. "
   ]
  }
 ],
 "metadata": {
  "kernelspec": {
   "display_name": "Python 3",
   "language": "python",
   "name": "python3"
  },
  "language_info": {
   "codemirror_mode": {
    "name": "ipython",
    "version": 3
   },
   "file_extension": ".py",
   "mimetype": "text/x-python",
   "name": "python",
   "nbconvert_exporter": "python",
   "pygments_lexer": "ipython3",
   "version": "3.7.8"
  }
 },
 "nbformat": 4,
 "nbformat_minor": 4
}
