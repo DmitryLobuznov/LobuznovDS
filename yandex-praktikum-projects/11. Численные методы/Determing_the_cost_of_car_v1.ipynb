{
 "cells": [
  {
   "cell_type": "markdown",
   "metadata": {},
   "source": [
    "## Определение стоимости автомобиля\n",
    "___"
   ]
  },
  {
   "cell_type": "markdown",
   "metadata": {},
   "source": [
    "### Описание проекта\n",
    "\n",
    "Сервис по продаже автомобилей с пробегом «Не бит, не крашен» разрабатывает приложение для привлечения новых клиентов. В нём можно быстро узнать рыночную стоимость своего автомобиля. В вашем распоряжении исторические данные: технические характеристики, комплектации и цены автомобилей. Вам нужно построить модель для определения стоимости.\n",
    "Заказчику важны:\n",
    "* качество предсказания;\n",
    "* скорость предсказания;\n",
    "* время обучения.\n",
    "___"
   ]
  },
  {
   "cell_type": "markdown",
   "metadata": {},
   "source": [
    "**Признаки:**  \n",
    "* `DateCrawled` — дата скачивания анкеты из базы\n",
    "* `VehicleType` — тип автомобильного кузова\n",
    "* `RegistrationYear` — год регистрации автомобиля\n",
    "* `Gearbox` — тип коробки передач\n",
    "* `Power` — мощность (л. с.)\n",
    "* `Model` — модель автомобиля\n",
    "* `Kilometer` — пробег (км)\n",
    "* `RegistrationMonth` — месяц регистрации автомобиля\n",
    "* `FuelType` — тип топлива\n",
    "* `Brand` — марка автомобиля\n",
    "* `NotRepaired` — была машина в ремонте или нет\n",
    "* `DateCreated` — дата создания анкеты\n",
    "* `NumberOfPictures` — количество фотографий автомобиля\n",
    "* `PostalCode` — почтовый индекс владельца анкеты (пользователя)\n",
    "* `LastSeen` — дата последней активности пользователя  \\\n",
    "\n",
    "**Целевой признак:**\n",
    "* `Price` — цена (евро)\n",
    "___"
   ]
  },
  {
   "cell_type": "markdown",
   "metadata": {},
   "source": [
    "### Структура проекта\n",
    "<a href='#section1'></a>\n",
    "1. [Подготовка данных](#section1)  \n",
    "    1.1. [Импорт библиотек](#section1.1)  \n",
    "    1.2. [Загрузка данных](#section1.2)   \n",
    "    1.3. [Первичных осмотр](#section1.3)  \n",
    "    1.4. [Выводы по главе 1](#section1.4)  \n",
    "<a href='#section2'></a>  \n",
    "2. [Анализ данных](#section2)  \n",
    "    2.1. [Обработка дубликатов](#section2.1)  \n",
    "    2.2. [Оценка важности признаков](#section2.2)  \n",
    "    2.3. [Обработка пропусков](#section2.3)  \n",
    "    2.4. [Работа с числовыми признаками](#section2.4)      \n",
    "    2.5. [Работа с категориальными признаками](#section2.5)  \n",
    "    2.6. [Выводы по главе 2](#section2.6)  \n",
    "<a href='#section3'></a>  \n",
    "3. [Построение модели](#section3)  \n",
    "    3.1. [Подготовка данных к обучению](#section3.1)  \n",
    "    3.2. [LinearRegression](#section3.2)  \n",
    "    3.3. [RandomForestRegressor](#section3.3)  \n",
    "    3.4. [LGBMRegressor](#section3.4)  \n",
    "    3.5. [Выводы по главе 3](#section3.5)  \n",
    "<a href='#section4'></a>  \n",
    "4. [Выводы исследования](#section4)  \n",
    "____\n",
    "____"
   ]
  },
  {
   "cell_type": "markdown",
   "metadata": {},
   "source": [
    "<a id='section1'></a>\n",
    "## 1. Первичный осмотр данных"
   ]
  },
  {
   "cell_type": "markdown",
   "metadata": {},
   "source": [
    "<a id='section1.1'></a>\n",
    "### 1.1 Импорт библиотек"
   ]
  },
  {
   "cell_type": "code",
   "execution_count": 1,
   "metadata": {},
   "outputs": [],
   "source": [
    "import numpy as np\n",
    "import pandas as pd\n",
    "# Графика\n",
    "import matplotlib.pyplot as plt\n",
    "import seaborn as sns\n",
    "# Модели\n",
    "from sklearn.linear_model import LinearRegression\n",
    "from sklearn.ensemble import RandomForestRegressor\n",
    "from lightgbm import LGBMRegressor\n",
    "# Инструменты\n",
    "from sklearn.dummy import DummyRegressor\n",
    "from sklearn.metrics import mean_squared_error as mse\n",
    "from sklearn.metrics import make_scorer\n",
    "from sklearn.preprocessing import StandardScaler, LabelEncoder\n",
    "from sklearn.model_selection import cross_val_score, GridSearchCV\n",
    "from time import time\n",
    "import os\n",
    "# Sugar\n",
    "from ipywidgets import IntProgress\n",
    "from IPython.display import display\n",
    "import warnings \n",
    "warnings.filterwarnings('ignore')\n",
    "%matplotlib inline\n",
    "sns.set_style('darkgrid')\n",
    "sns.set_context(\"paper\")"
   ]
  },
  {
   "cell_type": "markdown",
   "metadata": {},
   "source": [
    "<a id='section1.2'></a>\n",
    "### 1.2 Загрузка данных"
   ]
  },
  {
   "cell_type": "code",
   "execution_count": 2,
   "metadata": {},
   "outputs": [],
   "source": [
    "def read_data(filename=\"autos.csv\", foldername=\"datasets\"):\n",
    "    filepath = os.sep + foldername + os.sep + filename\n",
    "    data = pd.read_csv(filepath)\n",
    "    return data"
   ]
  },
  {
   "cell_type": "code",
   "execution_count": 3,
   "metadata": {},
   "outputs": [
    {
     "data": {
      "text/html": [
       "<div>\n",
       "<style scoped>\n",
       "    .dataframe tbody tr th:only-of-type {\n",
       "        vertical-align: middle;\n",
       "    }\n",
       "\n",
       "    .dataframe tbody tr th {\n",
       "        vertical-align: top;\n",
       "    }\n",
       "\n",
       "    .dataframe thead th {\n",
       "        text-align: right;\n",
       "    }\n",
       "</style>\n",
       "<table border=\"1\" class=\"dataframe\">\n",
       "  <thead>\n",
       "    <tr style=\"text-align: right;\">\n",
       "      <th></th>\n",
       "      <th>DateCrawled</th>\n",
       "      <th>Price</th>\n",
       "      <th>VehicleType</th>\n",
       "      <th>RegistrationYear</th>\n",
       "      <th>Gearbox</th>\n",
       "      <th>Power</th>\n",
       "      <th>Model</th>\n",
       "      <th>Kilometer</th>\n",
       "      <th>RegistrationMonth</th>\n",
       "      <th>FuelType</th>\n",
       "      <th>Brand</th>\n",
       "      <th>NotRepaired</th>\n",
       "      <th>DateCreated</th>\n",
       "      <th>NumberOfPictures</th>\n",
       "      <th>PostalCode</th>\n",
       "      <th>LastSeen</th>\n",
       "    </tr>\n",
       "  </thead>\n",
       "  <tbody>\n",
       "    <tr>\n",
       "      <td>0</td>\n",
       "      <td>2016-03-24 11:52:17</td>\n",
       "      <td>480</td>\n",
       "      <td>NaN</td>\n",
       "      <td>1993</td>\n",
       "      <td>manual</td>\n",
       "      <td>0</td>\n",
       "      <td>golf</td>\n",
       "      <td>150000</td>\n",
       "      <td>0</td>\n",
       "      <td>petrol</td>\n",
       "      <td>volkswagen</td>\n",
       "      <td>NaN</td>\n",
       "      <td>2016-03-24 00:00:00</td>\n",
       "      <td>0</td>\n",
       "      <td>70435</td>\n",
       "      <td>2016-04-07 03:16:57</td>\n",
       "    </tr>\n",
       "    <tr>\n",
       "      <td>1</td>\n",
       "      <td>2016-03-24 10:58:45</td>\n",
       "      <td>18300</td>\n",
       "      <td>coupe</td>\n",
       "      <td>2011</td>\n",
       "      <td>manual</td>\n",
       "      <td>190</td>\n",
       "      <td>NaN</td>\n",
       "      <td>125000</td>\n",
       "      <td>5</td>\n",
       "      <td>gasoline</td>\n",
       "      <td>audi</td>\n",
       "      <td>yes</td>\n",
       "      <td>2016-03-24 00:00:00</td>\n",
       "      <td>0</td>\n",
       "      <td>66954</td>\n",
       "      <td>2016-04-07 01:46:50</td>\n",
       "    </tr>\n",
       "    <tr>\n",
       "      <td>2</td>\n",
       "      <td>2016-03-14 12:52:21</td>\n",
       "      <td>9800</td>\n",
       "      <td>suv</td>\n",
       "      <td>2004</td>\n",
       "      <td>auto</td>\n",
       "      <td>163</td>\n",
       "      <td>grand</td>\n",
       "      <td>125000</td>\n",
       "      <td>8</td>\n",
       "      <td>gasoline</td>\n",
       "      <td>jeep</td>\n",
       "      <td>NaN</td>\n",
       "      <td>2016-03-14 00:00:00</td>\n",
       "      <td>0</td>\n",
       "      <td>90480</td>\n",
       "      <td>2016-04-05 12:47:46</td>\n",
       "    </tr>\n",
       "    <tr>\n",
       "      <td>3</td>\n",
       "      <td>2016-03-17 16:54:04</td>\n",
       "      <td>1500</td>\n",
       "      <td>small</td>\n",
       "      <td>2001</td>\n",
       "      <td>manual</td>\n",
       "      <td>75</td>\n",
       "      <td>golf</td>\n",
       "      <td>150000</td>\n",
       "      <td>6</td>\n",
       "      <td>petrol</td>\n",
       "      <td>volkswagen</td>\n",
       "      <td>no</td>\n",
       "      <td>2016-03-17 00:00:00</td>\n",
       "      <td>0</td>\n",
       "      <td>91074</td>\n",
       "      <td>2016-03-17 17:40:17</td>\n",
       "    </tr>\n",
       "    <tr>\n",
       "      <td>4</td>\n",
       "      <td>2016-03-31 17:25:20</td>\n",
       "      <td>3600</td>\n",
       "      <td>small</td>\n",
       "      <td>2008</td>\n",
       "      <td>manual</td>\n",
       "      <td>69</td>\n",
       "      <td>fabia</td>\n",
       "      <td>90000</td>\n",
       "      <td>7</td>\n",
       "      <td>gasoline</td>\n",
       "      <td>skoda</td>\n",
       "      <td>no</td>\n",
       "      <td>2016-03-31 00:00:00</td>\n",
       "      <td>0</td>\n",
       "      <td>60437</td>\n",
       "      <td>2016-04-06 10:17:21</td>\n",
       "    </tr>\n",
       "  </tbody>\n",
       "</table>\n",
       "</div>"
      ],
      "text/plain": [
       "           DateCrawled  Price VehicleType  RegistrationYear Gearbox  Power  \\\n",
       "0  2016-03-24 11:52:17    480         NaN              1993  manual      0   \n",
       "1  2016-03-24 10:58:45  18300       coupe              2011  manual    190   \n",
       "2  2016-03-14 12:52:21   9800         suv              2004    auto    163   \n",
       "3  2016-03-17 16:54:04   1500       small              2001  manual     75   \n",
       "4  2016-03-31 17:25:20   3600       small              2008  manual     69   \n",
       "\n",
       "   Model  Kilometer  RegistrationMonth  FuelType       Brand NotRepaired  \\\n",
       "0   golf     150000                  0    petrol  volkswagen         NaN   \n",
       "1    NaN     125000                  5  gasoline        audi         yes   \n",
       "2  grand     125000                  8  gasoline        jeep         NaN   \n",
       "3   golf     150000                  6    petrol  volkswagen          no   \n",
       "4  fabia      90000                  7  gasoline       skoda          no   \n",
       "\n",
       "           DateCreated  NumberOfPictures  PostalCode             LastSeen  \n",
       "0  2016-03-24 00:00:00                 0       70435  2016-04-07 03:16:57  \n",
       "1  2016-03-24 00:00:00                 0       66954  2016-04-07 01:46:50  \n",
       "2  2016-03-14 00:00:00                 0       90480  2016-04-05 12:47:46  \n",
       "3  2016-03-17 00:00:00                 0       91074  2016-03-17 17:40:17  \n",
       "4  2016-03-31 00:00:00                 0       60437  2016-04-06 10:17:21  "
      ]
     },
     "execution_count": 3,
     "metadata": {},
     "output_type": "execute_result"
    }
   ],
   "source": [
    "data = read_data()\n",
    "data.head()"
   ]
  },
  {
   "cell_type": "markdown",
   "metadata": {},
   "source": [
    "<a id='section1.3'></a>\n",
    "### 1.3 Первичный осмотр"
   ]
  },
  {
   "cell_type": "code",
   "execution_count": 4,
   "metadata": {
    "scrolled": true
   },
   "outputs": [
    {
     "name": "stdout",
     "output_type": "stream",
     "text": [
      "<class 'pandas.core.frame.DataFrame'>\n",
      "RangeIndex: 354369 entries, 0 to 354368\n",
      "Data columns (total 16 columns):\n",
      "DateCrawled          354369 non-null object\n",
      "Price                354369 non-null int64\n",
      "VehicleType          316879 non-null object\n",
      "RegistrationYear     354369 non-null int64\n",
      "Gearbox              334536 non-null object\n",
      "Power                354369 non-null int64\n",
      "Model                334664 non-null object\n",
      "Kilometer            354369 non-null int64\n",
      "RegistrationMonth    354369 non-null int64\n",
      "FuelType             321474 non-null object\n",
      "Brand                354369 non-null object\n",
      "NotRepaired          283215 non-null object\n",
      "DateCreated          354369 non-null object\n",
      "NumberOfPictures     354369 non-null int64\n",
      "PostalCode           354369 non-null int64\n",
      "LastSeen             354369 non-null object\n",
      "dtypes: int64(7), object(9)\n",
      "memory usage: 43.3+ MB\n"
     ]
    }
   ],
   "source": [
    "data.info()"
   ]
  },
  {
   "cell_type": "code",
   "execution_count": 5,
   "metadata": {},
   "outputs": [
    {
     "data": {
      "text/html": [
       "<div>\n",
       "<style scoped>\n",
       "    .dataframe tbody tr th:only-of-type {\n",
       "        vertical-align: middle;\n",
       "    }\n",
       "\n",
       "    .dataframe tbody tr th {\n",
       "        vertical-align: top;\n",
       "    }\n",
       "\n",
       "    .dataframe thead th {\n",
       "        text-align: right;\n",
       "    }\n",
       "</style>\n",
       "<table border=\"1\" class=\"dataframe\">\n",
       "  <thead>\n",
       "    <tr style=\"text-align: right;\">\n",
       "      <th></th>\n",
       "      <th>Price</th>\n",
       "      <th>RegistrationYear</th>\n",
       "      <th>Power</th>\n",
       "      <th>Kilometer</th>\n",
       "      <th>RegistrationMonth</th>\n",
       "      <th>NumberOfPictures</th>\n",
       "      <th>PostalCode</th>\n",
       "    </tr>\n",
       "  </thead>\n",
       "  <tbody>\n",
       "    <tr>\n",
       "      <td>count</td>\n",
       "      <td>354369.000000</td>\n",
       "      <td>354369.000000</td>\n",
       "      <td>354369.000000</td>\n",
       "      <td>354369.000000</td>\n",
       "      <td>354369.000000</td>\n",
       "      <td>354369.0</td>\n",
       "      <td>354369.000000</td>\n",
       "    </tr>\n",
       "    <tr>\n",
       "      <td>mean</td>\n",
       "      <td>4416.656776</td>\n",
       "      <td>2004.234448</td>\n",
       "      <td>110.094337</td>\n",
       "      <td>128211.172535</td>\n",
       "      <td>5.714645</td>\n",
       "      <td>0.0</td>\n",
       "      <td>50508.689087</td>\n",
       "    </tr>\n",
       "    <tr>\n",
       "      <td>std</td>\n",
       "      <td>4514.158514</td>\n",
       "      <td>90.227958</td>\n",
       "      <td>189.850405</td>\n",
       "      <td>37905.341530</td>\n",
       "      <td>3.726421</td>\n",
       "      <td>0.0</td>\n",
       "      <td>25783.096248</td>\n",
       "    </tr>\n",
       "    <tr>\n",
       "      <td>min</td>\n",
       "      <td>0.000000</td>\n",
       "      <td>1000.000000</td>\n",
       "      <td>0.000000</td>\n",
       "      <td>5000.000000</td>\n",
       "      <td>0.000000</td>\n",
       "      <td>0.0</td>\n",
       "      <td>1067.000000</td>\n",
       "    </tr>\n",
       "    <tr>\n",
       "      <td>25%</td>\n",
       "      <td>1050.000000</td>\n",
       "      <td>1999.000000</td>\n",
       "      <td>69.000000</td>\n",
       "      <td>125000.000000</td>\n",
       "      <td>3.000000</td>\n",
       "      <td>0.0</td>\n",
       "      <td>30165.000000</td>\n",
       "    </tr>\n",
       "    <tr>\n",
       "      <td>50%</td>\n",
       "      <td>2700.000000</td>\n",
       "      <td>2003.000000</td>\n",
       "      <td>105.000000</td>\n",
       "      <td>150000.000000</td>\n",
       "      <td>6.000000</td>\n",
       "      <td>0.0</td>\n",
       "      <td>49413.000000</td>\n",
       "    </tr>\n",
       "    <tr>\n",
       "      <td>75%</td>\n",
       "      <td>6400.000000</td>\n",
       "      <td>2008.000000</td>\n",
       "      <td>143.000000</td>\n",
       "      <td>150000.000000</td>\n",
       "      <td>9.000000</td>\n",
       "      <td>0.0</td>\n",
       "      <td>71083.000000</td>\n",
       "    </tr>\n",
       "    <tr>\n",
       "      <td>max</td>\n",
       "      <td>20000.000000</td>\n",
       "      <td>9999.000000</td>\n",
       "      <td>20000.000000</td>\n",
       "      <td>150000.000000</td>\n",
       "      <td>12.000000</td>\n",
       "      <td>0.0</td>\n",
       "      <td>99998.000000</td>\n",
       "    </tr>\n",
       "  </tbody>\n",
       "</table>\n",
       "</div>"
      ],
      "text/plain": [
       "               Price  RegistrationYear          Power      Kilometer  \\\n",
       "count  354369.000000     354369.000000  354369.000000  354369.000000   \n",
       "mean     4416.656776       2004.234448     110.094337  128211.172535   \n",
       "std      4514.158514         90.227958     189.850405   37905.341530   \n",
       "min         0.000000       1000.000000       0.000000    5000.000000   \n",
       "25%      1050.000000       1999.000000      69.000000  125000.000000   \n",
       "50%      2700.000000       2003.000000     105.000000  150000.000000   \n",
       "75%      6400.000000       2008.000000     143.000000  150000.000000   \n",
       "max     20000.000000       9999.000000   20000.000000  150000.000000   \n",
       "\n",
       "       RegistrationMonth  NumberOfPictures     PostalCode  \n",
       "count      354369.000000          354369.0  354369.000000  \n",
       "mean            5.714645               0.0   50508.689087  \n",
       "std             3.726421               0.0   25783.096248  \n",
       "min             0.000000               0.0    1067.000000  \n",
       "25%             3.000000               0.0   30165.000000  \n",
       "50%             6.000000               0.0   49413.000000  \n",
       "75%             9.000000               0.0   71083.000000  \n",
       "max            12.000000               0.0   99998.000000  "
      ]
     },
     "execution_count": 5,
     "metadata": {},
     "output_type": "execute_result"
    }
   ],
   "source": [
    "data.describe()"
   ]
  },
  {
   "cell_type": "code",
   "execution_count": 6,
   "metadata": {},
   "outputs": [
    {
     "data": {
      "text/plain": [
       "(354369, 16)"
      ]
     },
     "execution_count": 6,
     "metadata": {},
     "output_type": "execute_result"
    }
   ],
   "source": [
    "data.shape"
   ]
  },
  {
   "cell_type": "markdown",
   "metadata": {},
   "source": [
    "<a id='section1.4'></a>\n",
    "### 1.4 Выводы по главе 1"
   ]
  },
  {
   "cell_type": "markdown",
   "metadata": {},
   "source": [
    "1. Данные с пропусками;\n",
    "2. Количественные и численные признаки присутствуют;\n",
    "3. Есть лишние признаки относительно поставленной задачи:\n",
    "    * `DateCrawled`;\n",
    "    * `RegistrationMonth`;\n",
    "    * `PostalCode`;\n",
    "    * `LastSeen`\n",
    "4. `NumberOfPictures` полностью состоит из нулей.\n",
    "5. `Power`, `Price` содержат нули."
   ]
  },
  {
   "cell_type": "markdown",
   "metadata": {},
   "source": [
    "<a id='section2'></a>\n",
    "## 2. Предобработка данных"
   ]
  },
  {
   "cell_type": "markdown",
   "metadata": {},
   "source": [
    "<a id='section2.1'></a>\n",
    "### 2.1 Обработка дубликатов"
   ]
  },
  {
   "cell_type": "code",
   "execution_count": 7,
   "metadata": {
    "scrolled": true
   },
   "outputs": [
    {
     "data": {
      "text/html": [
       "<div>\n",
       "<style scoped>\n",
       "    .dataframe tbody tr th:only-of-type {\n",
       "        vertical-align: middle;\n",
       "    }\n",
       "\n",
       "    .dataframe tbody tr th {\n",
       "        vertical-align: top;\n",
       "    }\n",
       "\n",
       "    .dataframe thead th {\n",
       "        text-align: right;\n",
       "    }\n",
       "</style>\n",
       "<table border=\"1\" class=\"dataframe\">\n",
       "  <thead>\n",
       "    <tr style=\"text-align: right;\">\n",
       "      <th></th>\n",
       "      <th>DateCrawled</th>\n",
       "      <th>Price</th>\n",
       "      <th>VehicleType</th>\n",
       "      <th>RegistrationYear</th>\n",
       "      <th>Gearbox</th>\n",
       "      <th>Power</th>\n",
       "      <th>Model</th>\n",
       "      <th>Kilometer</th>\n",
       "      <th>RegistrationMonth</th>\n",
       "      <th>FuelType</th>\n",
       "      <th>Brand</th>\n",
       "      <th>NotRepaired</th>\n",
       "      <th>DateCreated</th>\n",
       "      <th>NumberOfPictures</th>\n",
       "      <th>PostalCode</th>\n",
       "      <th>LastSeen</th>\n",
       "    </tr>\n",
       "  </thead>\n",
       "  <tbody>\n",
       "    <tr>\n",
       "      <td>171088</td>\n",
       "      <td>2016-03-08 18:42:48</td>\n",
       "      <td>1799</td>\n",
       "      <td>coupe</td>\n",
       "      <td>1999</td>\n",
       "      <td>auto</td>\n",
       "      <td>193</td>\n",
       "      <td>clk</td>\n",
       "      <td>20000</td>\n",
       "      <td>7</td>\n",
       "      <td>petrol</td>\n",
       "      <td>mercedes_benz</td>\n",
       "      <td>no</td>\n",
       "      <td>2016-03-08 00:00:00</td>\n",
       "      <td>0</td>\n",
       "      <td>89518</td>\n",
       "      <td>2016-03-09 09:46:57</td>\n",
       "    </tr>\n",
       "    <tr>\n",
       "      <td>231258</td>\n",
       "      <td>2016-03-28 00:56:10</td>\n",
       "      <td>1000</td>\n",
       "      <td>small</td>\n",
       "      <td>2002</td>\n",
       "      <td>manual</td>\n",
       "      <td>83</td>\n",
       "      <td>other</td>\n",
       "      <td>150000</td>\n",
       "      <td>1</td>\n",
       "      <td>petrol</td>\n",
       "      <td>suzuki</td>\n",
       "      <td>no</td>\n",
       "      <td>2016-03-28 00:00:00</td>\n",
       "      <td>0</td>\n",
       "      <td>66589</td>\n",
       "      <td>2016-03-28 08:46:21</td>\n",
       "    </tr>\n",
       "    <tr>\n",
       "      <td>258109</td>\n",
       "      <td>2016-04-03 09:01:15</td>\n",
       "      <td>4699</td>\n",
       "      <td>coupe</td>\n",
       "      <td>2003</td>\n",
       "      <td>auto</td>\n",
       "      <td>218</td>\n",
       "      <td>clk</td>\n",
       "      <td>125000</td>\n",
       "      <td>6</td>\n",
       "      <td>petrol</td>\n",
       "      <td>mercedes_benz</td>\n",
       "      <td>yes</td>\n",
       "      <td>2016-04-03 00:00:00</td>\n",
       "      <td>0</td>\n",
       "      <td>75196</td>\n",
       "      <td>2016-04-07 09:44:54</td>\n",
       "    </tr>\n",
       "    <tr>\n",
       "      <td>325651</td>\n",
       "      <td>2016-03-18 18:46:15</td>\n",
       "      <td>1999</td>\n",
       "      <td>wagon</td>\n",
       "      <td>2001</td>\n",
       "      <td>manual</td>\n",
       "      <td>131</td>\n",
       "      <td>passat</td>\n",
       "      <td>150000</td>\n",
       "      <td>7</td>\n",
       "      <td>gasoline</td>\n",
       "      <td>volkswagen</td>\n",
       "      <td>no</td>\n",
       "      <td>2016-03-18 00:00:00</td>\n",
       "      <td>0</td>\n",
       "      <td>36391</td>\n",
       "      <td>2016-03-18 18:46:15</td>\n",
       "    </tr>\n",
       "  </tbody>\n",
       "</table>\n",
       "</div>"
      ],
      "text/plain": [
       "                DateCrawled  Price VehicleType  RegistrationYear Gearbox  \\\n",
       "171088  2016-03-08 18:42:48   1799       coupe              1999    auto   \n",
       "231258  2016-03-28 00:56:10   1000       small              2002  manual   \n",
       "258109  2016-04-03 09:01:15   4699       coupe              2003    auto   \n",
       "325651  2016-03-18 18:46:15   1999       wagon              2001  manual   \n",
       "\n",
       "        Power   Model  Kilometer  RegistrationMonth  FuelType          Brand  \\\n",
       "171088    193     clk      20000                  7    petrol  mercedes_benz   \n",
       "231258     83   other     150000                  1    petrol         suzuki   \n",
       "258109    218     clk     125000                  6    petrol  mercedes_benz   \n",
       "325651    131  passat     150000                  7  gasoline     volkswagen   \n",
       "\n",
       "       NotRepaired          DateCreated  NumberOfPictures  PostalCode  \\\n",
       "171088          no  2016-03-08 00:00:00                 0       89518   \n",
       "231258          no  2016-03-28 00:00:00                 0       66589   \n",
       "258109         yes  2016-04-03 00:00:00                 0       75196   \n",
       "325651          no  2016-03-18 00:00:00                 0       36391   \n",
       "\n",
       "                   LastSeen  \n",
       "171088  2016-03-09 09:46:57  \n",
       "231258  2016-03-28 08:46:21  \n",
       "258109  2016-04-07 09:44:54  \n",
       "325651  2016-03-18 18:46:15  "
      ]
     },
     "execution_count": 7,
     "metadata": {},
     "output_type": "execute_result"
    }
   ],
   "source": [
    "data[data.duplicated()]"
   ]
  },
  {
   "cell_type": "code",
   "execution_count": 8,
   "metadata": {},
   "outputs": [],
   "source": [
    "def no_duplicates(data): data.drop_duplicates(inplace=True)"
   ]
  },
  {
   "cell_type": "code",
   "execution_count": 9,
   "metadata": {
    "scrolled": true
   },
   "outputs": [],
   "source": [
    "no_duplicates(data)"
   ]
  },
  {
   "cell_type": "code",
   "execution_count": 10,
   "metadata": {},
   "outputs": [
    {
     "data": {
      "text/plain": [
       "(354365, 16)"
      ]
     },
     "execution_count": 10,
     "metadata": {},
     "output_type": "execute_result"
    }
   ],
   "source": [
    "data.shape"
   ]
  },
  {
   "cell_type": "markdown",
   "metadata": {},
   "source": [
    "<a id='section2.2'></a>\n",
    "### 2.2 Оценка важности признаков"
   ]
  },
  {
   "cell_type": "code",
   "execution_count": 11,
   "metadata": {},
   "outputs": [],
   "source": [
    "def drop_useless_columns(data : pd.DataFrame, columns=[\"DateCrawled\", \"RegistrationMonth\", \"PostalCode\", \"LastSeen\", \"NumberOfPictures\"]):\n",
    "    return data.drop(columns, axis=1)"
   ]
  },
  {
   "cell_type": "code",
   "execution_count": 12,
   "metadata": {},
   "outputs": [],
   "source": [
    "# Удалим сначала бесполезные столбцы.\n",
    "data = drop_useless_columns(data)"
   ]
  },
  {
   "cell_type": "code",
   "execution_count": 13,
   "metadata": {},
   "outputs": [
    {
     "data": {
      "text/html": [
       "<div>\n",
       "<style scoped>\n",
       "    .dataframe tbody tr th:only-of-type {\n",
       "        vertical-align: middle;\n",
       "    }\n",
       "\n",
       "    .dataframe tbody tr th {\n",
       "        vertical-align: top;\n",
       "    }\n",
       "\n",
       "    .dataframe thead th {\n",
       "        text-align: right;\n",
       "    }\n",
       "</style>\n",
       "<table border=\"1\" class=\"dataframe\">\n",
       "  <thead>\n",
       "    <tr style=\"text-align: right;\">\n",
       "      <th></th>\n",
       "      <th>Price</th>\n",
       "      <th>VehicleType</th>\n",
       "      <th>RegistrationYear</th>\n",
       "      <th>Gearbox</th>\n",
       "      <th>Power</th>\n",
       "      <th>Model</th>\n",
       "      <th>Kilometer</th>\n",
       "      <th>FuelType</th>\n",
       "      <th>Brand</th>\n",
       "      <th>NotRepaired</th>\n",
       "      <th>DateCreated</th>\n",
       "    </tr>\n",
       "  </thead>\n",
       "  <tbody>\n",
       "    <tr>\n",
       "      <td>0</td>\n",
       "      <td>480</td>\n",
       "      <td>NaN</td>\n",
       "      <td>1993</td>\n",
       "      <td>manual</td>\n",
       "      <td>0</td>\n",
       "      <td>golf</td>\n",
       "      <td>150000</td>\n",
       "      <td>petrol</td>\n",
       "      <td>volkswagen</td>\n",
       "      <td>NaN</td>\n",
       "      <td>2016-03-24 00:00:00</td>\n",
       "    </tr>\n",
       "    <tr>\n",
       "      <td>1</td>\n",
       "      <td>18300</td>\n",
       "      <td>coupe</td>\n",
       "      <td>2011</td>\n",
       "      <td>manual</td>\n",
       "      <td>190</td>\n",
       "      <td>NaN</td>\n",
       "      <td>125000</td>\n",
       "      <td>gasoline</td>\n",
       "      <td>audi</td>\n",
       "      <td>yes</td>\n",
       "      <td>2016-03-24 00:00:00</td>\n",
       "    </tr>\n",
       "    <tr>\n",
       "      <td>2</td>\n",
       "      <td>9800</td>\n",
       "      <td>suv</td>\n",
       "      <td>2004</td>\n",
       "      <td>auto</td>\n",
       "      <td>163</td>\n",
       "      <td>grand</td>\n",
       "      <td>125000</td>\n",
       "      <td>gasoline</td>\n",
       "      <td>jeep</td>\n",
       "      <td>NaN</td>\n",
       "      <td>2016-03-14 00:00:00</td>\n",
       "    </tr>\n",
       "    <tr>\n",
       "      <td>3</td>\n",
       "      <td>1500</td>\n",
       "      <td>small</td>\n",
       "      <td>2001</td>\n",
       "      <td>manual</td>\n",
       "      <td>75</td>\n",
       "      <td>golf</td>\n",
       "      <td>150000</td>\n",
       "      <td>petrol</td>\n",
       "      <td>volkswagen</td>\n",
       "      <td>no</td>\n",
       "      <td>2016-03-17 00:00:00</td>\n",
       "    </tr>\n",
       "    <tr>\n",
       "      <td>4</td>\n",
       "      <td>3600</td>\n",
       "      <td>small</td>\n",
       "      <td>2008</td>\n",
       "      <td>manual</td>\n",
       "      <td>69</td>\n",
       "      <td>fabia</td>\n",
       "      <td>90000</td>\n",
       "      <td>gasoline</td>\n",
       "      <td>skoda</td>\n",
       "      <td>no</td>\n",
       "      <td>2016-03-31 00:00:00</td>\n",
       "    </tr>\n",
       "  </tbody>\n",
       "</table>\n",
       "</div>"
      ],
      "text/plain": [
       "   Price VehicleType  RegistrationYear Gearbox  Power  Model  Kilometer  \\\n",
       "0    480         NaN              1993  manual      0   golf     150000   \n",
       "1  18300       coupe              2011  manual    190    NaN     125000   \n",
       "2   9800         suv              2004    auto    163  grand     125000   \n",
       "3   1500       small              2001  manual     75   golf     150000   \n",
       "4   3600       small              2008  manual     69  fabia      90000   \n",
       "\n",
       "   FuelType       Brand NotRepaired          DateCreated  \n",
       "0    petrol  volkswagen         NaN  2016-03-24 00:00:00  \n",
       "1  gasoline        audi         yes  2016-03-24 00:00:00  \n",
       "2  gasoline        jeep         NaN  2016-03-14 00:00:00  \n",
       "3    petrol  volkswagen          no  2016-03-17 00:00:00  \n",
       "4  gasoline       skoda          no  2016-03-31 00:00:00  "
      ]
     },
     "execution_count": 13,
     "metadata": {},
     "output_type": "execute_result"
    }
   ],
   "source": [
    "data.head()"
   ]
  },
  {
   "cell_type": "markdown",
   "metadata": {},
   "source": [
    "<a id='section2.3'></a>\n",
    "### 2.3 Обработка пропусков"
   ]
  },
  {
   "cell_type": "code",
   "execution_count": 14,
   "metadata": {},
   "outputs": [],
   "source": [
    "# Посмотрим на доли пропусков\n",
    "def get_nans_pivot(data):\n",
    "    return pd.DataFrame(\n",
    "        data = {\n",
    "            \"NaNs number\" : data.isna().sum(),\n",
    "            \"NaNs proportion\" : (data.isna().sum() / data.shape[0]).round(4),\n",
    "            \"Column type\" : data.dtypes\n",
    "        }\n",
    "    ).sort_values(\"NaNs proportion\", ascending=False)"
   ]
  },
  {
   "cell_type": "code",
   "execution_count": 15,
   "metadata": {},
   "outputs": [
    {
     "data": {
      "text/html": [
       "<div>\n",
       "<style scoped>\n",
       "    .dataframe tbody tr th:only-of-type {\n",
       "        vertical-align: middle;\n",
       "    }\n",
       "\n",
       "    .dataframe tbody tr th {\n",
       "        vertical-align: top;\n",
       "    }\n",
       "\n",
       "    .dataframe thead th {\n",
       "        text-align: right;\n",
       "    }\n",
       "</style>\n",
       "<table border=\"1\" class=\"dataframe\">\n",
       "  <thead>\n",
       "    <tr style=\"text-align: right;\">\n",
       "      <th></th>\n",
       "      <th>NaNs number</th>\n",
       "      <th>NaNs proportion</th>\n",
       "      <th>Column type</th>\n",
       "    </tr>\n",
       "  </thead>\n",
       "  <tbody>\n",
       "    <tr>\n",
       "      <td>NotRepaired</td>\n",
       "      <td>71154</td>\n",
       "      <td>0.2008</td>\n",
       "      <td>object</td>\n",
       "    </tr>\n",
       "    <tr>\n",
       "      <td>VehicleType</td>\n",
       "      <td>37490</td>\n",
       "      <td>0.1058</td>\n",
       "      <td>object</td>\n",
       "    </tr>\n",
       "    <tr>\n",
       "      <td>FuelType</td>\n",
       "      <td>32895</td>\n",
       "      <td>0.0928</td>\n",
       "      <td>object</td>\n",
       "    </tr>\n",
       "    <tr>\n",
       "      <td>Gearbox</td>\n",
       "      <td>19833</td>\n",
       "      <td>0.0560</td>\n",
       "      <td>object</td>\n",
       "    </tr>\n",
       "    <tr>\n",
       "      <td>Model</td>\n",
       "      <td>19705</td>\n",
       "      <td>0.0556</td>\n",
       "      <td>object</td>\n",
       "    </tr>\n",
       "    <tr>\n",
       "      <td>Price</td>\n",
       "      <td>0</td>\n",
       "      <td>0.0000</td>\n",
       "      <td>int64</td>\n",
       "    </tr>\n",
       "    <tr>\n",
       "      <td>RegistrationYear</td>\n",
       "      <td>0</td>\n",
       "      <td>0.0000</td>\n",
       "      <td>int64</td>\n",
       "    </tr>\n",
       "    <tr>\n",
       "      <td>Power</td>\n",
       "      <td>0</td>\n",
       "      <td>0.0000</td>\n",
       "      <td>int64</td>\n",
       "    </tr>\n",
       "    <tr>\n",
       "      <td>Kilometer</td>\n",
       "      <td>0</td>\n",
       "      <td>0.0000</td>\n",
       "      <td>int64</td>\n",
       "    </tr>\n",
       "    <tr>\n",
       "      <td>Brand</td>\n",
       "      <td>0</td>\n",
       "      <td>0.0000</td>\n",
       "      <td>object</td>\n",
       "    </tr>\n",
       "    <tr>\n",
       "      <td>DateCreated</td>\n",
       "      <td>0</td>\n",
       "      <td>0.0000</td>\n",
       "      <td>object</td>\n",
       "    </tr>\n",
       "  </tbody>\n",
       "</table>\n",
       "</div>"
      ],
      "text/plain": [
       "                  NaNs number  NaNs proportion Column type\n",
       "NotRepaired             71154           0.2008      object\n",
       "VehicleType             37490           0.1058      object\n",
       "FuelType                32895           0.0928      object\n",
       "Gearbox                 19833           0.0560      object\n",
       "Model                   19705           0.0556      object\n",
       "Price                       0           0.0000       int64\n",
       "RegistrationYear            0           0.0000       int64\n",
       "Power                       0           0.0000       int64\n",
       "Kilometer                   0           0.0000       int64\n",
       "Brand                       0           0.0000      object\n",
       "DateCreated                 0           0.0000      object"
      ]
     },
     "execution_count": 15,
     "metadata": {},
     "output_type": "execute_result"
    }
   ],
   "source": [
    "get_nans_pivot(data)"
   ]
  },
  {
   "cell_type": "markdown",
   "metadata": {},
   "source": [
    "Оказывается все пропуски сконцентрированы в категориальных признаках. Как же лень иногда заполнять анкету полностью😉\n",
    "Спишем пропуски в отдельную категорию лени пользователей `unknown`. Всё-таки много пропусков, не хотелось бы перекоса от заполнения средним/медианой. "
   ]
  },
  {
   "cell_type": "code",
   "execution_count": 16,
   "metadata": {},
   "outputs": [],
   "source": [
    "def fill_nans_as_value(data : pd.DataFrame, value : str):\n",
    "    nans_cols = data.isna().sum().index\n",
    "    for col in nans_cols:\n",
    "        data[col].fillna(value=value, inplace=True)"
   ]
  },
  {
   "cell_type": "code",
   "execution_count": 17,
   "metadata": {},
   "outputs": [],
   "source": [
    "fill_nans_as_value(data, value=\"unknown\")"
   ]
  },
  {
   "cell_type": "code",
   "execution_count": 18,
   "metadata": {
    "scrolled": true
   },
   "outputs": [
    {
     "data": {
      "text/html": [
       "<div>\n",
       "<style scoped>\n",
       "    .dataframe tbody tr th:only-of-type {\n",
       "        vertical-align: middle;\n",
       "    }\n",
       "\n",
       "    .dataframe tbody tr th {\n",
       "        vertical-align: top;\n",
       "    }\n",
       "\n",
       "    .dataframe thead th {\n",
       "        text-align: right;\n",
       "    }\n",
       "</style>\n",
       "<table border=\"1\" class=\"dataframe\">\n",
       "  <thead>\n",
       "    <tr style=\"text-align: right;\">\n",
       "      <th></th>\n",
       "      <th>NaNs number</th>\n",
       "      <th>NaNs proportion</th>\n",
       "      <th>Column type</th>\n",
       "    </tr>\n",
       "  </thead>\n",
       "  <tbody>\n",
       "    <tr>\n",
       "      <td>Price</td>\n",
       "      <td>0</td>\n",
       "      <td>0.0</td>\n",
       "      <td>int64</td>\n",
       "    </tr>\n",
       "    <tr>\n",
       "      <td>VehicleType</td>\n",
       "      <td>0</td>\n",
       "      <td>0.0</td>\n",
       "      <td>object</td>\n",
       "    </tr>\n",
       "    <tr>\n",
       "      <td>RegistrationYear</td>\n",
       "      <td>0</td>\n",
       "      <td>0.0</td>\n",
       "      <td>int64</td>\n",
       "    </tr>\n",
       "    <tr>\n",
       "      <td>Gearbox</td>\n",
       "      <td>0</td>\n",
       "      <td>0.0</td>\n",
       "      <td>object</td>\n",
       "    </tr>\n",
       "    <tr>\n",
       "      <td>Power</td>\n",
       "      <td>0</td>\n",
       "      <td>0.0</td>\n",
       "      <td>int64</td>\n",
       "    </tr>\n",
       "    <tr>\n",
       "      <td>Model</td>\n",
       "      <td>0</td>\n",
       "      <td>0.0</td>\n",
       "      <td>object</td>\n",
       "    </tr>\n",
       "    <tr>\n",
       "      <td>Kilometer</td>\n",
       "      <td>0</td>\n",
       "      <td>0.0</td>\n",
       "      <td>int64</td>\n",
       "    </tr>\n",
       "    <tr>\n",
       "      <td>FuelType</td>\n",
       "      <td>0</td>\n",
       "      <td>0.0</td>\n",
       "      <td>object</td>\n",
       "    </tr>\n",
       "    <tr>\n",
       "      <td>Brand</td>\n",
       "      <td>0</td>\n",
       "      <td>0.0</td>\n",
       "      <td>object</td>\n",
       "    </tr>\n",
       "    <tr>\n",
       "      <td>NotRepaired</td>\n",
       "      <td>0</td>\n",
       "      <td>0.0</td>\n",
       "      <td>object</td>\n",
       "    </tr>\n",
       "    <tr>\n",
       "      <td>DateCreated</td>\n",
       "      <td>0</td>\n",
       "      <td>0.0</td>\n",
       "      <td>object</td>\n",
       "    </tr>\n",
       "  </tbody>\n",
       "</table>\n",
       "</div>"
      ],
      "text/plain": [
       "                  NaNs number  NaNs proportion Column type\n",
       "Price                       0              0.0       int64\n",
       "VehicleType                 0              0.0      object\n",
       "RegistrationYear            0              0.0       int64\n",
       "Gearbox                     0              0.0      object\n",
       "Power                       0              0.0       int64\n",
       "Model                       0              0.0      object\n",
       "Kilometer                   0              0.0       int64\n",
       "FuelType                    0              0.0      object\n",
       "Brand                       0              0.0      object\n",
       "NotRepaired                 0              0.0      object\n",
       "DateCreated                 0              0.0      object"
      ]
     },
     "execution_count": 18,
     "metadata": {},
     "output_type": "execute_result"
    }
   ],
   "source": [
    "# Check\n",
    "get_nans_pivot(data)"
   ]
  },
  {
   "cell_type": "markdown",
   "metadata": {},
   "source": [
    "<a id='section2.4'></a>\n",
    "### 2.4 Работа с числовыми признаками"
   ]
  },
  {
   "cell_type": "code",
   "execution_count": 19,
   "metadata": {},
   "outputs": [],
   "source": [
    "# Посмотрим на распределения для начала\n",
    "def get_distribution(series : pd.Series):\n",
    "    \n",
    "    plt.figure(figsize=(16, 10))\n",
    "    ax = sns.distplot(series, bins=100)\n",
    "    ax.set_xlabel(series.name, fontsize=12)\n",
    "    plt.title('Distribution of %s column'%series.name, fontsize=15)\n",
    "    plt.figure(figsize=(10, 10))\n",
    "    ax = sns.boxplot(y = series)\n",
    "    ax.set_ylabel(series.name, fontsize=12)"
   ]
  },
  {
   "cell_type": "code",
   "execution_count": 20,
   "metadata": {
    "scrolled": false
   },
   "outputs": [
    {
     "data": {
      "image/png": "[encoded data removed]",
      "text/plain": [
       "<Figure size 1152x720 with 1 Axes>"
      ]
     },
     "metadata": {},
     "output_type": "display_data"
    },
    {
     "data": {
      "image/png": "[encoded data removed]",
      "text/plain": [
       "<Figure size 720x720 with 1 Axes>"
      ]
     },
     "metadata": {},
     "output_type": "display_data"
    }
   ],
   "source": [
    "get_distribution(data.Price)"
   ]
  },
  {
   "cell_type": "markdown",
   "metadata": {},
   "source": [
    "Посмотрим на отклонения выше 0.95-квантили и близкие к нулю."
   ]
  },
  {
   "cell_type": "code",
   "execution_count": 21,
   "metadata": {},
   "outputs": [],
   "source": [
    "def drop_column_tails(data : pd.DataFrame, column : str):\n",
    "    q_05, q_95 = data[column].quantile(0.05), data[column].quantile(0.95)\n",
    "    data = data[(data[column] >= q_05) & (data[column] <= q_95)]\n",
    "    return data"
   ]
  },
  {
   "cell_type": "code",
   "execution_count": 22,
   "metadata": {
    "scrolled": true
   },
   "outputs": [],
   "source": [
    "data = drop_column_tails(data, \"Price\")"
   ]
  },
  {
   "cell_type": "code",
   "execution_count": 23,
   "metadata": {},
   "outputs": [
    {
     "data": {
      "image/png": "[encoded data removed]",
      "text/plain": [
       "<Figure size 1152x720 with 1 Axes>"
      ]
     },
     "metadata": {},
     "output_type": "display_data"
    },
    {
     "data": {
      "image/png": "[encoded data removed]",
      "text/plain": [
       "<Figure size 720x720 with 1 Axes>"
      ]
     },
     "metadata": {},
     "output_type": "display_data"
    }
   ],
   "source": [
    "get_distribution(data.Price)"
   ]
  },
  {
   "cell_type": "markdown",
   "metadata": {},
   "source": [
    "Так лучше. А то странная продажа авто по нулевой цене получалась)"
   ]
  },
  {
   "cell_type": "code",
   "execution_count": 24,
   "metadata": {},
   "outputs": [
    {
     "data": {
      "text/plain": [
       "(319251, 11)"
      ]
     },
     "execution_count": 24,
     "metadata": {},
     "output_type": "execute_result"
    }
   ],
   "source": [
    "data.shape"
   ]
  },
  {
   "cell_type": "code",
   "execution_count": 25,
   "metadata": {
    "scrolled": false
   },
   "outputs": [
    {
     "data": {
      "image/png": "[encoded data removed]",
      "text/plain": [
       "<Figure size 1152x720 with 1 Axes>"
      ]
     },
     "metadata": {},
     "output_type": "display_data"
    },
    {
     "data": {
      "image/png": "[encoded data removed]",
      "text/plain": [
       "<Figure size 720x720 with 1 Axes>"
      ]
     },
     "metadata": {},
     "output_type": "display_data"
    }
   ],
   "source": [
    "get_distribution(data.Power)\n",
    "plt.ylim(-10, 1500);"
   ]
  },
  {
   "cell_type": "markdown",
   "metadata": {},
   "source": [
    "Опять нули. Теперь только в лошадиных силах. \n",
    "Обработаем эти нули: замедим медианными значением в зависимости от марки, модели, типе топлива и пробеге."
   ]
  },
  {
   "cell_type": "code",
   "execution_count": 26,
   "metadata": {},
   "outputs": [],
   "source": [
    "def fill_column_nans_by_method(data : pd.DataFrame, \n",
    "                              column : str, \n",
    "                              features_columns=[\"Brand\", \"Model\", \"FuelType\", \"Kilometer\"], \n",
    "                              method=\"median\"):\n",
    "    if column in features_columns:\n",
    "        raise AtributeError(\"Column name in fillna features_columns. Please change the column or features_columns values.\")\n",
    "    method_column = data.groupby(features_columns)[column].transform(method)\n",
    "    data[column] = (data[column]\n",
    "              .replace(0, np.nan)\n",
    "              .fillna(method_column)\n",
    "    );"
   ]
  },
  {
   "cell_type": "code",
   "execution_count": 27,
   "metadata": {},
   "outputs": [
    {
     "data": {
      "image/png": "[encoded data removed]",
      "text/plain": [
       "<Figure size 1152x720 with 1 Axes>"
      ]
     },
     "metadata": {},
     "output_type": "display_data"
    },
    {
     "data": {
      "image/png": "[encoded data removed]",
      "text/plain": [
       "<Figure size 720x720 with 1 Axes>"
      ]
     },
     "metadata": {},
     "output_type": "display_data"
    }
   ],
   "source": [
    "fill_column_nans_by_method(data, column=\"Power\")\n",
    "get_distribution(data.Power)\n",
    "plt.ylim(-10, 1500);"
   ]
  },
  {
   "cell_type": "markdown",
   "metadata": {},
   "source": [
    "Остался пробег и можно будет заканчивать с предобработкой численных признаков😊"
   ]
  },
  {
   "cell_type": "code",
   "execution_count": 28,
   "metadata": {},
   "outputs": [
    {
     "data": {
      "image/png": "[encoded data removed]",
      "text/plain": [
       "<Figure size 1152x720 with 1 Axes>"
      ]
     },
     "metadata": {},
     "output_type": "display_data"
    },
    {
     "data": {
      "image/png": "[encoded data removed]",
      "text/plain": [
       "<Figure size 720x720 with 1 Axes>"
      ]
     },
     "metadata": {},
     "output_type": "display_data"
    }
   ],
   "source": [
    "get_distribution(data.Kilometer)"
   ]
  },
  {
   "cell_type": "markdown",
   "metadata": {},
   "source": [
    "А тут от нас ничего не требуется. Откровенной гадости нет. \n",
    "Видим, что, в основной массе, автомобили свыше 90.000 км стоят на продаже, а это сильно похоже на правду. "
   ]
  },
  {
   "cell_type": "markdown",
   "metadata": {},
   "source": [
    "<a id='section2.5'></a>\n",
    "### 2.5 Работа с категориальными признаками"
   ]
  },
  {
   "cell_type": "code",
   "execution_count": 29,
   "metadata": {},
   "outputs": [
    {
     "data": {
      "text/plain": [
       "Price                 int64\n",
       "VehicleType          object\n",
       "RegistrationYear      int64\n",
       "Gearbox              object\n",
       "Power               float64\n",
       "Model                object\n",
       "Kilometer             int64\n",
       "FuelType             object\n",
       "Brand                object\n",
       "NotRepaired          object\n",
       "DateCreated          object\n",
       "dtype: object"
      ]
     },
     "execution_count": 29,
     "metadata": {},
     "output_type": "execute_result"
    }
   ],
   "source": [
    "data.dtypes"
   ]
  },
  {
   "cell_type": "markdown",
   "metadata": {},
   "source": [
    "Ну такое количество объектов в типах нашу модель не осчастливит. Поэтому план такой:\n",
    "1. Напишем функцию по переводу в строковый формат;\n",
    "2. Перекодируем в числовой. \n",
    "Тут конечно можно и `Ohe` воспользоваться, но он нас разорит таким количеством столбцов (одних марок авто с моделями сколько). Лучше `LabelEncoder` запрячь в это дело;\n",
    "3. Масштабируем признаки."
   ]
  },
  {
   "cell_type": "code",
   "execution_count": 30,
   "metadata": {},
   "outputs": [],
   "source": [
    "def obj_to_str(data : pd.DataFrame): \n",
    "    categorical_columns = data.select_dtypes(object).columns\n",
    "    data[categorical_columns] = data[categorical_columns].astype('str')"
   ]
  },
  {
   "cell_type": "code",
   "execution_count": 31,
   "metadata": {},
   "outputs": [],
   "source": [
    "obj_to_str(data)"
   ]
  },
  {
   "cell_type": "code",
   "execution_count": 32,
   "metadata": {},
   "outputs": [],
   "source": [
    "def encode_categorical(data : pd.DataFrame):\n",
    "    categorical_columns = data.select_dtypes(object)\n",
    "    le = LabelEncoder()\n",
    "    for column in categorical_columns:\n",
    "        data[column] = le.fit_transform(data[column])"
   ]
  },
  {
   "cell_type": "code",
   "execution_count": 33,
   "metadata": {},
   "outputs": [],
   "source": [
    "encode_categorical(data)"
   ]
  },
  {
   "cell_type": "code",
   "execution_count": 34,
   "metadata": {},
   "outputs": [],
   "source": [
    "def scaled_data(data : pd.DataFrame, scaler=StandardScaler): \n",
    "    return pd.DataFrame(\n",
    "        data = scaler().fit_transform(data),\n",
    "        columns = data.columns\n",
    "    )"
   ]
  },
  {
   "cell_type": "code",
   "execution_count": 35,
   "metadata": {},
   "outputs": [
    {
     "data": {
      "text/html": [
       "<div>\n",
       "<style scoped>\n",
       "    .dataframe tbody tr th:only-of-type {\n",
       "        vertical-align: middle;\n",
       "    }\n",
       "\n",
       "    .dataframe tbody tr th {\n",
       "        vertical-align: top;\n",
       "    }\n",
       "\n",
       "    .dataframe thead th {\n",
       "        text-align: right;\n",
       "    }\n",
       "</style>\n",
       "<table border=\"1\" class=\"dataframe\">\n",
       "  <thead>\n",
       "    <tr style=\"text-align: right;\">\n",
       "      <th></th>\n",
       "      <th>Price</th>\n",
       "      <th>VehicleType</th>\n",
       "      <th>RegistrationYear</th>\n",
       "      <th>Gearbox</th>\n",
       "      <th>Power</th>\n",
       "      <th>Model</th>\n",
       "      <th>Kilometer</th>\n",
       "      <th>FuelType</th>\n",
       "      <th>Brand</th>\n",
       "      <th>NotRepaired</th>\n",
       "      <th>DateCreated</th>\n",
       "    </tr>\n",
       "  </thead>\n",
       "  <tbody>\n",
       "    <tr>\n",
       "      <td>0</td>\n",
       "      <td>-0.988578</td>\n",
       "      <td>0.949036</td>\n",
       "      <td>-0.161377</td>\n",
       "      <td>0.283149</td>\n",
       "      <td>-0.230052</td>\n",
       "      <td>0.016328</td>\n",
       "      <td>0.550147</td>\n",
       "      <td>0.567307</td>\n",
       "      <td>1.283183</td>\n",
       "      <td>0.922212</td>\n",
       "      <td>0.347715</td>\n",
       "    </tr>\n",
       "    <tr>\n",
       "      <td>1</td>\n",
       "      <td>1.661361</td>\n",
       "      <td>0.529180</td>\n",
       "      <td>0.005286</td>\n",
       "      <td>-1.907726</td>\n",
       "      <td>0.241741</td>\n",
       "      <td>0.029946</td>\n",
       "      <td>-0.152985</td>\n",
       "      <td>-1.574025</td>\n",
       "      <td>-0.530674</td>\n",
       "      <td>0.922212</td>\n",
       "      <td>-0.736286</td>\n",
       "    </tr>\n",
       "    <tr>\n",
       "      <td>2</td>\n",
       "      <td>-0.698563</td>\n",
       "      <td>0.109323</td>\n",
       "      <td>-0.040167</td>\n",
       "      <td>0.283149</td>\n",
       "      <td>-0.230052</td>\n",
       "      <td>0.016328</td>\n",
       "      <td>0.550147</td>\n",
       "      <td>0.567307</td>\n",
       "      <td>1.283183</td>\n",
       "      <td>-0.590894</td>\n",
       "      <td>-0.411085</td>\n",
       "    </tr>\n",
       "    <tr>\n",
       "      <td>3</td>\n",
       "      <td>-0.101474</td>\n",
       "      <td>0.109323</td>\n",
       "      <td>0.065891</td>\n",
       "      <td>0.283149</td>\n",
       "      <td>-0.262219</td>\n",
       "      <td>-0.187939</td>\n",
       "      <td>-1.137370</td>\n",
       "      <td>-1.574025</td>\n",
       "      <td>0.754141</td>\n",
       "      <td>-0.590894</td>\n",
       "      <td>1.106516</td>\n",
       "    </tr>\n",
       "    <tr>\n",
       "      <td>4</td>\n",
       "      <td>-0.940242</td>\n",
       "      <td>-0.310534</td>\n",
       "      <td>-0.131075</td>\n",
       "      <td>0.283149</td>\n",
       "      <td>-0.085297</td>\n",
       "      <td>-1.413542</td>\n",
       "      <td>0.550147</td>\n",
       "      <td>0.567307</td>\n",
       "      <td>-1.437603</td>\n",
       "      <td>2.435318</td>\n",
       "      <td>1.540116</td>\n",
       "    </tr>\n",
       "  </tbody>\n",
       "</table>\n",
       "</div>"
      ],
      "text/plain": [
       "      Price  VehicleType  RegistrationYear   Gearbox     Power     Model  \\\n",
       "0 -0.988578     0.949036         -0.161377  0.283149 -0.230052  0.016328   \n",
       "1  1.661361     0.529180          0.005286 -1.907726  0.241741  0.029946   \n",
       "2 -0.698563     0.109323         -0.040167  0.283149 -0.230052  0.016328   \n",
       "3 -0.101474     0.109323          0.065891  0.283149 -0.262219 -0.187939   \n",
       "4 -0.940242    -0.310534         -0.131075  0.283149 -0.085297 -1.413542   \n",
       "\n",
       "   Kilometer  FuelType     Brand  NotRepaired  DateCreated  \n",
       "0   0.550147  0.567307  1.283183     0.922212     0.347715  \n",
       "1  -0.152985 -1.574025 -0.530674     0.922212    -0.736286  \n",
       "2   0.550147  0.567307  1.283183    -0.590894    -0.411085  \n",
       "3  -1.137370 -1.574025  0.754141    -0.590894     1.106516  \n",
       "4   0.550147  0.567307 -1.437603     2.435318     1.540116  "
      ]
     },
     "execution_count": 35,
     "metadata": {},
     "output_type": "execute_result"
    }
   ],
   "source": [
    "dataset = scaled_data(data)\n",
    "dataset.head()"
   ]
  },
  {
   "cell_type": "markdown",
   "metadata": {},
   "source": [
    "<a id='section2.6'></a>\n",
    "### 2.6 Выводы по главе 2"
   ]
  },
  {
   "cell_type": "markdown",
   "metadata": {},
   "source": [
    "В ходе предобработки были произведены следующие действия над данными:\n",
    "1. Обработаны дубликаты;\n",
    "2. Удалены ненужные для задачи признаки;\n",
    "3. Обработаны пропуски, как категориальные, так и числовые;\n",
    "4. Категориальные признаки были перекодированы;\n",
    "5. Произведено масштабирование признаков."
   ]
  },
  {
   "cell_type": "markdown",
   "metadata": {},
   "source": [
    "<a id='section3'></a>\n",
    "## 3. Построение моделей"
   ]
  },
  {
   "cell_type": "markdown",
   "metadata": {},
   "source": [
    "В качестве моделей были выбраны следующие представители:\n",
    "* LinearRegression;\n",
    "* RandomForestRegression;\n",
    "* LGBMRegressor."
   ]
  },
  {
   "cell_type": "markdown",
   "metadata": {},
   "source": [
    "<a id='section3.1'></a>\n",
    "### 3.1 Подготовка данных к обучению"
   ]
  },
  {
   "cell_type": "code",
   "execution_count": 36,
   "metadata": {},
   "outputs": [],
   "source": [
    "def train_valid_test_split(data : pd.DataFrame, target_column : str, proportions=[0.6, 0.2, 0.2]):\n",
    "    \"\"\"\n",
    "        Function splits by train, validation, test parts income dataframe.\n",
    "        In:\n",
    "            df : pandas.DataFrame() - income dataframe.\n",
    "            proportions : list() - list of proportions values to split method.\n",
    "    \"\"\"\n",
    "    if sum([*proportions]) != 1:\n",
    "        raise AttributeError('Wrong \"proportions\" values. Sum of \"proportions\" values > 1.0. Must be equal to 1.0.')\n",
    "    data_list = [train, valid, test] = np.split(\n",
    "        data.sample(frac=1, random_state=2718), \n",
    "        [int(proportions[0] * len(data)), int(sum(proportions[:2]) * len(data))]\n",
    "    )\n",
    "    features, targets = list(), list()\n",
    "    for data in data_list:\n",
    "        features.append(data.drop(target_column, axis=1))\n",
    "        targets.append(data[target_column])\n",
    "    return [*features, *targets]"
   ]
  },
  {
   "cell_type": "code",
   "execution_count": 37,
   "metadata": {},
   "outputs": [],
   "source": [
    "X_train, X_valid, X_test, y_train, y_valid, y_test = \\\n",
    "    train_valid_test_split(dataset, target_column=\"Price\", proportions=[0.6, 0.2, 0.2])"
   ]
  },
  {
   "cell_type": "code",
   "execution_count": 38,
   "metadata": {},
   "outputs": [],
   "source": [
    "def print_table(table):\n",
    "    longest_cols = [\n",
    "        (max([len(str(row[i])) for row in table]) + 3)\n",
    "        for i in range(len(table[0]))\n",
    "    ]\n",
    "    row_format = \"\".join([\"{:>\" + str(longest_col) + \"}\" for longest_col in longest_cols])\n",
    "    for row in table:\n",
    "        print(row_format.format(*row))"
   ]
  },
  {
   "cell_type": "code",
   "execution_count": 39,
   "metadata": {},
   "outputs": [],
   "source": [
    "table = [\n",
    "    ['Sample', 'Features_m', 'Features_n', 'Target'],\n",
    "    ['Train', *X_train.shape, *y_train.shape],\n",
    "    ['Valid', *X_valid.shape, *y_valid.shape],\n",
    "    ['Test', *X_test.shape, *y_test.shape]\n",
    "]"
   ]
  },
  {
   "cell_type": "code",
   "execution_count": 40,
   "metadata": {},
   "outputs": [],
   "source": [
    "def log_progress(sequence, every=10):\n",
    "    progress = IntProgress(min=0, max=len(sequence), value=0)\n",
    "    display(progress)\n",
    "    \n",
    "    for index, record in enumerate(sequence):\n",
    "        if index % every == 0:\n",
    "            progress.value = index\n",
    "        yield record"
   ]
  },
  {
   "cell_type": "code",
   "execution_count": 41,
   "metadata": {},
   "outputs": [],
   "source": [
    "def rmse(y_true, y_pred): return np.sqrt(mse(y_true, y_pred))"
   ]
  },
  {
   "cell_type": "code",
   "execution_count": 42,
   "metadata": {},
   "outputs": [],
   "source": [
    "def get_results(model, parameters={}, train=[X_train, y_train], valid=[X_valid, y_valid]):\n",
    "    \n",
    "    # Train\n",
    "    start = time()\n",
    "    m = model(**parameters)\n",
    "    m.fit(train[0], train[1])\n",
    "    train_time = time() - start\n",
    "    \n",
    "    # Predict\n",
    "    start = time()\n",
    "    predictions = m.predict(valid[0])\n",
    "    predict_time = time() - start\n",
    "    \n",
    "    # RMSE\n",
    "    rmse_metrics = rmse(valid[1], predictions)\n",
    "    \n",
    "    return [{\n",
    "        \"Model name\" : type(m).__name__,\n",
    "        \"Train time\" : round(train_time, 4),\n",
    "        \"Predict time\" : round(predict_time, 4),\n",
    "        \"RMSE\" : round(rmse_metrics, 4),\n",
    "        \"Parameters\" : parameters\n",
    "    }]"
   ]
  },
  {
   "cell_type": "markdown",
   "metadata": {},
   "source": [
    "Можно обучаться)  \n",
    "Стартуем!😎"
   ]
  },
  {
   "cell_type": "markdown",
   "metadata": {},
   "source": [
    "<a id='section3.2'></a>\n",
    "### 3.2 LinearRegression"
   ]
  },
  {
   "cell_type": "code",
   "execution_count": 43,
   "metadata": {},
   "outputs": [],
   "source": [
    "results = []"
   ]
  },
  {
   "cell_type": "code",
   "execution_count": 44,
   "metadata": {},
   "outputs": [
    {
     "data": {
      "text/plain": [
       "{'Model name': 'LinearRegression',\n",
       " 'Train time': 0.0398,\n",
       " 'Predict time': 0.004,\n",
       " 'RMSE': 0.8287,\n",
       " 'Parameters': {}}"
      ]
     },
     "execution_count": 44,
     "metadata": {},
     "output_type": "execute_result"
    }
   ],
   "source": [
    "results += get_results(LinearRegression)\n",
    "results[-1]"
   ]
  },
  {
   "cell_type": "markdown",
   "metadata": {},
   "source": [
    "<a id='section3.3'></a>\n",
    "### 3.3 RandomForestRegression"
   ]
  },
  {
   "cell_type": "code",
   "execution_count": 45,
   "metadata": {},
   "outputs": [],
   "source": [
    "rf_params_dict = {\n",
    "    \"max_depth\" : range(1, 4),\n",
    "    \"min_samples_split\" : range(2, 4),\n",
    "    \"min_samples_leaf\" : range(1, 4)\n",
    "}"
   ]
  },
  {
   "cell_type": "code",
   "execution_count": 46,
   "metadata": {},
   "outputs": [],
   "source": [
    "scorer = make_scorer(rmse, greater_is_better=True)"
   ]
  },
  {
   "cell_type": "code",
   "execution_count": 47,
   "metadata": {},
   "outputs": [],
   "source": [
    "def cross_validation(model, X, y, param_grid, scoring):\n",
    "    model_cv = GridSearchCV(\n",
    "        model(random_state=2718),\n",
    "        param_grid = param_grid,\n",
    "        cv = 4,\n",
    "        scoring = scoring\n",
    "    )\n",
    "    model_cv = model_cv.fit(X, y)\n",
    "    print(\"Гиперпараметры {}: {}\".format(type(model_cv).__name__, model_cv.best_params_))\n",
    "    model_best = model(**model_cv.best_params_, random_state=2718)\n",
    "    model_best_metrics = pd.Series(\n",
    "        cross_val_score(\n",
    "            model_best.fit(X, y),\n",
    "            X, y,\n",
    "            cv = 6,\n",
    "            scoring = scoring\n",
    "        )\n",
    "    )\n",
    "    print('\\nСреднее значение cross_validation_score = {:.2f}'.format(model_best_metrics.mean()))\n",
    "    return model_cv.best_params_"
   ]
  },
  {
   "cell_type": "code",
   "execution_count": 48,
   "metadata": {},
   "outputs": [
    {
     "name": "stdout",
     "output_type": "stream",
     "text": [
      "Гиперпараметры GridSearchCV: {'max_depth': 1, 'min_samples_leaf': 1, 'min_samples_split': 2}\n",
      "\n",
      "Среднее значение cross_validation_score = 0.84\n",
      "Wall time: 32.7 s\n"
     ]
    }
   ],
   "source": [
    "%%time\n",
    "\n",
    "rf_params = cross_validation(\n",
    "    model=RandomForestRegressor,\n",
    "    X = X_train,\n",
    "    y = y_train,\n",
    "    param_grid = rf_params_dict,\n",
    "    scoring = scorer\n",
    ")"
   ]
  },
  {
   "cell_type": "code",
   "execution_count": 49,
   "metadata": {
    "scrolled": true
   },
   "outputs": [
    {
     "data": {
      "text/plain": [
       "{'Model name': 'RandomForestRegressor',\n",
       " 'Train time': 0.3557,\n",
       " 'Predict time': 0.01,\n",
       " 'RMSE': 0.8357,\n",
       " 'Parameters': {'max_depth': 1, 'min_samples_leaf': 1, 'min_samples_split': 2}}"
      ]
     },
     "execution_count": 49,
     "metadata": {},
     "output_type": "execute_result"
    }
   ],
   "source": [
    "results += get_results(RandomForestRegressor, rf_params)\n",
    "results[-1]"
   ]
  },
  {
   "cell_type": "markdown",
   "metadata": {},
   "source": [
    "<a id='section3.4'></a>\n",
    "### 3.4 LGBMRegressor"
   ]
  },
  {
   "attachments": {},
   "cell_type": "markdown",
   "metadata": {},
   "source": [
    "https://lightgbm.readthedocs.io/en/latest/Parameters-Tuning.html#for-better-accuracy"
   ]
  },
  {
   "cell_type": "code",
   "execution_count": 50,
   "metadata": {},
   "outputs": [],
   "source": [
    "lgb_parameters = { \n",
    "    \"objective\" : [\"regression\"],\n",
    "    \"metric\" : [\"l1\", \"l2\"],\n",
    "    \"boosting\" : [\"gbdt\"],\n",
    "    \"feature_fraction\" : [0.1, 0.15],\n",
    "    \"bagging_fraction\" : [0.1, 0.15],\n",
    "    \"learning_rate\" : [x / 100.0 for x in range(1, 12, 5)],\n",
    "    \"num_boost_round\" : [100]\n",
    "}"
   ]
  },
  {
   "cell_type": "code",
   "execution_count": 51,
   "metadata": {
    "scrolled": true
   },
   "outputs": [
    {
     "name": "stdout",
     "output_type": "stream",
     "text": [
      "[LightGBM] [Warning] boosting is set=gbdt, boosting_type=gbdt will be ignored. Current value: boosting=gbdt\n",
      "[LightGBM] [Warning] feature_fraction is set=0.1, colsample_bytree=1.0 will be ignored. Current value: feature_fraction=0.1\n",
      "[LightGBM] [Warning] bagging_fraction is set=0.1, subsample=1.0 will be ignored. Current value: bagging_fraction=0.1\n",
      "[LightGBM] [Warning] num_iterations is set=100, num_boost_round=100 will be ignored. Current value: num_iterations=100\n",
      "[LightGBM] [Warning] boosting is set=gbdt, boosting_type=gbdt will be ignored. Current value: boosting=gbdt\n",
      "[LightGBM] [Warning] feature_fraction is set=0.1, colsample_bytree=1.0 will be ignored. Current value: feature_fraction=0.1\n",
      "[LightGBM] [Warning] bagging_fraction is set=0.1, subsample=1.0 will be ignored. Current value: bagging_fraction=0.1\n",
      "[LightGBM] [Warning] num_iterations is set=100, num_boost_round=100 will be ignored. Current value: num_iterations=100\n",
      "[LightGBM] [Warning] boosting is set=gbdt, boosting_type=gbdt will be ignored. Current value: boosting=gbdt\n",
      "[LightGBM] [Warning] feature_fraction is set=0.1, colsample_bytree=1.0 will be ignored. Current value: feature_fraction=0.1\n",
      "[LightGBM] [Warning] bagging_fraction is set=0.1, subsample=1.0 will be ignored. Current value: bagging_fraction=0.1\n",
      "[LightGBM] [Warning] num_iterations is set=100, num_boost_round=100 will be ignored. Current value: num_iterations=100\n",
      "[LightGBM] [Warning] boosting is set=gbdt, boosting_type=gbdt will be ignored. Current value: boosting=gbdt\n",
      "[LightGBM] [Warning] feature_fraction is set=0.1, colsample_bytree=1.0 will be ignored. Current value: feature_fraction=0.1\n",
      "[LightGBM] [Warning] bagging_fraction is set=0.1, subsample=1.0 will be ignored. Current value: bagging_fraction=0.1\n",
      "[LightGBM] [Warning] num_iterations is set=100, num_boost_round=100 will be ignored. Current value: num_iterations=100\n",
      "[LightGBM] [Warning] boosting is set=gbdt, boosting_type=gbdt will be ignored. Current value: boosting=gbdt\n",
      "[LightGBM] [Warning] feature_fraction is set=0.1, colsample_bytree=1.0 will be ignored. Current value: feature_fraction=0.1\n",
      "[LightGBM] [Warning] bagging_fraction is set=0.1, subsample=1.0 will be ignored. Current value: bagging_fraction=0.1\n",
      "[LightGBM] [Warning] num_iterations is set=100, num_boost_round=100 will be ignored. Current value: num_iterations=100\n",
      "[LightGBM] [Warning] boosting is set=gbdt, boosting_type=gbdt will be ignored. Current value: boosting=gbdt\n",
      "[LightGBM] [Warning] feature_fraction is set=0.1, colsample_bytree=1.0 will be ignored. Current value: feature_fraction=0.1\n",
      "[LightGBM] [Warning] bagging_fraction is set=0.1, subsample=1.0 will be ignored. Current value: bagging_fraction=0.1\n",
      "[LightGBM] [Warning] num_iterations is set=100, num_boost_round=100 will be ignored. Current value: num_iterations=100\n",
      "[LightGBM] [Warning] boosting is set=gbdt, boosting_type=gbdt will be ignored. Current value: boosting=gbdt\n",
      "[LightGBM] [Warning] feature_fraction is set=0.1, colsample_bytree=1.0 will be ignored. Current value: feature_fraction=0.1\n",
      "[LightGBM] [Warning] bagging_fraction is set=0.1, subsample=1.0 will be ignored. Current value: bagging_fraction=0.1\n",
      "[LightGBM] [Warning] num_iterations is set=100, num_boost_round=100 will be ignored. Current value: num_iterations=100\n",
      "[LightGBM] [Warning] boosting is set=gbdt, boosting_type=gbdt will be ignored. Current value: boosting=gbdt\n",
      "[LightGBM] [Warning] feature_fraction is set=0.1, colsample_bytree=1.0 will be ignored. Current value: feature_fraction=0.1\n",
      "[LightGBM] [Warning] bagging_fraction is set=0.1, subsample=1.0 will be ignored. Current value: bagging_fraction=0.1\n",
      "[LightGBM] [Warning] num_iterations is set=100, num_boost_round=100 will be ignored. Current value: num_iterations=100\n",
      "[LightGBM] [Warning] boosting is set=gbdt, boosting_type=gbdt will be ignored. Current value: boosting=gbdt\n",
      "[LightGBM] [Warning] feature_fraction is set=0.1, colsample_bytree=1.0 will be ignored. Current value: feature_fraction=0.1\n",
      "[LightGBM] [Warning] bagging_fraction is set=0.1, subsample=1.0 will be ignored. Current value: bagging_fraction=0.1\n",
      "[LightGBM] [Warning] num_iterations is set=100, num_boost_round=100 will be ignored. Current value: num_iterations=100\n",
      "[LightGBM] [Warning] boosting is set=gbdt, boosting_type=gbdt will be ignored. Current value: boosting=gbdt\n",
      "[LightGBM] [Warning] feature_fraction is set=0.1, colsample_bytree=1.0 will be ignored. Current value: feature_fraction=0.1\n",
      "[LightGBM] [Warning] bagging_fraction is set=0.1, subsample=1.0 will be ignored. Current value: bagging_fraction=0.1\n",
      "[LightGBM] [Warning] num_iterations is set=100, num_boost_round=100 will be ignored. Current value: num_iterations=100\n",
      "[LightGBM] [Warning] boosting is set=gbdt, boosting_type=gbdt will be ignored. Current value: boosting=gbdt\n",
      "[LightGBM] [Warning] feature_fraction is set=0.1, colsample_bytree=1.0 will be ignored. Current value: feature_fraction=0.1\n",
      "[LightGBM] [Warning] bagging_fraction is set=0.1, subsample=1.0 will be ignored. Current value: bagging_fraction=0.1\n",
      "[LightGBM] [Warning] num_iterations is set=100, num_boost_round=100 will be ignored. Current value: num_iterations=100\n",
      "[LightGBM] [Warning] boosting is set=gbdt, boosting_type=gbdt will be ignored. Current value: boosting=gbdt\n",
      "[LightGBM] [Warning] feature_fraction is set=0.1, colsample_bytree=1.0 will be ignored. Current value: feature_fraction=0.1\n",
      "[LightGBM] [Warning] bagging_fraction is set=0.1, subsample=1.0 will be ignored. Current value: bagging_fraction=0.1\n",
      "[LightGBM] [Warning] num_iterations is set=100, num_boost_round=100 will be ignored. Current value: num_iterations=100\n",
      "[LightGBM] [Warning] boosting is set=gbdt, boosting_type=gbdt will be ignored. Current value: boosting=gbdt\n",
      "[LightGBM] [Warning] feature_fraction is set=0.1, colsample_bytree=1.0 will be ignored. Current value: feature_fraction=0.1\n",
      "[LightGBM] [Warning] bagging_fraction is set=0.1, subsample=1.0 will be ignored. Current value: bagging_fraction=0.1\n",
      "[LightGBM] [Warning] num_iterations is set=100, num_boost_round=100 will be ignored. Current value: num_iterations=100\n",
      "[LightGBM] [Warning] boosting is set=gbdt, boosting_type=gbdt will be ignored. Current value: boosting=gbdt\n",
      "[LightGBM] [Warning] feature_fraction is set=0.1, colsample_bytree=1.0 will be ignored. Current value: feature_fraction=0.1\n",
      "[LightGBM] [Warning] bagging_fraction is set=0.1, subsample=1.0 will be ignored. Current value: bagging_fraction=0.1\n",
      "[LightGBM] [Warning] num_iterations is set=100, num_boost_round=100 will be ignored. Current value: num_iterations=100\n",
      "[LightGBM] [Warning] boosting is set=gbdt, boosting_type=gbdt will be ignored. Current value: boosting=gbdt\n",
      "[LightGBM] [Warning] feature_fraction is set=0.1, colsample_bytree=1.0 will be ignored. Current value: feature_fraction=0.1\n",
      "[LightGBM] [Warning] bagging_fraction is set=0.1, subsample=1.0 will be ignored. Current value: bagging_fraction=0.1\n",
      "[LightGBM] [Warning] num_iterations is set=100, num_boost_round=100 will be ignored. Current value: num_iterations=100\n",
      "[LightGBM] [Warning] boosting is set=gbdt, boosting_type=gbdt will be ignored. Current value: boosting=gbdt\n",
      "[LightGBM] [Warning] feature_fraction is set=0.1, colsample_bytree=1.0 will be ignored. Current value: feature_fraction=0.1\n",
      "[LightGBM] [Warning] bagging_fraction is set=0.1, subsample=1.0 will be ignored. Current value: bagging_fraction=0.1\n",
      "[LightGBM] [Warning] num_iterations is set=100, num_boost_round=100 will be ignored. Current value: num_iterations=100\n",
      "[LightGBM] [Warning] boosting is set=gbdt, boosting_type=gbdt will be ignored. Current value: boosting=gbdt\n",
      "[LightGBM] [Warning] feature_fraction is set=0.1, colsample_bytree=1.0 will be ignored. Current value: feature_fraction=0.1\n",
      "[LightGBM] [Warning] bagging_fraction is set=0.1, subsample=1.0 will be ignored. Current value: bagging_fraction=0.1\n",
      "[LightGBM] [Warning] num_iterations is set=100, num_boost_round=100 will be ignored. Current value: num_iterations=100\n",
      "[LightGBM] [Warning] boosting is set=gbdt, boosting_type=gbdt will be ignored. Current value: boosting=gbdt\n",
      "[LightGBM] [Warning] feature_fraction is set=0.1, colsample_bytree=1.0 will be ignored. Current value: feature_fraction=0.1\n",
      "[LightGBM] [Warning] bagging_fraction is set=0.1, subsample=1.0 will be ignored. Current value: bagging_fraction=0.1\n",
      "[LightGBM] [Warning] num_iterations is set=100, num_boost_round=100 will be ignored. Current value: num_iterations=100\n"
     ]
    },
    {
     "name": "stdout",
     "output_type": "stream",
     "text": [
      "[LightGBM] [Warning] boosting is set=gbdt, boosting_type=gbdt will be ignored. Current value: boosting=gbdt\n",
      "[LightGBM] [Warning] feature_fraction is set=0.1, colsample_bytree=1.0 will be ignored. Current value: feature_fraction=0.1\n",
      "[LightGBM] [Warning] bagging_fraction is set=0.1, subsample=1.0 will be ignored. Current value: bagging_fraction=0.1\n",
      "[LightGBM] [Warning] num_iterations is set=100, num_boost_round=100 will be ignored. Current value: num_iterations=100\n",
      "[LightGBM] [Warning] boosting is set=gbdt, boosting_type=gbdt will be ignored. Current value: boosting=gbdt\n",
      "[LightGBM] [Warning] feature_fraction is set=0.1, colsample_bytree=1.0 will be ignored. Current value: feature_fraction=0.1\n",
      "[LightGBM] [Warning] bagging_fraction is set=0.1, subsample=1.0 will be ignored. Current value: bagging_fraction=0.1\n",
      "[LightGBM] [Warning] num_iterations is set=100, num_boost_round=100 will be ignored. Current value: num_iterations=100\n",
      "[LightGBM] [Warning] boosting is set=gbdt, boosting_type=gbdt will be ignored. Current value: boosting=gbdt\n",
      "[LightGBM] [Warning] feature_fraction is set=0.1, colsample_bytree=1.0 will be ignored. Current value: feature_fraction=0.1\n",
      "[LightGBM] [Warning] bagging_fraction is set=0.1, subsample=1.0 will be ignored. Current value: bagging_fraction=0.1\n",
      "[LightGBM] [Warning] num_iterations is set=100, num_boost_round=100 will be ignored. Current value: num_iterations=100\n",
      "[LightGBM] [Warning] boosting is set=gbdt, boosting_type=gbdt will be ignored. Current value: boosting=gbdt\n",
      "[LightGBM] [Warning] feature_fraction is set=0.1, colsample_bytree=1.0 will be ignored. Current value: feature_fraction=0.1\n",
      "[LightGBM] [Warning] bagging_fraction is set=0.1, subsample=1.0 will be ignored. Current value: bagging_fraction=0.1\n",
      "[LightGBM] [Warning] num_iterations is set=100, num_boost_round=100 will be ignored. Current value: num_iterations=100\n",
      "[LightGBM] [Warning] boosting is set=gbdt, boosting_type=gbdt will be ignored. Current value: boosting=gbdt\n",
      "[LightGBM] [Warning] feature_fraction is set=0.1, colsample_bytree=1.0 will be ignored. Current value: feature_fraction=0.1\n",
      "[LightGBM] [Warning] bagging_fraction is set=0.1, subsample=1.0 will be ignored. Current value: bagging_fraction=0.1\n",
      "[LightGBM] [Warning] num_iterations is set=100, num_boost_round=100 will be ignored. Current value: num_iterations=100\n",
      "[LightGBM] [Warning] boosting is set=gbdt, boosting_type=gbdt will be ignored. Current value: boosting=gbdt\n",
      "[LightGBM] [Warning] feature_fraction is set=0.1, colsample_bytree=1.0 will be ignored. Current value: feature_fraction=0.1\n",
      "[LightGBM] [Warning] bagging_fraction is set=0.1, subsample=1.0 will be ignored. Current value: bagging_fraction=0.1\n",
      "[LightGBM] [Warning] num_iterations is set=100, num_boost_round=100 will be ignored. Current value: num_iterations=100\n",
      "[LightGBM] [Warning] boosting is set=gbdt, boosting_type=gbdt will be ignored. Current value: boosting=gbdt\n",
      "[LightGBM] [Warning] feature_fraction is set=0.15, colsample_bytree=1.0 will be ignored. Current value: feature_fraction=0.15\n",
      "[LightGBM] [Warning] bagging_fraction is set=0.1, subsample=1.0 will be ignored. Current value: bagging_fraction=0.1\n",
      "[LightGBM] [Warning] num_iterations is set=100, num_boost_round=100 will be ignored. Current value: num_iterations=100\n",
      "[LightGBM] [Warning] boosting is set=gbdt, boosting_type=gbdt will be ignored. Current value: boosting=gbdt\n",
      "[LightGBM] [Warning] feature_fraction is set=0.15, colsample_bytree=1.0 will be ignored. Current value: feature_fraction=0.15\n",
      "[LightGBM] [Warning] bagging_fraction is set=0.1, subsample=1.0 will be ignored. Current value: bagging_fraction=0.1\n",
      "[LightGBM] [Warning] num_iterations is set=100, num_boost_round=100 will be ignored. Current value: num_iterations=100\n",
      "[LightGBM] [Warning] boosting is set=gbdt, boosting_type=gbdt will be ignored. Current value: boosting=gbdt\n",
      "[LightGBM] [Warning] feature_fraction is set=0.15, colsample_bytree=1.0 will be ignored. Current value: feature_fraction=0.15\n",
      "[LightGBM] [Warning] bagging_fraction is set=0.1, subsample=1.0 will be ignored. Current value: bagging_fraction=0.1\n",
      "[LightGBM] [Warning] num_iterations is set=100, num_boost_round=100 will be ignored. Current value: num_iterations=100\n",
      "[LightGBM] [Warning] boosting is set=gbdt, boosting_type=gbdt will be ignored. Current value: boosting=gbdt\n",
      "[LightGBM] [Warning] feature_fraction is set=0.15, colsample_bytree=1.0 will be ignored. Current value: feature_fraction=0.15\n",
      "[LightGBM] [Warning] bagging_fraction is set=0.1, subsample=1.0 will be ignored. Current value: bagging_fraction=0.1\n",
      "[LightGBM] [Warning] num_iterations is set=100, num_boost_round=100 will be ignored. Current value: num_iterations=100\n",
      "[LightGBM] [Warning] boosting is set=gbdt, boosting_type=gbdt will be ignored. Current value: boosting=gbdt\n",
      "[LightGBM] [Warning] feature_fraction is set=0.15, colsample_bytree=1.0 will be ignored. Current value: feature_fraction=0.15\n",
      "[LightGBM] [Warning] bagging_fraction is set=0.1, subsample=1.0 will be ignored. Current value: bagging_fraction=0.1\n",
      "[LightGBM] [Warning] num_iterations is set=100, num_boost_round=100 will be ignored. Current value: num_iterations=100\n",
      "[LightGBM] [Warning] boosting is set=gbdt, boosting_type=gbdt will be ignored. Current value: boosting=gbdt\n",
      "[LightGBM] [Warning] feature_fraction is set=0.15, colsample_bytree=1.0 will be ignored. Current value: feature_fraction=0.15\n",
      "[LightGBM] [Warning] bagging_fraction is set=0.1, subsample=1.0 will be ignored. Current value: bagging_fraction=0.1\n",
      "[LightGBM] [Warning] num_iterations is set=100, num_boost_round=100 will be ignored. Current value: num_iterations=100\n",
      "[LightGBM] [Warning] boosting is set=gbdt, boosting_type=gbdt will be ignored. Current value: boosting=gbdt\n",
      "[LightGBM] [Warning] feature_fraction is set=0.15, colsample_bytree=1.0 will be ignored. Current value: feature_fraction=0.15\n",
      "[LightGBM] [Warning] bagging_fraction is set=0.1, subsample=1.0 will be ignored. Current value: bagging_fraction=0.1\n",
      "[LightGBM] [Warning] num_iterations is set=100, num_boost_round=100 will be ignored. Current value: num_iterations=100\n",
      "[LightGBM] [Warning] boosting is set=gbdt, boosting_type=gbdt will be ignored. Current value: boosting=gbdt\n",
      "[LightGBM] [Warning] feature_fraction is set=0.15, colsample_bytree=1.0 will be ignored. Current value: feature_fraction=0.15\n",
      "[LightGBM] [Warning] bagging_fraction is set=0.1, subsample=1.0 will be ignored. Current value: bagging_fraction=0.1\n",
      "[LightGBM] [Warning] num_iterations is set=100, num_boost_round=100 will be ignored. Current value: num_iterations=100\n",
      "[LightGBM] [Warning] boosting is set=gbdt, boosting_type=gbdt will be ignored. Current value: boosting=gbdt\n",
      "[LightGBM] [Warning] feature_fraction is set=0.15, colsample_bytree=1.0 will be ignored. Current value: feature_fraction=0.15\n",
      "[LightGBM] [Warning] bagging_fraction is set=0.1, subsample=1.0 will be ignored. Current value: bagging_fraction=0.1\n",
      "[LightGBM] [Warning] num_iterations is set=100, num_boost_round=100 will be ignored. Current value: num_iterations=100\n",
      "[LightGBM] [Warning] boosting is set=gbdt, boosting_type=gbdt will be ignored. Current value: boosting=gbdt\n",
      "[LightGBM] [Warning] feature_fraction is set=0.15, colsample_bytree=1.0 will be ignored. Current value: feature_fraction=0.15\n",
      "[LightGBM] [Warning] bagging_fraction is set=0.1, subsample=1.0 will be ignored. Current value: bagging_fraction=0.1\n",
      "[LightGBM] [Warning] num_iterations is set=100, num_boost_round=100 will be ignored. Current value: num_iterations=100\n",
      "[LightGBM] [Warning] boosting is set=gbdt, boosting_type=gbdt will be ignored. Current value: boosting=gbdt\n",
      "[LightGBM] [Warning] feature_fraction is set=0.15, colsample_bytree=1.0 will be ignored. Current value: feature_fraction=0.15\n",
      "[LightGBM] [Warning] bagging_fraction is set=0.1, subsample=1.0 will be ignored. Current value: bagging_fraction=0.1\n",
      "[LightGBM] [Warning] num_iterations is set=100, num_boost_round=100 will be ignored. Current value: num_iterations=100\n",
      "[LightGBM] [Warning] boosting is set=gbdt, boosting_type=gbdt will be ignored. Current value: boosting=gbdt\n",
      "[LightGBM] [Warning] feature_fraction is set=0.15, colsample_bytree=1.0 will be ignored. Current value: feature_fraction=0.15\n",
      "[LightGBM] [Warning] bagging_fraction is set=0.1, subsample=1.0 will be ignored. Current value: bagging_fraction=0.1\n",
      "[LightGBM] [Warning] num_iterations is set=100, num_boost_round=100 will be ignored. Current value: num_iterations=100\n"
     ]
    },
    {
     "name": "stdout",
     "output_type": "stream",
     "text": [
      "[LightGBM] [Warning] boosting is set=gbdt, boosting_type=gbdt will be ignored. Current value: boosting=gbdt\n",
      "[LightGBM] [Warning] feature_fraction is set=0.15, colsample_bytree=1.0 will be ignored. Current value: feature_fraction=0.15\n",
      "[LightGBM] [Warning] bagging_fraction is set=0.1, subsample=1.0 will be ignored. Current value: bagging_fraction=0.1\n",
      "[LightGBM] [Warning] num_iterations is set=100, num_boost_round=100 will be ignored. Current value: num_iterations=100\n",
      "[LightGBM] [Warning] boosting is set=gbdt, boosting_type=gbdt will be ignored. Current value: boosting=gbdt\n",
      "[LightGBM] [Warning] feature_fraction is set=0.15, colsample_bytree=1.0 will be ignored. Current value: feature_fraction=0.15\n",
      "[LightGBM] [Warning] bagging_fraction is set=0.1, subsample=1.0 will be ignored. Current value: bagging_fraction=0.1\n",
      "[LightGBM] [Warning] num_iterations is set=100, num_boost_round=100 will be ignored. Current value: num_iterations=100\n",
      "[LightGBM] [Warning] boosting is set=gbdt, boosting_type=gbdt will be ignored. Current value: boosting=gbdt\n",
      "[LightGBM] [Warning] feature_fraction is set=0.15, colsample_bytree=1.0 will be ignored. Current value: feature_fraction=0.15\n",
      "[LightGBM] [Warning] bagging_fraction is set=0.1, subsample=1.0 will be ignored. Current value: bagging_fraction=0.1\n",
      "[LightGBM] [Warning] num_iterations is set=100, num_boost_round=100 will be ignored. Current value: num_iterations=100\n",
      "[LightGBM] [Warning] boosting is set=gbdt, boosting_type=gbdt will be ignored. Current value: boosting=gbdt\n",
      "[LightGBM] [Warning] feature_fraction is set=0.15, colsample_bytree=1.0 will be ignored. Current value: feature_fraction=0.15\n",
      "[LightGBM] [Warning] bagging_fraction is set=0.1, subsample=1.0 will be ignored. Current value: bagging_fraction=0.1\n",
      "[LightGBM] [Warning] num_iterations is set=100, num_boost_round=100 will be ignored. Current value: num_iterations=100\n",
      "[LightGBM] [Warning] boosting is set=gbdt, boosting_type=gbdt will be ignored. Current value: boosting=gbdt\n",
      "[LightGBM] [Warning] feature_fraction is set=0.15, colsample_bytree=1.0 will be ignored. Current value: feature_fraction=0.15\n",
      "[LightGBM] [Warning] bagging_fraction is set=0.1, subsample=1.0 will be ignored. Current value: bagging_fraction=0.1\n",
      "[LightGBM] [Warning] num_iterations is set=100, num_boost_round=100 will be ignored. Current value: num_iterations=100\n",
      "[LightGBM] [Warning] boosting is set=gbdt, boosting_type=gbdt will be ignored. Current value: boosting=gbdt\n",
      "[LightGBM] [Warning] feature_fraction is set=0.15, colsample_bytree=1.0 will be ignored. Current value: feature_fraction=0.15\n",
      "[LightGBM] [Warning] bagging_fraction is set=0.1, subsample=1.0 will be ignored. Current value: bagging_fraction=0.1\n",
      "[LightGBM] [Warning] num_iterations is set=100, num_boost_round=100 will be ignored. Current value: num_iterations=100\n",
      "[LightGBM] [Warning] boosting is set=gbdt, boosting_type=gbdt will be ignored. Current value: boosting=gbdt\n",
      "[LightGBM] [Warning] feature_fraction is set=0.15, colsample_bytree=1.0 will be ignored. Current value: feature_fraction=0.15\n",
      "[LightGBM] [Warning] bagging_fraction is set=0.1, subsample=1.0 will be ignored. Current value: bagging_fraction=0.1\n",
      "[LightGBM] [Warning] num_iterations is set=100, num_boost_round=100 will be ignored. Current value: num_iterations=100\n",
      "[LightGBM] [Warning] boosting is set=gbdt, boosting_type=gbdt will be ignored. Current value: boosting=gbdt\n",
      "[LightGBM] [Warning] feature_fraction is set=0.15, colsample_bytree=1.0 will be ignored. Current value: feature_fraction=0.15\n",
      "[LightGBM] [Warning] bagging_fraction is set=0.1, subsample=1.0 will be ignored. Current value: bagging_fraction=0.1\n",
      "[LightGBM] [Warning] num_iterations is set=100, num_boost_round=100 will be ignored. Current value: num_iterations=100\n",
      "[LightGBM] [Warning] boosting is set=gbdt, boosting_type=gbdt will be ignored. Current value: boosting=gbdt\n",
      "[LightGBM] [Warning] feature_fraction is set=0.15, colsample_bytree=1.0 will be ignored. Current value: feature_fraction=0.15\n",
      "[LightGBM] [Warning] bagging_fraction is set=0.1, subsample=1.0 will be ignored. Current value: bagging_fraction=0.1\n",
      "[LightGBM] [Warning] num_iterations is set=100, num_boost_round=100 will be ignored. Current value: num_iterations=100\n",
      "[LightGBM] [Warning] boosting is set=gbdt, boosting_type=gbdt will be ignored. Current value: boosting=gbdt\n",
      "[LightGBM] [Warning] feature_fraction is set=0.15, colsample_bytree=1.0 will be ignored. Current value: feature_fraction=0.15\n",
      "[LightGBM] [Warning] bagging_fraction is set=0.1, subsample=1.0 will be ignored. Current value: bagging_fraction=0.1\n",
      "[LightGBM] [Warning] num_iterations is set=100, num_boost_round=100 will be ignored. Current value: num_iterations=100\n",
      "[LightGBM] [Warning] boosting is set=gbdt, boosting_type=gbdt will be ignored. Current value: boosting=gbdt\n",
      "[LightGBM] [Warning] feature_fraction is set=0.15, colsample_bytree=1.0 will be ignored. Current value: feature_fraction=0.15\n",
      "[LightGBM] [Warning] bagging_fraction is set=0.1, subsample=1.0 will be ignored. Current value: bagging_fraction=0.1\n",
      "[LightGBM] [Warning] num_iterations is set=100, num_boost_round=100 will be ignored. Current value: num_iterations=100\n",
      "[LightGBM] [Warning] boosting is set=gbdt, boosting_type=gbdt will be ignored. Current value: boosting=gbdt\n",
      "[LightGBM] [Warning] feature_fraction is set=0.15, colsample_bytree=1.0 will be ignored. Current value: feature_fraction=0.15\n",
      "[LightGBM] [Warning] bagging_fraction is set=0.1, subsample=1.0 will be ignored. Current value: bagging_fraction=0.1\n",
      "[LightGBM] [Warning] num_iterations is set=100, num_boost_round=100 will be ignored. Current value: num_iterations=100\n",
      "[LightGBM] [Warning] boosting is set=gbdt, boosting_type=gbdt will be ignored. Current value: boosting=gbdt\n",
      "[LightGBM] [Warning] feature_fraction is set=0.1, colsample_bytree=1.0 will be ignored. Current value: feature_fraction=0.1\n",
      "[LightGBM] [Warning] bagging_fraction is set=0.15, subsample=1.0 will be ignored. Current value: bagging_fraction=0.15\n",
      "[LightGBM] [Warning] num_iterations is set=100, num_boost_round=100 will be ignored. Current value: num_iterations=100\n",
      "[LightGBM] [Warning] boosting is set=gbdt, boosting_type=gbdt will be ignored. Current value: boosting=gbdt\n",
      "[LightGBM] [Warning] feature_fraction is set=0.1, colsample_bytree=1.0 will be ignored. Current value: feature_fraction=0.1\n",
      "[LightGBM] [Warning] bagging_fraction is set=0.15, subsample=1.0 will be ignored. Current value: bagging_fraction=0.15\n",
      "[LightGBM] [Warning] num_iterations is set=100, num_boost_round=100 will be ignored. Current value: num_iterations=100\n",
      "[LightGBM] [Warning] boosting is set=gbdt, boosting_type=gbdt will be ignored. Current value: boosting=gbdt\n",
      "[LightGBM] [Warning] feature_fraction is set=0.1, colsample_bytree=1.0 will be ignored. Current value: feature_fraction=0.1\n",
      "[LightGBM] [Warning] bagging_fraction is set=0.15, subsample=1.0 will be ignored. Current value: bagging_fraction=0.15\n",
      "[LightGBM] [Warning] num_iterations is set=100, num_boost_round=100 will be ignored. Current value: num_iterations=100\n",
      "[LightGBM] [Warning] boosting is set=gbdt, boosting_type=gbdt will be ignored. Current value: boosting=gbdt\n",
      "[LightGBM] [Warning] feature_fraction is set=0.1, colsample_bytree=1.0 will be ignored. Current value: feature_fraction=0.1\n",
      "[LightGBM] [Warning] bagging_fraction is set=0.15, subsample=1.0 will be ignored. Current value: bagging_fraction=0.15\n",
      "[LightGBM] [Warning] num_iterations is set=100, num_boost_round=100 will be ignored. Current value: num_iterations=100\n",
      "[LightGBM] [Warning] boosting is set=gbdt, boosting_type=gbdt will be ignored. Current value: boosting=gbdt\n",
      "[LightGBM] [Warning] feature_fraction is set=0.1, colsample_bytree=1.0 will be ignored. Current value: feature_fraction=0.1\n",
      "[LightGBM] [Warning] bagging_fraction is set=0.15, subsample=1.0 will be ignored. Current value: bagging_fraction=0.15\n",
      "[LightGBM] [Warning] num_iterations is set=100, num_boost_round=100 will be ignored. Current value: num_iterations=100\n",
      "[LightGBM] [Warning] boosting is set=gbdt, boosting_type=gbdt will be ignored. Current value: boosting=gbdt\n",
      "[LightGBM] [Warning] feature_fraction is set=0.1, colsample_bytree=1.0 will be ignored. Current value: feature_fraction=0.1\n",
      "[LightGBM] [Warning] bagging_fraction is set=0.15, subsample=1.0 will be ignored. Current value: bagging_fraction=0.15\n",
      "[LightGBM] [Warning] num_iterations is set=100, num_boost_round=100 will be ignored. Current value: num_iterations=100\n"
     ]
    },
    {
     "name": "stdout",
     "output_type": "stream",
     "text": [
      "[LightGBM] [Warning] boosting is set=gbdt, boosting_type=gbdt will be ignored. Current value: boosting=gbdt\n",
      "[LightGBM] [Warning] feature_fraction is set=0.1, colsample_bytree=1.0 will be ignored. Current value: feature_fraction=0.1\n",
      "[LightGBM] [Warning] bagging_fraction is set=0.15, subsample=1.0 will be ignored. Current value: bagging_fraction=0.15\n",
      "[LightGBM] [Warning] num_iterations is set=100, num_boost_round=100 will be ignored. Current value: num_iterations=100\n",
      "[LightGBM] [Warning] boosting is set=gbdt, boosting_type=gbdt will be ignored. Current value: boosting=gbdt\n",
      "[LightGBM] [Warning] feature_fraction is set=0.1, colsample_bytree=1.0 will be ignored. Current value: feature_fraction=0.1\n",
      "[LightGBM] [Warning] bagging_fraction is set=0.15, subsample=1.0 will be ignored. Current value: bagging_fraction=0.15\n",
      "[LightGBM] [Warning] num_iterations is set=100, num_boost_round=100 will be ignored. Current value: num_iterations=100\n",
      "[LightGBM] [Warning] boosting is set=gbdt, boosting_type=gbdt will be ignored. Current value: boosting=gbdt\n",
      "[LightGBM] [Warning] feature_fraction is set=0.1, colsample_bytree=1.0 will be ignored. Current value: feature_fraction=0.1\n",
      "[LightGBM] [Warning] bagging_fraction is set=0.15, subsample=1.0 will be ignored. Current value: bagging_fraction=0.15\n",
      "[LightGBM] [Warning] num_iterations is set=100, num_boost_round=100 will be ignored. Current value: num_iterations=100\n",
      "[LightGBM] [Warning] boosting is set=gbdt, boosting_type=gbdt will be ignored. Current value: boosting=gbdt\n",
      "[LightGBM] [Warning] feature_fraction is set=0.1, colsample_bytree=1.0 will be ignored. Current value: feature_fraction=0.1\n",
      "[LightGBM] [Warning] bagging_fraction is set=0.15, subsample=1.0 will be ignored. Current value: bagging_fraction=0.15\n",
      "[LightGBM] [Warning] num_iterations is set=100, num_boost_round=100 will be ignored. Current value: num_iterations=100\n",
      "[LightGBM] [Warning] boosting is set=gbdt, boosting_type=gbdt will be ignored. Current value: boosting=gbdt\n",
      "[LightGBM] [Warning] feature_fraction is set=0.1, colsample_bytree=1.0 will be ignored. Current value: feature_fraction=0.1\n",
      "[LightGBM] [Warning] bagging_fraction is set=0.15, subsample=1.0 will be ignored. Current value: bagging_fraction=0.15\n",
      "[LightGBM] [Warning] num_iterations is set=100, num_boost_round=100 will be ignored. Current value: num_iterations=100\n",
      "[LightGBM] [Warning] boosting is set=gbdt, boosting_type=gbdt will be ignored. Current value: boosting=gbdt\n",
      "[LightGBM] [Warning] feature_fraction is set=0.1, colsample_bytree=1.0 will be ignored. Current value: feature_fraction=0.1\n",
      "[LightGBM] [Warning] bagging_fraction is set=0.15, subsample=1.0 will be ignored. Current value: bagging_fraction=0.15\n",
      "[LightGBM] [Warning] num_iterations is set=100, num_boost_round=100 will be ignored. Current value: num_iterations=100\n",
      "[LightGBM] [Warning] boosting is set=gbdt, boosting_type=gbdt will be ignored. Current value: boosting=gbdt\n",
      "[LightGBM] [Warning] feature_fraction is set=0.1, colsample_bytree=1.0 will be ignored. Current value: feature_fraction=0.1\n",
      "[LightGBM] [Warning] bagging_fraction is set=0.15, subsample=1.0 will be ignored. Current value: bagging_fraction=0.15\n",
      "[LightGBM] [Warning] num_iterations is set=100, num_boost_round=100 will be ignored. Current value: num_iterations=100\n",
      "[LightGBM] [Warning] boosting is set=gbdt, boosting_type=gbdt will be ignored. Current value: boosting=gbdt\n",
      "[LightGBM] [Warning] feature_fraction is set=0.1, colsample_bytree=1.0 will be ignored. Current value: feature_fraction=0.1\n",
      "[LightGBM] [Warning] bagging_fraction is set=0.15, subsample=1.0 will be ignored. Current value: bagging_fraction=0.15\n",
      "[LightGBM] [Warning] num_iterations is set=100, num_boost_round=100 will be ignored. Current value: num_iterations=100\n",
      "[LightGBM] [Warning] boosting is set=gbdt, boosting_type=gbdt will be ignored. Current value: boosting=gbdt\n",
      "[LightGBM] [Warning] feature_fraction is set=0.1, colsample_bytree=1.0 will be ignored. Current value: feature_fraction=0.1\n",
      "[LightGBM] [Warning] bagging_fraction is set=0.15, subsample=1.0 will be ignored. Current value: bagging_fraction=0.15\n",
      "[LightGBM] [Warning] num_iterations is set=100, num_boost_round=100 will be ignored. Current value: num_iterations=100\n",
      "[LightGBM] [Warning] boosting is set=gbdt, boosting_type=gbdt will be ignored. Current value: boosting=gbdt\n",
      "[LightGBM] [Warning] feature_fraction is set=0.1, colsample_bytree=1.0 will be ignored. Current value: feature_fraction=0.1\n",
      "[LightGBM] [Warning] bagging_fraction is set=0.15, subsample=1.0 will be ignored. Current value: bagging_fraction=0.15\n",
      "[LightGBM] [Warning] num_iterations is set=100, num_boost_round=100 will be ignored. Current value: num_iterations=100\n",
      "[LightGBM] [Warning] boosting is set=gbdt, boosting_type=gbdt will be ignored. Current value: boosting=gbdt\n",
      "[LightGBM] [Warning] feature_fraction is set=0.1, colsample_bytree=1.0 will be ignored. Current value: feature_fraction=0.1\n",
      "[LightGBM] [Warning] bagging_fraction is set=0.15, subsample=1.0 will be ignored. Current value: bagging_fraction=0.15\n",
      "[LightGBM] [Warning] num_iterations is set=100, num_boost_round=100 will be ignored. Current value: num_iterations=100\n",
      "[LightGBM] [Warning] boosting is set=gbdt, boosting_type=gbdt will be ignored. Current value: boosting=gbdt\n",
      "[LightGBM] [Warning] feature_fraction is set=0.1, colsample_bytree=1.0 will be ignored. Current value: feature_fraction=0.1\n",
      "[LightGBM] [Warning] bagging_fraction is set=0.15, subsample=1.0 will be ignored. Current value: bagging_fraction=0.15\n",
      "[LightGBM] [Warning] num_iterations is set=100, num_boost_round=100 will be ignored. Current value: num_iterations=100\n",
      "[LightGBM] [Warning] boosting is set=gbdt, boosting_type=gbdt will be ignored. Current value: boosting=gbdt\n",
      "[LightGBM] [Warning] feature_fraction is set=0.1, colsample_bytree=1.0 will be ignored. Current value: feature_fraction=0.1\n",
      "[LightGBM] [Warning] bagging_fraction is set=0.15, subsample=1.0 will be ignored. Current value: bagging_fraction=0.15\n",
      "[LightGBM] [Warning] num_iterations is set=100, num_boost_round=100 will be ignored. Current value: num_iterations=100\n",
      "[LightGBM] [Warning] boosting is set=gbdt, boosting_type=gbdt will be ignored. Current value: boosting=gbdt\n",
      "[LightGBM] [Warning] feature_fraction is set=0.1, colsample_bytree=1.0 will be ignored. Current value: feature_fraction=0.1\n",
      "[LightGBM] [Warning] bagging_fraction is set=0.15, subsample=1.0 will be ignored. Current value: bagging_fraction=0.15\n",
      "[LightGBM] [Warning] num_iterations is set=100, num_boost_round=100 will be ignored. Current value: num_iterations=100\n",
      "[LightGBM] [Warning] boosting is set=gbdt, boosting_type=gbdt will be ignored. Current value: boosting=gbdt\n",
      "[LightGBM] [Warning] feature_fraction is set=0.1, colsample_bytree=1.0 will be ignored. Current value: feature_fraction=0.1\n",
      "[LightGBM] [Warning] bagging_fraction is set=0.15, subsample=1.0 will be ignored. Current value: bagging_fraction=0.15\n",
      "[LightGBM] [Warning] num_iterations is set=100, num_boost_round=100 will be ignored. Current value: num_iterations=100\n",
      "[LightGBM] [Warning] boosting is set=gbdt, boosting_type=gbdt will be ignored. Current value: boosting=gbdt\n",
      "[LightGBM] [Warning] feature_fraction is set=0.1, colsample_bytree=1.0 will be ignored. Current value: feature_fraction=0.1\n",
      "[LightGBM] [Warning] bagging_fraction is set=0.15, subsample=1.0 will be ignored. Current value: bagging_fraction=0.15\n",
      "[LightGBM] [Warning] num_iterations is set=100, num_boost_round=100 will be ignored. Current value: num_iterations=100\n",
      "[LightGBM] [Warning] boosting is set=gbdt, boosting_type=gbdt will be ignored. Current value: boosting=gbdt\n",
      "[LightGBM] [Warning] feature_fraction is set=0.1, colsample_bytree=1.0 will be ignored. Current value: feature_fraction=0.1\n",
      "[LightGBM] [Warning] bagging_fraction is set=0.15, subsample=1.0 will be ignored. Current value: bagging_fraction=0.15\n",
      "[LightGBM] [Warning] num_iterations is set=100, num_boost_round=100 will be ignored. Current value: num_iterations=100\n",
      "[LightGBM] [Warning] boosting is set=gbdt, boosting_type=gbdt will be ignored. Current value: boosting=gbdt\n",
      "[LightGBM] [Warning] feature_fraction is set=0.1, colsample_bytree=1.0 will be ignored. Current value: feature_fraction=0.1\n",
      "[LightGBM] [Warning] bagging_fraction is set=0.15, subsample=1.0 will be ignored. Current value: bagging_fraction=0.15\n",
      "[LightGBM] [Warning] num_iterations is set=100, num_boost_round=100 will be ignored. Current value: num_iterations=100\n"
     ]
    },
    {
     "name": "stdout",
     "output_type": "stream",
     "text": [
      "[LightGBM] [Warning] boosting is set=gbdt, boosting_type=gbdt will be ignored. Current value: boosting=gbdt\n",
      "[LightGBM] [Warning] feature_fraction is set=0.15, colsample_bytree=1.0 will be ignored. Current value: feature_fraction=0.15\n",
      "[LightGBM] [Warning] bagging_fraction is set=0.15, subsample=1.0 will be ignored. Current value: bagging_fraction=0.15\n",
      "[LightGBM] [Warning] num_iterations is set=100, num_boost_round=100 will be ignored. Current value: num_iterations=100\n",
      "[LightGBM] [Warning] boosting is set=gbdt, boosting_type=gbdt will be ignored. Current value: boosting=gbdt\n",
      "[LightGBM] [Warning] feature_fraction is set=0.15, colsample_bytree=1.0 will be ignored. Current value: feature_fraction=0.15\n",
      "[LightGBM] [Warning] bagging_fraction is set=0.15, subsample=1.0 will be ignored. Current value: bagging_fraction=0.15\n",
      "[LightGBM] [Warning] num_iterations is set=100, num_boost_round=100 will be ignored. Current value: num_iterations=100\n",
      "[LightGBM] [Warning] boosting is set=gbdt, boosting_type=gbdt will be ignored. Current value: boosting=gbdt\n",
      "[LightGBM] [Warning] feature_fraction is set=0.15, colsample_bytree=1.0 will be ignored. Current value: feature_fraction=0.15\n",
      "[LightGBM] [Warning] bagging_fraction is set=0.15, subsample=1.0 will be ignored. Current value: bagging_fraction=0.15\n",
      "[LightGBM] [Warning] num_iterations is set=100, num_boost_round=100 will be ignored. Current value: num_iterations=100\n",
      "[LightGBM] [Warning] boosting is set=gbdt, boosting_type=gbdt will be ignored. Current value: boosting=gbdt\n",
      "[LightGBM] [Warning] feature_fraction is set=0.15, colsample_bytree=1.0 will be ignored. Current value: feature_fraction=0.15\n",
      "[LightGBM] [Warning] bagging_fraction is set=0.15, subsample=1.0 will be ignored. Current value: bagging_fraction=0.15\n",
      "[LightGBM] [Warning] num_iterations is set=100, num_boost_round=100 will be ignored. Current value: num_iterations=100\n",
      "[LightGBM] [Warning] boosting is set=gbdt, boosting_type=gbdt will be ignored. Current value: boosting=gbdt\n",
      "[LightGBM] [Warning] feature_fraction is set=0.15, colsample_bytree=1.0 will be ignored. Current value: feature_fraction=0.15\n",
      "[LightGBM] [Warning] bagging_fraction is set=0.15, subsample=1.0 will be ignored. Current value: bagging_fraction=0.15\n",
      "[LightGBM] [Warning] num_iterations is set=100, num_boost_round=100 will be ignored. Current value: num_iterations=100\n",
      "[LightGBM] [Warning] boosting is set=gbdt, boosting_type=gbdt will be ignored. Current value: boosting=gbdt\n",
      "[LightGBM] [Warning] feature_fraction is set=0.15, colsample_bytree=1.0 will be ignored. Current value: feature_fraction=0.15\n",
      "[LightGBM] [Warning] bagging_fraction is set=0.15, subsample=1.0 will be ignored. Current value: bagging_fraction=0.15\n",
      "[LightGBM] [Warning] num_iterations is set=100, num_boost_round=100 will be ignored. Current value: num_iterations=100\n",
      "[LightGBM] [Warning] boosting is set=gbdt, boosting_type=gbdt will be ignored. Current value: boosting=gbdt\n",
      "[LightGBM] [Warning] feature_fraction is set=0.15, colsample_bytree=1.0 will be ignored. Current value: feature_fraction=0.15\n",
      "[LightGBM] [Warning] bagging_fraction is set=0.15, subsample=1.0 will be ignored. Current value: bagging_fraction=0.15\n",
      "[LightGBM] [Warning] num_iterations is set=100, num_boost_round=100 will be ignored. Current value: num_iterations=100\n",
      "[LightGBM] [Warning] boosting is set=gbdt, boosting_type=gbdt will be ignored. Current value: boosting=gbdt\n",
      "[LightGBM] [Warning] feature_fraction is set=0.15, colsample_bytree=1.0 will be ignored. Current value: feature_fraction=0.15\n",
      "[LightGBM] [Warning] bagging_fraction is set=0.15, subsample=1.0 will be ignored. Current value: bagging_fraction=0.15\n",
      "[LightGBM] [Warning] num_iterations is set=100, num_boost_round=100 will be ignored. Current value: num_iterations=100\n",
      "[LightGBM] [Warning] boosting is set=gbdt, boosting_type=gbdt will be ignored. Current value: boosting=gbdt\n",
      "[LightGBM] [Warning] feature_fraction is set=0.15, colsample_bytree=1.0 will be ignored. Current value: feature_fraction=0.15\n",
      "[LightGBM] [Warning] bagging_fraction is set=0.15, subsample=1.0 will be ignored. Current value: bagging_fraction=0.15\n",
      "[LightGBM] [Warning] num_iterations is set=100, num_boost_round=100 will be ignored. Current value: num_iterations=100\n",
      "[LightGBM] [Warning] boosting is set=gbdt, boosting_type=gbdt will be ignored. Current value: boosting=gbdt\n",
      "[LightGBM] [Warning] feature_fraction is set=0.15, colsample_bytree=1.0 will be ignored. Current value: feature_fraction=0.15\n",
      "[LightGBM] [Warning] bagging_fraction is set=0.15, subsample=1.0 will be ignored. Current value: bagging_fraction=0.15\n",
      "[LightGBM] [Warning] num_iterations is set=100, num_boost_round=100 will be ignored. Current value: num_iterations=100\n",
      "[LightGBM] [Warning] boosting is set=gbdt, boosting_type=gbdt will be ignored. Current value: boosting=gbdt\n",
      "[LightGBM] [Warning] feature_fraction is set=0.15, colsample_bytree=1.0 will be ignored. Current value: feature_fraction=0.15\n",
      "[LightGBM] [Warning] bagging_fraction is set=0.15, subsample=1.0 will be ignored. Current value: bagging_fraction=0.15\n",
      "[LightGBM] [Warning] num_iterations is set=100, num_boost_round=100 will be ignored. Current value: num_iterations=100\n",
      "[LightGBM] [Warning] boosting is set=gbdt, boosting_type=gbdt will be ignored. Current value: boosting=gbdt\n",
      "[LightGBM] [Warning] feature_fraction is set=0.15, colsample_bytree=1.0 will be ignored. Current value: feature_fraction=0.15\n",
      "[LightGBM] [Warning] bagging_fraction is set=0.15, subsample=1.0 will be ignored. Current value: bagging_fraction=0.15\n",
      "[LightGBM] [Warning] num_iterations is set=100, num_boost_round=100 will be ignored. Current value: num_iterations=100\n",
      "[LightGBM] [Warning] boosting is set=gbdt, boosting_type=gbdt will be ignored. Current value: boosting=gbdt\n",
      "[LightGBM] [Warning] feature_fraction is set=0.15, colsample_bytree=1.0 will be ignored. Current value: feature_fraction=0.15\n",
      "[LightGBM] [Warning] bagging_fraction is set=0.15, subsample=1.0 will be ignored. Current value: bagging_fraction=0.15\n",
      "[LightGBM] [Warning] num_iterations is set=100, num_boost_round=100 will be ignored. Current value: num_iterations=100\n",
      "[LightGBM] [Warning] boosting is set=gbdt, boosting_type=gbdt will be ignored. Current value: boosting=gbdt\n",
      "[LightGBM] [Warning] feature_fraction is set=0.15, colsample_bytree=1.0 will be ignored. Current value: feature_fraction=0.15\n",
      "[LightGBM] [Warning] bagging_fraction is set=0.15, subsample=1.0 will be ignored. Current value: bagging_fraction=0.15\n",
      "[LightGBM] [Warning] num_iterations is set=100, num_boost_round=100 will be ignored. Current value: num_iterations=100\n",
      "[LightGBM] [Warning] boosting is set=gbdt, boosting_type=gbdt will be ignored. Current value: boosting=gbdt\n",
      "[LightGBM] [Warning] feature_fraction is set=0.15, colsample_bytree=1.0 will be ignored. Current value: feature_fraction=0.15\n",
      "[LightGBM] [Warning] bagging_fraction is set=0.15, subsample=1.0 will be ignored. Current value: bagging_fraction=0.15\n",
      "[LightGBM] [Warning] num_iterations is set=100, num_boost_round=100 will be ignored. Current value: num_iterations=100\n",
      "[LightGBM] [Warning] boosting is set=gbdt, boosting_type=gbdt will be ignored. Current value: boosting=gbdt\n",
      "[LightGBM] [Warning] feature_fraction is set=0.15, colsample_bytree=1.0 will be ignored. Current value: feature_fraction=0.15\n",
      "[LightGBM] [Warning] bagging_fraction is set=0.15, subsample=1.0 will be ignored. Current value: bagging_fraction=0.15\n",
      "[LightGBM] [Warning] num_iterations is set=100, num_boost_round=100 will be ignored. Current value: num_iterations=100\n",
      "[LightGBM] [Warning] boosting is set=gbdt, boosting_type=gbdt will be ignored. Current value: boosting=gbdt\n",
      "[LightGBM] [Warning] feature_fraction is set=0.15, colsample_bytree=1.0 will be ignored. Current value: feature_fraction=0.15\n",
      "[LightGBM] [Warning] bagging_fraction is set=0.15, subsample=1.0 will be ignored. Current value: bagging_fraction=0.15\n",
      "[LightGBM] [Warning] num_iterations is set=100, num_boost_round=100 will be ignored. Current value: num_iterations=100\n",
      "[LightGBM] [Warning] boosting is set=gbdt, boosting_type=gbdt will be ignored. Current value: boosting=gbdt\n",
      "[LightGBM] [Warning] feature_fraction is set=0.15, colsample_bytree=1.0 will be ignored. Current value: feature_fraction=0.15\n",
      "[LightGBM] [Warning] bagging_fraction is set=0.15, subsample=1.0 will be ignored. Current value: bagging_fraction=0.15\n",
      "[LightGBM] [Warning] num_iterations is set=100, num_boost_round=100 will be ignored. Current value: num_iterations=100\n"
     ]
    },
    {
     "name": "stdout",
     "output_type": "stream",
     "text": [
      "[LightGBM] [Warning] boosting is set=gbdt, boosting_type=gbdt will be ignored. Current value: boosting=gbdt\n",
      "[LightGBM] [Warning] feature_fraction is set=0.15, colsample_bytree=1.0 will be ignored. Current value: feature_fraction=0.15\n",
      "[LightGBM] [Warning] bagging_fraction is set=0.15, subsample=1.0 will be ignored. Current value: bagging_fraction=0.15\n",
      "[LightGBM] [Warning] num_iterations is set=100, num_boost_round=100 will be ignored. Current value: num_iterations=100\n",
      "[LightGBM] [Warning] boosting is set=gbdt, boosting_type=gbdt will be ignored. Current value: boosting=gbdt\n",
      "[LightGBM] [Warning] feature_fraction is set=0.15, colsample_bytree=1.0 will be ignored. Current value: feature_fraction=0.15\n",
      "[LightGBM] [Warning] bagging_fraction is set=0.15, subsample=1.0 will be ignored. Current value: bagging_fraction=0.15\n",
      "[LightGBM] [Warning] num_iterations is set=100, num_boost_round=100 will be ignored. Current value: num_iterations=100\n",
      "[LightGBM] [Warning] boosting is set=gbdt, boosting_type=gbdt will be ignored. Current value: boosting=gbdt\n",
      "[LightGBM] [Warning] feature_fraction is set=0.15, colsample_bytree=1.0 will be ignored. Current value: feature_fraction=0.15\n",
      "[LightGBM] [Warning] bagging_fraction is set=0.15, subsample=1.0 will be ignored. Current value: bagging_fraction=0.15\n",
      "[LightGBM] [Warning] num_iterations is set=100, num_boost_round=100 will be ignored. Current value: num_iterations=100\n",
      "[LightGBM] [Warning] boosting is set=gbdt, boosting_type=gbdt will be ignored. Current value: boosting=gbdt\n",
      "[LightGBM] [Warning] feature_fraction is set=0.15, colsample_bytree=1.0 will be ignored. Current value: feature_fraction=0.15\n",
      "[LightGBM] [Warning] bagging_fraction is set=0.15, subsample=1.0 will be ignored. Current value: bagging_fraction=0.15\n",
      "[LightGBM] [Warning] num_iterations is set=100, num_boost_round=100 will be ignored. Current value: num_iterations=100\n",
      "[LightGBM] [Warning] boosting is set=gbdt, boosting_type=gbdt will be ignored. Current value: boosting=gbdt\n",
      "[LightGBM] [Warning] feature_fraction is set=0.15, colsample_bytree=1.0 will be ignored. Current value: feature_fraction=0.15\n",
      "[LightGBM] [Warning] bagging_fraction is set=0.15, subsample=1.0 will be ignored. Current value: bagging_fraction=0.15\n",
      "[LightGBM] [Warning] num_iterations is set=100, num_boost_round=100 will be ignored. Current value: num_iterations=100\n",
      "[LightGBM] [Warning] boosting is set=gbdt, boosting_type=gbdt will be ignored. Current value: boosting=gbdt\n",
      "[LightGBM] [Warning] feature_fraction is set=0.15, colsample_bytree=1.0 will be ignored. Current value: feature_fraction=0.15\n",
      "[LightGBM] [Warning] bagging_fraction is set=0.15, subsample=1.0 will be ignored. Current value: bagging_fraction=0.15\n",
      "[LightGBM] [Warning] num_iterations is set=100, num_boost_round=100 will be ignored. Current value: num_iterations=100\n",
      "[LightGBM] [Warning] boosting is set=gbdt, boosting_type=gbdt will be ignored. Current value: boosting=gbdt\n",
      "[LightGBM] [Warning] feature_fraction is set=0.1, colsample_bytree=1.0 will be ignored. Current value: feature_fraction=0.1\n",
      "[LightGBM] [Warning] bagging_fraction is set=0.1, subsample=1.0 will be ignored. Current value: bagging_fraction=0.1\n",
      "[LightGBM] [Warning] num_iterations is set=100, num_boost_round=100 will be ignored. Current value: num_iterations=100\n",
      "Гиперпараметры GridSearchCV: {'bagging_fraction': 0.1, 'boosting': 'gbdt', 'feature_fraction': 0.1, 'learning_rate': 0.01, 'metric': 'l1', 'num_boost_round': 100, 'objective': 'regression'}\n",
      "[LightGBM] [Warning] boosting is set=gbdt, boosting_type=gbdt will be ignored. Current value: boosting=gbdt\n",
      "[LightGBM] [Warning] feature_fraction is set=0.1, colsample_bytree=1.0 will be ignored. Current value: feature_fraction=0.1\n",
      "[LightGBM] [Warning] bagging_fraction is set=0.1, subsample=1.0 will be ignored. Current value: bagging_fraction=0.1\n",
      "[LightGBM] [Warning] num_iterations is set=100, num_boost_round=100 will be ignored. Current value: num_iterations=100\n",
      "[LightGBM] [Warning] boosting is set=gbdt, boosting_type=gbdt will be ignored. Current value: boosting=gbdt\n",
      "[LightGBM] [Warning] feature_fraction is set=0.1, colsample_bytree=1.0 will be ignored. Current value: feature_fraction=0.1\n",
      "[LightGBM] [Warning] bagging_fraction is set=0.1, subsample=1.0 will be ignored. Current value: bagging_fraction=0.1\n",
      "[LightGBM] [Warning] num_iterations is set=100, num_boost_round=100 will be ignored. Current value: num_iterations=100\n",
      "[LightGBM] [Warning] boosting is set=gbdt, boosting_type=gbdt will be ignored. Current value: boosting=gbdt\n",
      "[LightGBM] [Warning] feature_fraction is set=0.1, colsample_bytree=1.0 will be ignored. Current value: feature_fraction=0.1\n",
      "[LightGBM] [Warning] bagging_fraction is set=0.1, subsample=1.0 will be ignored. Current value: bagging_fraction=0.1\n",
      "[LightGBM] [Warning] num_iterations is set=100, num_boost_round=100 will be ignored. Current value: num_iterations=100\n",
      "[LightGBM] [Warning] boosting is set=gbdt, boosting_type=gbdt will be ignored. Current value: boosting=gbdt\n",
      "[LightGBM] [Warning] feature_fraction is set=0.1, colsample_bytree=1.0 will be ignored. Current value: feature_fraction=0.1\n",
      "[LightGBM] [Warning] bagging_fraction is set=0.1, subsample=1.0 will be ignored. Current value: bagging_fraction=0.1\n",
      "[LightGBM] [Warning] num_iterations is set=100, num_boost_round=100 will be ignored. Current value: num_iterations=100\n",
      "[LightGBM] [Warning] boosting is set=gbdt, boosting_type=gbdt will be ignored. Current value: boosting=gbdt\n",
      "[LightGBM] [Warning] feature_fraction is set=0.1, colsample_bytree=1.0 will be ignored. Current value: feature_fraction=0.1\n",
      "[LightGBM] [Warning] bagging_fraction is set=0.1, subsample=1.0 will be ignored. Current value: bagging_fraction=0.1\n",
      "[LightGBM] [Warning] num_iterations is set=100, num_boost_round=100 will be ignored. Current value: num_iterations=100\n",
      "\n",
      "Среднее значение cross_validation_score = 0.87\n",
      "Wall time: 52.1 s\n"
     ]
    }
   ],
   "source": [
    "%%time\n",
    "\n",
    "lgb_params = cross_validation(\n",
    "    model=LGBMRegressor,\n",
    "    X = X_train,\n",
    "    y = y_train,\n",
    "    param_grid = lgb_parameters,\n",
    "    scoring = scorer\n",
    ");"
   ]
  },
  {
   "cell_type": "code",
   "execution_count": 52,
   "metadata": {},
   "outputs": [
    {
     "name": "stdout",
     "output_type": "stream",
     "text": [
      "[LightGBM] [Warning] boosting is set=gbdt, boosting_type=gbdt will be ignored. Current value: boosting=gbdt\n",
      "[LightGBM] [Warning] feature_fraction is set=0.1, colsample_bytree=1.0 will be ignored. Current value: feature_fraction=0.1\n",
      "[LightGBM] [Warning] bagging_fraction is set=0.1, subsample=1.0 will be ignored. Current value: bagging_fraction=0.1\n",
      "[LightGBM] [Warning] num_iterations is set=100, num_boost_round=100 will be ignored. Current value: num_iterations=100\n"
     ]
    },
    {
     "data": {
      "text/plain": [
       "{'Model name': 'LGBMRegressor',\n",
       " 'Train time': 0.5033,\n",
       " 'Predict time': 0.0839,\n",
       " 'RMSE': 0.8622,\n",
       " 'Parameters': {'bagging_fraction': 0.1,\n",
       "  'boosting': 'gbdt',\n",
       "  'feature_fraction': 0.1,\n",
       "  'learning_rate': 0.01,\n",
       "  'metric': 'l1',\n",
       "  'num_boost_round': 100,\n",
       "  'objective': 'regression'}}"
      ]
     },
     "execution_count": 52,
     "metadata": {},
     "output_type": "execute_result"
    }
   ],
   "source": [
    "results += get_results(LGBMRegressor, lgb_params)\n",
    "results[-1]"
   ]
  },
  {
   "cell_type": "markdown",
   "metadata": {},
   "source": [
    "<a id='section3.5'></a>\n",
    "### 3.5 Сравнение результатов моделей"
   ]
  },
  {
   "cell_type": "code",
   "execution_count": 53,
   "metadata": {
    "scrolled": true
   },
   "outputs": [
    {
     "data": {
      "text/html": [
       "<style  type=\"text/css\" >\n",
       "    #T_7afd9d48_8393_11eb_9886_a8c5b8ee2488row0_col1 {\n",
       "            background-color:  orange;\n",
       "            : ;\n",
       "        }    #T_7afd9d48_8393_11eb_9886_a8c5b8ee2488row0_col2 {\n",
       "            background-color:  orange;\n",
       "            : ;\n",
       "        }    #T_7afd9d48_8393_11eb_9886_a8c5b8ee2488row0_col3 {\n",
       "            background-color:  orange;\n",
       "            : ;\n",
       "        }    #T_7afd9d48_8393_11eb_9886_a8c5b8ee2488row2_col1 {\n",
       "            : ;\n",
       "            background-color:  lightgreen;\n",
       "        }    #T_7afd9d48_8393_11eb_9886_a8c5b8ee2488row2_col2 {\n",
       "            : ;\n",
       "            background-color:  lightgreen;\n",
       "        }    #T_7afd9d48_8393_11eb_9886_a8c5b8ee2488row2_col3 {\n",
       "            : ;\n",
       "            background-color:  lightgreen;\n",
       "        }</style><table id=\"T_7afd9d48_8393_11eb_9886_a8c5b8ee2488\" ><thead>    <tr>        <th class=\"blank level0\" ></th>        <th class=\"col_heading level0 col0\" >Model name</th>        <th class=\"col_heading level0 col1\" >Train time</th>        <th class=\"col_heading level0 col2\" >Predict time</th>        <th class=\"col_heading level0 col3\" >RMSE</th>        <th class=\"col_heading level0 col4\" >Parameters</th>    </tr></thead><tbody>\n",
       "                <tr>\n",
       "                        <th id=\"T_7afd9d48_8393_11eb_9886_a8c5b8ee2488level0_row0\" class=\"row_heading level0 row0\" >0</th>\n",
       "                        <td id=\"T_7afd9d48_8393_11eb_9886_a8c5b8ee2488row0_col0\" class=\"data row0 col0\" >LinearRegression</td>\n",
       "                        <td id=\"T_7afd9d48_8393_11eb_9886_a8c5b8ee2488row0_col1\" class=\"data row0 col1\" >0.0398</td>\n",
       "                        <td id=\"T_7afd9d48_8393_11eb_9886_a8c5b8ee2488row0_col2\" class=\"data row0 col2\" >0.004</td>\n",
       "                        <td id=\"T_7afd9d48_8393_11eb_9886_a8c5b8ee2488row0_col3\" class=\"data row0 col3\" >0.8287</td>\n",
       "                        <td id=\"T_7afd9d48_8393_11eb_9886_a8c5b8ee2488row0_col4\" class=\"data row0 col4\" >{}</td>\n",
       "            </tr>\n",
       "            <tr>\n",
       "                        <th id=\"T_7afd9d48_8393_11eb_9886_a8c5b8ee2488level0_row1\" class=\"row_heading level0 row1\" >1</th>\n",
       "                        <td id=\"T_7afd9d48_8393_11eb_9886_a8c5b8ee2488row1_col0\" class=\"data row1 col0\" >RandomForestRegressor</td>\n",
       "                        <td id=\"T_7afd9d48_8393_11eb_9886_a8c5b8ee2488row1_col1\" class=\"data row1 col1\" >0.3557</td>\n",
       "                        <td id=\"T_7afd9d48_8393_11eb_9886_a8c5b8ee2488row1_col2\" class=\"data row1 col2\" >0.01</td>\n",
       "                        <td id=\"T_7afd9d48_8393_11eb_9886_a8c5b8ee2488row1_col3\" class=\"data row1 col3\" >0.8357</td>\n",
       "                        <td id=\"T_7afd9d48_8393_11eb_9886_a8c5b8ee2488row1_col4\" class=\"data row1 col4\" >{'max_depth': 1, 'min_samples_leaf': 1, 'min_samples_split': 2}</td>\n",
       "            </tr>\n",
       "            <tr>\n",
       "                        <th id=\"T_7afd9d48_8393_11eb_9886_a8c5b8ee2488level0_row2\" class=\"row_heading level0 row2\" >2</th>\n",
       "                        <td id=\"T_7afd9d48_8393_11eb_9886_a8c5b8ee2488row2_col0\" class=\"data row2 col0\" >LGBMRegressor</td>\n",
       "                        <td id=\"T_7afd9d48_8393_11eb_9886_a8c5b8ee2488row2_col1\" class=\"data row2 col1\" >0.5033</td>\n",
       "                        <td id=\"T_7afd9d48_8393_11eb_9886_a8c5b8ee2488row2_col2\" class=\"data row2 col2\" >0.0839</td>\n",
       "                        <td id=\"T_7afd9d48_8393_11eb_9886_a8c5b8ee2488row2_col3\" class=\"data row2 col3\" >0.8622</td>\n",
       "                        <td id=\"T_7afd9d48_8393_11eb_9886_a8c5b8ee2488row2_col4\" class=\"data row2 col4\" >{'bagging_fraction': 0.1, 'boosting': 'gbdt', 'feature_fraction': 0.1, 'learning_rate': 0.01, 'metric': 'l1', 'num_boost_round': 100, 'objective': 'regression'}</td>\n",
       "            </tr>\n",
       "    </tbody></table>"
      ],
      "text/plain": [
       "<pandas.io.formats.style.Styler at 0x2235685a548>"
      ]
     },
     "execution_count": 53,
     "metadata": {},
     "output_type": "execute_result"
    }
   ],
   "source": [
    "(pd.DataFrame(results)\n",
    "    .style\n",
    "    .highlight_min(color='orange')\n",
    "    .highlight_max(color='lightgreen')\n",
    ")"
   ]
  },
  {
   "cell_type": "markdown",
   "metadata": {},
   "source": [
    "<a id='section3.6'></a>\n",
    "### 3.6 Выводы по главе 3"
   ]
  },
  {
   "cell_type": "markdown",
   "metadata": {},
   "source": [
    "Построенные модели показывают следующие результаты (таблица выше) относительно поставленных заказчиков критериев:\n",
    "* качество предсказания;\n",
    "* скорость предсказания;\n",
    "* время обучения.\n",
    "\n",
    "По каждой из них есть выигрышный вариант.\n",
    "1. Наилучший результат по метрике `RMSE` показала модель `LGBMRegressor` со значением `0.8622`;\n",
    "2. Наилучшей со стороны скорости обучение и предсказания оказалась модель `LinearRegression`. "
   ]
  },
  {
   "cell_type": "markdown",
   "metadata": {},
   "source": [
    "<a id='section4'></a>\n",
    "## 4. Выводы исследования"
   ]
  },
  {
   "cell_type": "markdown",
   "metadata": {},
   "source": [
    "1. **Подготовка данных:**  \n",
    "    1. Данные содержат пропуски;\n",
    "    2. Содержат лишние признаки относительно поставленной задачи:\n",
    "        * `DateCrawled`;\n",
    "        * `RegistrationMonth`;\n",
    "        * `PostalCode`;\n",
    "        * `LastSeen`;\n",
    "    3. Столбец `NumberOfPictures` полностью состоит из нулей;\n",
    "    4. `Power`, `Price` содержат нули => противоречие с логикой сервиса.\n",
    "2. **Предобработка данных:**  \n",
    "    В ходе предобработки были произведены следующие действия над данными:\n",
    "    1. Исключены дубликаты;\n",
    "    2. Удалены ненужные для задачи признаки (Пункты 1.2., 1.3 вывода);\n",
    "    3. Обработаны пропуски, как категориальные, так и числовые;\n",
    "    4. Категориальные признаки были перекодированы с помощью `LabelEncoder`;\n",
    "    5. Произведено масштабирование признаков средствами `StandardScaler`.\n",
    "3. **Построение моделей:**  \n",
    "    Построенные модели показывают следующие результаты (таблица выше) относительно поставленных заказчиков критериев:\n",
    "    * качество предсказания;\n",
    "    * скорость предсказания;\n",
    "    * время обучения.  \n",
    "    \n",
    "    По каждой из них есть выигрышный вариант.\n",
    "    1. Наилучший результат по метрике `RMSE` показала модель `LGBMRegressor` со значением `0.8622`;\n",
    "    2. Наилучшей со стороны скорости обучение и предсказания оказалась модель `LinearRegression`.\n",
    "4. **Результат:**  \n",
    "    Требуется окончательное решение зазазчика касательно приоритетов в критериях. Однако из имеющейся информации следует, что модель будет использоваться в приложении => скорее всего мобильная версия приложения. Отсюда можно заключить, что время работы приоритетнее, чем точность. \n",
    "    1. Есть есть в наличиии дополнительный временной ресурс (у приложения), то рекомендуется пользоваться `LGBMRegressor` в силу заметного выигрыша по метрике `RMSE`.\n",
    "    2. Если временной ресурс имеется, но ограничен временем обучения, рекомендуетсяк `RandomForestRegressor`. Его единственнным недостатком является на порядок большее *время обучения* в сравнении с линейной регрессией, но почти вдвое меньшее, чем у градиентного бустинга. Если получить это время окажется возможным, то наилучший из вариантов. Время предсказания этой модели мало и всего вдвое большее, чем у линейной регрессии.\n",
    "    2. Если же дополнительного ресурса нет, то модель `LinearRegression`. "
   ]
  }
 ],
 "metadata": {
  "kernelspec": {
   "display_name": "Python 3",
   "language": "python",
   "name": "python3"
  },
  "language_info": {
   "codemirror_mode": {
    "name": "ipython",
    "version": 3
   },
   "file_extension": ".py",
   "mimetype": "text/x-python",
   "name": "python",
   "nbconvert_exporter": "python",
   "pygments_lexer": "ipython3",
   "version": "3.7.8"
  }
 },
 "nbformat": 4,
 "nbformat_minor": 4
}
