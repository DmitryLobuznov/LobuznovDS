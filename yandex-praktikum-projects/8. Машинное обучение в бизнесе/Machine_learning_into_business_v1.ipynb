{
 "cells": [
  {
   "cell_type": "markdown",
   "metadata": {},
   "source": [
    "# Машинное обучение в бизнесе\n",
    "____"
   ]
  },
  {
   "cell_type": "markdown",
   "metadata": {},
   "source": [
    "## Описание проекта\n",
    "Допустим, вы работаете в добывающей компании «ГлавРосГосНефть». Нужно решить, где бурить новую скважину.\n",
    "Шаги для выбора локации обычно такие:\n",
    "* В избранном регионе собирают характеристики для скважин: качество нефти и объём её запасов;\n",
    "* Строят модель для предсказания объёма запасов в новых скважинах;\n",
    "* Выбирают скважины с самыми высокими оценками значений;\n",
    "* Определяют регион с максимальной суммарной прибылью отобранных скважин.\n",
    "\n",
    "Вам предоставлены пробы нефти в трёх регионах. Характеристики для каждой скважины в регионе уже известны. Постройте модель для определения региона, где добыча принесёт наибольшую прибыль. Проанализируйте возможную прибыль и риски техникой Bootstrap.\n",
    "___"
   ]
  },
  {
   "cell_type": "markdown",
   "metadata": {},
   "source": [
    "## Описание данных\n",
    "* **Признаки:**\n",
    "    1. **`id`** — уникальный идентификатор скважины;\n",
    "    2. **`f0`**, **`f1`**, **`f2`** — три признака точек;\n",
    "* **Целевой признак:**\n",
    "    1. **`product`** — объём запасов в скважине (тыс. баррелей).\n",
    "___"
   ]
  },
  {
   "cell_type": "markdown",
   "metadata": {},
   "source": [
    "## Структура проекта\n",
    "<a href='#section1'></a>\n",
    "1. [Подготовка данных](#section1)\n",
    "<a href='#section2'></a>\n",
    "2. [Обучение моделей в регионах](#section2)\n",
    "<a href='#section3'></a>\n",
    "3. [Метрика прибыли](#section3)\n",
    "<a href='#section4'></a>\n",
    "4. [Рассчёт прибыльности регионов](#section4)\n",
    "<a href='#section5'></a>\n",
    "5. [Выводы исследования](#section5)\n",
    "___\n",
    "___"
   ]
  },
  {
   "cell_type": "markdown",
   "metadata": {},
   "source": [
    "<a id='section1'></a>\n",
    "## 1. Подготовка данных"
   ]
  },
  {
   "cell_type": "code",
   "execution_count": 1,
   "metadata": {},
   "outputs": [],
   "source": [
    "import numpy as np\n",
    "import pandas as pd\n",
    "import warnings \n",
    "# Модели\n",
    "from sklearn.linear_model import LinearRegression\n",
    "# Интструменты\n",
    "from sklearn.model_selection import train_test_split as tts\n",
    "from sklearn.preprocessing import StandardScaler\n",
    "from sklearn.metrics import mean_squared_error, mean_absolute_error, r2_score\n",
    "from sklearn.utils import shuffle\n",
    "from tqdm import tqdm\n",
    "# Графики\n",
    "import matplotlib.pyplot as plt\n",
    "import seaborn as sns\n",
    "\n",
    "warnings.filterwarnings(\"ignore\")"
   ]
  },
  {
   "cell_type": "code",
   "execution_count": 2,
   "metadata": {},
   "outputs": [],
   "source": [
    "geo_data_0 = pd.read_csv('/datasets/geo_data_0.csv')\n",
    "geo_data_1 = pd.read_csv('/datasets/geo_data_1.csv')\n",
    "geo_data_2 = pd.read_csv('/datasets/geo_data_2.csv')"
   ]
  },
  {
   "cell_type": "code",
   "execution_count": 3,
   "metadata": {
    "scrolled": true
   },
   "outputs": [
    {
     "name": "stdout",
     "output_type": "stream",
     "text": [
      "<class 'pandas.core.frame.DataFrame'>\n",
      "RangeIndex: 100000 entries, 0 to 99999\n",
      "Data columns (total 5 columns):\n",
      "id         100000 non-null object\n",
      "f0         100000 non-null float64\n",
      "f1         100000 non-null float64\n",
      "f2         100000 non-null float64\n",
      "product    100000 non-null float64\n",
      "dtypes: float64(4), object(1)\n",
      "memory usage: 3.8+ MB\n",
      "————————————————————————————————————————————————————————————————————————————————————————————————————\n",
      "\n",
      "\n",
      "None\n",
      "\n",
      "----------------------------------------------------------------------------------------------------\n",
      "\n",
      "HEAD:\n",
      "\n",
      "      id        f0        f1        f2     product\n",
      "0  txEyH  0.705745 -0.497823  1.221170  105.280062\n",
      "1  2acmU  1.334711 -0.340164  4.365080   73.037750\n",
      "2  409Wp  1.022732  0.151990  1.419926   85.265647\n",
      "3  iJLyR -0.032172  0.139033  2.978566  168.620776\n",
      "4  Xdl7t  1.988431  0.155413  4.751769  154.036647\n",
      "\n",
      "----------------------------------------------------------------------------------------------------\n",
      "\n",
      "DESCRIBE:\n",
      "\n",
      "                  f0             f1             f2        product\n",
      "count  100000.000000  100000.000000  100000.000000  100000.000000\n",
      "mean        0.500419       0.250143       2.502647      92.500000\n",
      "std         0.871832       0.504433       3.248248      44.288691\n",
      "min        -1.408605      -0.848218     -12.088328       0.000000\n",
      "25%        -0.072580      -0.200881       0.287748      56.497507\n",
      "50%         0.502360       0.250252       2.515969      91.849972\n",
      "75%         1.073581       0.700646       4.715088     128.564089\n",
      "max         2.362331       1.343769      16.003790     185.364347\n",
      "\n",
      "----------------------------------------------------------------------------------------------------\n",
      "\n",
      "NaNs percent:\n",
      "\n",
      "id         0.0\n",
      "f0         0.0\n",
      "f1         0.0\n",
      "f2         0.0\n",
      "product    0.0\n",
      "dtype: float64\n",
      "Duplicates:\n",
      "\n",
      "0\n",
      "————————————————————————————————————————————————————————————————————————————————————————————————————\n",
      "\n",
      "\n",
      "<class 'pandas.core.frame.DataFrame'>\n",
      "RangeIndex: 100000 entries, 0 to 99999\n",
      "Data columns (total 5 columns):\n",
      "id         100000 non-null object\n",
      "f0         100000 non-null float64\n",
      "f1         100000 non-null float64\n",
      "f2         100000 non-null float64\n",
      "product    100000 non-null float64\n",
      "dtypes: float64(4), object(1)\n",
      "memory usage: 3.8+ MB\n",
      "————————————————————————————————————————————————————————————————————————————————————————————————————\n",
      "\n",
      "\n",
      "None\n",
      "\n",
      "----------------------------------------------------------------------------------------------------\n",
      "\n",
      "HEAD:\n",
      "\n",
      "      id         f0         f1        f2     product\n",
      "0  kBEdx -15.001348  -8.276000 -0.005876    3.179103\n",
      "1  62mP7  14.272088  -3.475083  0.999183   26.953261\n",
      "2  vyE1P   6.263187  -5.948386  5.001160  134.766305\n",
      "3  KcrkZ -13.081196 -11.506057  4.999415  137.945408\n",
      "4  AHL4O  12.702195  -8.147433  5.004363  134.766305\n",
      "\n",
      "----------------------------------------------------------------------------------------------------\n",
      "\n",
      "DESCRIBE:\n",
      "\n",
      "                  f0             f1             f2        product\n",
      "count  100000.000000  100000.000000  100000.000000  100000.000000\n",
      "mean        1.141296      -4.796579       2.494541      68.825000\n",
      "std         8.965932       5.119872       1.703572      45.944423\n",
      "min       -31.609576     -26.358598      -0.018144       0.000000\n",
      "25%        -6.298551      -8.267985       1.000021      26.953261\n",
      "50%         1.153055      -4.813172       2.011479      57.085625\n",
      "75%         8.621015      -1.332816       3.999904     107.813044\n",
      "max        29.421755      18.734063       5.019721     137.945408\n",
      "\n",
      "----------------------------------------------------------------------------------------------------\n",
      "\n",
      "NaNs percent:\n",
      "\n",
      "id         0.0\n",
      "f0         0.0\n",
      "f1         0.0\n",
      "f2         0.0\n",
      "product    0.0\n",
      "dtype: float64\n",
      "Duplicates:\n",
      "\n",
      "0\n",
      "————————————————————————————————————————————————————————————————————————————————————————————————————\n",
      "\n",
      "\n",
      "<class 'pandas.core.frame.DataFrame'>\n",
      "RangeIndex: 100000 entries, 0 to 99999\n",
      "Data columns (total 5 columns):\n",
      "id         100000 non-null object\n",
      "f0         100000 non-null float64\n",
      "f1         100000 non-null float64\n",
      "f2         100000 non-null float64\n",
      "product    100000 non-null float64\n",
      "dtypes: float64(4), object(1)\n",
      "memory usage: 3.8+ MB\n",
      "————————————————————————————————————————————————————————————————————————————————————————————————————\n",
      "\n",
      "\n",
      "None\n",
      "\n",
      "----------------------------------------------------------------------------------------------------\n",
      "\n",
      "HEAD:\n",
      "\n",
      "      id        f0        f1        f2     product\n",
      "0  fwXo0 -1.146987  0.963328 -0.828965   27.758673\n",
      "1  WJtFt  0.262778  0.269839 -2.530187   56.069697\n",
      "2  ovLUW  0.194587  0.289035 -5.586433   62.871910\n",
      "3  q6cA6  2.236060 -0.553760  0.930038  114.572842\n",
      "4  WPMUX -0.515993  1.716266  5.899011  149.600746\n",
      "\n",
      "----------------------------------------------------------------------------------------------------\n",
      "\n",
      "DESCRIBE:\n",
      "\n",
      "                  f0             f1             f2        product\n",
      "count  100000.000000  100000.000000  100000.000000  100000.000000\n",
      "mean        0.002023      -0.002081       2.495128      95.000000\n",
      "std         1.732045       1.730417       3.473445      44.749921\n",
      "min        -8.760004      -7.084020     -11.970335       0.000000\n",
      "25%        -1.162288      -1.174820       0.130359      59.450441\n",
      "50%         0.009424      -0.009482       2.484236      94.925613\n",
      "75%         1.158535       1.163678       4.858794     130.595027\n",
      "max         7.238262       7.844801      16.739402     190.029838\n",
      "\n",
      "----------------------------------------------------------------------------------------------------\n",
      "\n",
      "NaNs percent:\n",
      "\n",
      "id         0.0\n",
      "f0         0.0\n",
      "f1         0.0\n",
      "f2         0.0\n",
      "product    0.0\n",
      "dtype: float64\n",
      "Duplicates:\n",
      "\n",
      "0\n",
      "————————————————————————————————————————————————————————————————————————————————————————————————————\n",
      "\n",
      "\n"
     ]
    }
   ],
   "source": [
    "# Первый взгляд.\n",
    "hatched_line = '\\n' + 100*'-' + '\\n'\n",
    "bold_line = 100*'—'\n",
    "for data in [geo_data_0, geo_data_1, geo_data_2]:\n",
    "    print(\n",
    "        bold_line, '\\n',\n",
    "        data.info(), hatched_line,\n",
    "        'HEAD:\\n', data.head(), hatched_line,\n",
    "        'DESCRIBE:\\n', data.describe(), hatched_line,\n",
    "        'NaNs percent:\\n', (data.isna().sum() / data.shape[0] * 100).round(2).sort_values(),\n",
    "        'Duplicates:\\n', data.duplicated().sum(),\n",
    "        bold_line, '\\n',\n",
    "        sep='\\n'\n",
    "    )"
   ]
  },
  {
   "cell_type": "markdown",
   "metadata": {},
   "source": [
    "`NaN`s не наблюдаем в данных, однако во время `data.describe()` вылезли нули (минимумы значений в столбце `product`. Рассмотрим их."
   ]
  },
  {
   "cell_type": "code",
   "execution_count": 4,
   "metadata": {},
   "outputs": [
    {
     "name": "stdout",
     "output_type": "stream",
     "text": [
      "Количество нулевых запасов в скважинах региона 0 : 1 \n",
      "Процент нулевых запасов в скважинах региона 0 : 0.00%\n",
      "\n",
      "Количество нулевых запасов в скважинах региона 1 : 8235 \n",
      "Процент нулевых запасов в скважинах региона 1 : 8.24%\n",
      "\n",
      "Количество нулевых запасов в скважинах региона 2 : 1 \n",
      "Процент нулевых запасов в скважинах региона 2 : 0.00%\n",
      "\n"
     ]
    }
   ],
   "source": [
    "for i, data in enumerate([geo_data_0, geo_data_1, geo_data_2]):\n",
    "    zeros_num = data[data['product']==0]['product'].count()\n",
    "    zeros_percent = zeros_num / data.shape[0]\n",
    "    print(\n",
    "        'Количество нулевых запасов в скважинах региона {:.0f} : {:.0f}'.format(i, zeros_num), '\\n'\n",
    "        'Процент нулевых запасов в скважинах региона {:.0f} : {:.2%}'.format(i, zeros_percent)\n",
    "    )\n",
    "    print()"
   ]
  },
  {
   "cell_type": "markdown",
   "metadata": {},
   "source": [
    "Наблюдается отличие второго региона от своих \"конкурентов\"😉. Либо имеет ошибка в вызгрузке данных, либо работники поленились измерить (маловероятно), либо не успели измерить до конца к моменту выгрузки данных, либо имеют место уже опустощённые скважины в регионе. \n",
    "\n",
    "В силу невозможности их классифицировать (прогуляться до заказчика / отдела в компании / сборщиков данных и т.д. и задать вопросы), нулевые данные во втором регионе остаются."
   ]
  },
  {
   "cell_type": "markdown",
   "metadata": {},
   "source": [
    "Исбавимся от столбца `id`. Никакой полезной для обучения информации не несёт. "
   ]
  },
  {
   "cell_type": "code",
   "execution_count": 5,
   "metadata": {},
   "outputs": [],
   "source": [
    "geo_data_0 = geo_data_0.drop(labels=['id'], axis=1)\n",
    "geo_data_1 = geo_data_1.drop(labels=['id'], axis=1)\n",
    "geo_data_2 = geo_data_2.drop(labels=['id'], axis=1)"
   ]
  },
  {
   "cell_type": "markdown",
   "metadata": {},
   "source": [
    "**Выводы:**\n",
    "1. Загруженные данные во всех регионах без пропусков;\n",
    "2. Во втором регионе замечены скважины с нулевым объёмом ($8.24\\%$). Было решено их оставить из-за невозможности классифицировать проблему в достаточной мере, чтобы удалять.\n",
    "___"
   ]
  },
  {
   "cell_type": "markdown",
   "metadata": {},
   "source": [
    "<a id='section2'></a>\n",
    "## 2. Обучение моделей в регионах"
   ]
  },
  {
   "cell_type": "markdown",
   "metadata": {},
   "source": [
    "**План действий:**\n",
    "1. Нормализация признаков для стабильности работы моделей;\n",
    "2. Разбиение на обучающую и валидационные выборки;\n",
    "3. Обучение модели `Линейной регрессии`."
   ]
  },
  {
   "cell_type": "markdown",
   "metadata": {},
   "source": [
    "Нормализацию проводим с помощью `StandardScaler`."
   ]
  },
  {
   "cell_type": "code",
   "execution_count": 6,
   "metadata": {},
   "outputs": [],
   "source": [
    "def train_valid(data, target_name='product', valid_size=0.25, is_scaled=True):\n",
    "    target = data[target_name]\n",
    "    features = data.drop([target_name], axis=1)\n",
    "    \n",
    "    features_train, features_valid, target_train, target_valid = tts(\n",
    "        features, target, test_size=valid_size, random_state=271828\n",
    "    )\n",
    "    numeric = features.columns\n",
    "    features_list = [features_train, features_valid]\n",
    "    def scaler(features_list, numeric):\n",
    "        scaler = StandardScaler()\n",
    "        scaler.fit(features[numeric])\n",
    "        features_list[0][numeric] = scaler.transform(features_list[0][numeric])\n",
    "        features_list[1][numeric] = scaler.transform(features_list[1][numeric])\n",
    "        return features_list\n",
    "    features_list = scaler(features_list, numeric)\n",
    "    return features_list[0], features_list[1], target_train, target_valid"
   ]
  },
  {
   "cell_type": "code",
   "execution_count": 7,
   "metadata": {},
   "outputs": [],
   "source": [
    "def print_table(table):\n",
    "    longest_cols = [\n",
    "        (max([len(str(row[i])) for row in table]) + 3)\n",
    "        for i in range(len(table[0]))\n",
    "    ]\n",
    "    row_format = \"\".join([\"{:>\" + str(longest_col) + \"}\" for longest_col in longest_cols])\n",
    "    for row in table:\n",
    "        print(row_format.format(*row))"
   ]
  },
  {
   "cell_type": "code",
   "execution_count": 8,
   "metadata": {},
   "outputs": [],
   "source": [
    "# Инициализируем модель Линейной регрессии.\n",
    "model = LinearRegression()"
   ]
  },
  {
   "cell_type": "code",
   "execution_count": 9,
   "metadata": {},
   "outputs": [],
   "source": [
    "def get_predictions(data_t : tuple()):\n",
    "    features_train, features_valid, target_train, target_valid = data_t\n",
    "    model.fit(features_train, target_train)\n",
    "    predicted_valid = model.predict(features_valid)\n",
    "    df = pd.DataFrame(\n",
    "        data = {\n",
    "            'product' : target_valid,\n",
    "            'predicted' : predicted_valid\n",
    "               },\n",
    "        columns = ['product', 'predicted']\n",
    "    )\n",
    "    rmse = np.round(mean_squared_error(target_valid, predicted_valid) ** .5, 4)\n",
    "    mae = np.round(mean_absolute_error(target_valid, predicted_valid), 4)\n",
    "    r2 = np.round(r2_score(target_valid, predicted_valid), 4)\n",
    "    product_mean = np.round(df['product'].mean(), 4)\n",
    "    predicted_mean = np.round(df['predicted'].mean(), 4)\n",
    "    product_sum = np.round(df['product'].sum(), 2)\n",
    "    predicted_sum = np.round(df['predicted'].sum(), 2)\n",
    "    params_df = pd.DataFrame(\n",
    "        data = {\n",
    "            'product_mean' : product_mean,\n",
    "            'predicted_mean' : predicted_mean,\n",
    "            'product_sum' : product_sum,\n",
    "            'predicted_sum' : predicted_sum\n",
    "        },\n",
    "        columns = ['product_mean', 'predicted_mean', 'product_sum', 'predicted_sum'],\n",
    "        index = [0]\n",
    "    )\n",
    "    metrics = [rmse, mae, r2]\n",
    "    return df, params_df, metrics"
   ]
  },
  {
   "cell_type": "markdown",
   "metadata": {},
   "source": [
    "**`geo_data_0`**"
   ]
  },
  {
   "cell_type": "code",
   "execution_count": 10,
   "metadata": {},
   "outputs": [
    {
     "name": "stdout",
     "output_type": "stream",
     "text": [
      "RMSE модели для региона 0 = 37.6225\n",
      "MAE модели для региона 0 = 31.0734\n",
      "R^2 модели для региона 0 = 0.2806\n"
     ]
    },
    {
     "data": {
      "text/html": [
       "<div>\n",
       "<style scoped>\n",
       "    .dataframe tbody tr th:only-of-type {\n",
       "        vertical-align: middle;\n",
       "    }\n",
       "\n",
       "    .dataframe tbody tr th {\n",
       "        vertical-align: top;\n",
       "    }\n",
       "\n",
       "    .dataframe thead th {\n",
       "        text-align: right;\n",
       "    }\n",
       "</style>\n",
       "<table border=\"1\" class=\"dataframe\">\n",
       "  <thead>\n",
       "    <tr style=\"text-align: right;\">\n",
       "      <th></th>\n",
       "      <th>product</th>\n",
       "      <th>predicted</th>\n",
       "    </tr>\n",
       "  </thead>\n",
       "  <tbody>\n",
       "    <tr>\n",
       "      <td>90064</td>\n",
       "      <td>130.455810</td>\n",
       "      <td>125.540022</td>\n",
       "    </tr>\n",
       "    <tr>\n",
       "      <td>53855</td>\n",
       "      <td>20.142712</td>\n",
       "      <td>70.290942</td>\n",
       "    </tr>\n",
       "    <tr>\n",
       "      <td>92300</td>\n",
       "      <td>59.619582</td>\n",
       "      <td>56.113433</td>\n",
       "    </tr>\n",
       "    <tr>\n",
       "      <td>62311</td>\n",
       "      <td>112.859826</td>\n",
       "      <td>123.567734</td>\n",
       "    </tr>\n",
       "    <tr>\n",
       "      <td>40134</td>\n",
       "      <td>84.461062</td>\n",
       "      <td>80.209561</td>\n",
       "    </tr>\n",
       "  </tbody>\n",
       "</table>\n",
       "</div>"
      ],
      "text/plain": [
       "          product   predicted\n",
       "90064  130.455810  125.540022\n",
       "53855   20.142712   70.290942\n",
       "92300   59.619582   56.113433\n",
       "62311  112.859826  123.567734\n",
       "40134   84.461062   80.209561"
      ]
     },
     "execution_count": 10,
     "metadata": {},
     "output_type": "execute_result"
    }
   ],
   "source": [
    "predictions_0, params_0, metrics_0 = get_predictions(train_valid(geo_data_0))\n",
    "print('RMSE модели для региона 0 =', metrics_0[0])\n",
    "print('MAE модели для региона 0 =', metrics_0[1])\n",
    "print('R^2 модели для региона 0 =', metrics_0[2])\n",
    "predictions_0.sample(5)"
   ]
  },
  {
   "cell_type": "markdown",
   "metadata": {},
   "source": [
    "**`geo_data_1`**"
   ]
  },
  {
   "cell_type": "code",
   "execution_count": 11,
   "metadata": {},
   "outputs": [
    {
     "name": "stdout",
     "output_type": "stream",
     "text": [
      "RMSE модели для региона 1 = 0.8889\n",
      "MAE модели для региона 1 = 0.7168\n",
      "R^2 модели для региона 1 = 0.9996\n"
     ]
    },
    {
     "data": {
      "text/html": [
       "<div>\n",
       "<style scoped>\n",
       "    .dataframe tbody tr th:only-of-type {\n",
       "        vertical-align: middle;\n",
       "    }\n",
       "\n",
       "    .dataframe tbody tr th {\n",
       "        vertical-align: top;\n",
       "    }\n",
       "\n",
       "    .dataframe thead th {\n",
       "        text-align: right;\n",
       "    }\n",
       "</style>\n",
       "<table border=\"1\" class=\"dataframe\">\n",
       "  <thead>\n",
       "    <tr style=\"text-align: right;\">\n",
       "      <th></th>\n",
       "      <th>product</th>\n",
       "      <th>predicted</th>\n",
       "    </tr>\n",
       "  </thead>\n",
       "  <tbody>\n",
       "    <tr>\n",
       "      <td>65242</td>\n",
       "      <td>30.132364</td>\n",
       "      <td>29.949185</td>\n",
       "    </tr>\n",
       "    <tr>\n",
       "      <td>11433</td>\n",
       "      <td>30.132364</td>\n",
       "      <td>29.840978</td>\n",
       "    </tr>\n",
       "    <tr>\n",
       "      <td>3552</td>\n",
       "      <td>84.038886</td>\n",
       "      <td>82.753300</td>\n",
       "    </tr>\n",
       "    <tr>\n",
       "      <td>37035</td>\n",
       "      <td>84.038886</td>\n",
       "      <td>83.074599</td>\n",
       "    </tr>\n",
       "    <tr>\n",
       "      <td>28297</td>\n",
       "      <td>30.132364</td>\n",
       "      <td>30.074786</td>\n",
       "    </tr>\n",
       "  </tbody>\n",
       "</table>\n",
       "</div>"
      ],
      "text/plain": [
       "         product  predicted\n",
       "65242  30.132364  29.949185\n",
       "11433  30.132364  29.840978\n",
       "3552   84.038886  82.753300\n",
       "37035  84.038886  83.074599\n",
       "28297  30.132364  30.074786"
      ]
     },
     "execution_count": 11,
     "metadata": {},
     "output_type": "execute_result"
    }
   ],
   "source": [
    "predictions_1, params_1, metrics_1 = get_predictions(train_valid(geo_data_1))\n",
    "print('RMSE модели для региона 1 =', metrics_1[0])\n",
    "print('MAE модели для региона 1 =', metrics_1[1])\n",
    "print('R^2 модели для региона 1 =', metrics_1[2])\n",
    "predictions_1.head(5)"
   ]
  },
  {
   "cell_type": "markdown",
   "metadata": {},
   "source": [
    "**`geo_data_2`**"
   ]
  },
  {
   "cell_type": "code",
   "execution_count": 12,
   "metadata": {
    "scrolled": false
   },
   "outputs": [
    {
     "name": "stdout",
     "output_type": "stream",
     "text": [
      "RMSE модели для региона 1 = 40.1322\n",
      "MAE модели для региона 1 = 32.9593\n",
      "R^2 модели для региона 1 = 0.2036\n"
     ]
    },
    {
     "data": {
      "text/html": [
       "<div>\n",
       "<style scoped>\n",
       "    .dataframe tbody tr th:only-of-type {\n",
       "        vertical-align: middle;\n",
       "    }\n",
       "\n",
       "    .dataframe tbody tr th {\n",
       "        vertical-align: top;\n",
       "    }\n",
       "\n",
       "    .dataframe thead th {\n",
       "        text-align: right;\n",
       "    }\n",
       "</style>\n",
       "<table border=\"1\" class=\"dataframe\">\n",
       "  <thead>\n",
       "    <tr style=\"text-align: right;\">\n",
       "      <th></th>\n",
       "      <th>product</th>\n",
       "      <th>predicted</th>\n",
       "    </tr>\n",
       "  </thead>\n",
       "  <tbody>\n",
       "    <tr>\n",
       "      <td>65242</td>\n",
       "      <td>93.287617</td>\n",
       "      <td>84.200262</td>\n",
       "    </tr>\n",
       "    <tr>\n",
       "      <td>11433</td>\n",
       "      <td>128.822066</td>\n",
       "      <td>86.067169</td>\n",
       "    </tr>\n",
       "    <tr>\n",
       "      <td>3552</td>\n",
       "      <td>8.391635</td>\n",
       "      <td>81.086119</td>\n",
       "    </tr>\n",
       "    <tr>\n",
       "      <td>37035</td>\n",
       "      <td>74.060369</td>\n",
       "      <td>76.811163</td>\n",
       "    </tr>\n",
       "    <tr>\n",
       "      <td>28297</td>\n",
       "      <td>140.158561</td>\n",
       "      <td>76.418823</td>\n",
       "    </tr>\n",
       "  </tbody>\n",
       "</table>\n",
       "</div>"
      ],
      "text/plain": [
       "          product  predicted\n",
       "65242   93.287617  84.200262\n",
       "11433  128.822066  86.067169\n",
       "3552     8.391635  81.086119\n",
       "37035   74.060369  76.811163\n",
       "28297  140.158561  76.418823"
      ]
     },
     "execution_count": 12,
     "metadata": {},
     "output_type": "execute_result"
    }
   ],
   "source": [
    "predictions_2, params_2, metrics_2 = get_predictions(train_valid(geo_data_2))\n",
    "print('RMSE модели для региона 1 =', metrics_2[0])\n",
    "print('MAE модели для региона 1 =', metrics_2[1])\n",
    "print('R^2 модели для региона 1 =', metrics_2[2])\n",
    "predictions_2.head(5)"
   ]
  },
  {
   "cell_type": "markdown",
   "metadata": {},
   "source": [
    "Таблицы реальных/предсказанных средних и сумм запасов сырья в регионе с RMSE моделей, получивших такие результаты."
   ]
  },
  {
   "cell_type": "code",
   "execution_count": 13,
   "metadata": {},
   "outputs": [
    {
     "data": {
      "text/html": [
       "<div>\n",
       "<style scoped>\n",
       "    .dataframe tbody tr th:only-of-type {\n",
       "        vertical-align: middle;\n",
       "    }\n",
       "\n",
       "    .dataframe tbody tr th {\n",
       "        vertical-align: top;\n",
       "    }\n",
       "\n",
       "    .dataframe thead th {\n",
       "        text-align: right;\n",
       "    }\n",
       "</style>\n",
       "<table border=\"1\" class=\"dataframe\">\n",
       "  <thead>\n",
       "    <tr style=\"text-align: right;\">\n",
       "      <th></th>\n",
       "      <th>product_mean</th>\n",
       "      <th>predicted_mean</th>\n",
       "      <th>product_sum</th>\n",
       "      <th>predicted_sum</th>\n",
       "      <th>RMSE</th>\n",
       "      <th>MAE</th>\n",
       "      <th>R^2</th>\n",
       "    </tr>\n",
       "  </thead>\n",
       "  <tbody>\n",
       "    <tr>\n",
       "      <td>0</td>\n",
       "      <td>92.5533</td>\n",
       "      <td>92.4899</td>\n",
       "      <td>2313832.65</td>\n",
       "      <td>2312248.46</td>\n",
       "      <td>37.6225</td>\n",
       "      <td>31.0734</td>\n",
       "      <td>0.2806</td>\n",
       "    </tr>\n",
       "    <tr>\n",
       "      <td>1</td>\n",
       "      <td>68.9755</td>\n",
       "      <td>68.9867</td>\n",
       "      <td>1724387.12</td>\n",
       "      <td>1724666.84</td>\n",
       "      <td>0.8889</td>\n",
       "      <td>0.7168</td>\n",
       "      <td>0.9996</td>\n",
       "    </tr>\n",
       "    <tr>\n",
       "      <td>2</td>\n",
       "      <td>94.8377</td>\n",
       "      <td>94.9058</td>\n",
       "      <td>2370943.26</td>\n",
       "      <td>2372644.44</td>\n",
       "      <td>40.1322</td>\n",
       "      <td>32.9593</td>\n",
       "      <td>0.2036</td>\n",
       "    </tr>\n",
       "  </tbody>\n",
       "</table>\n",
       "</div>"
      ],
      "text/plain": [
       "   product_mean  predicted_mean  product_sum  predicted_sum     RMSE      MAE  \\\n",
       "0       92.5533         92.4899   2313832.65     2312248.46  37.6225  31.0734   \n",
       "1       68.9755         68.9867   1724387.12     1724666.84   0.8889   0.7168   \n",
       "2       94.8377         94.9058   2370943.26     2372644.44  40.1322  32.9593   \n",
       "\n",
       "      R^2  \n",
       "0  0.2806  \n",
       "1  0.9996  \n",
       "2  0.2036  "
      ]
     },
     "execution_count": 13,
     "metadata": {},
     "output_type": "execute_result"
    }
   ],
   "source": [
    "metrics = pd.DataFrame(data = [metrics_0, metrics_1, metrics_2], columns = ['RMSE', 'MAE', 'R^2'])\n",
    "params = pd.concat([params_0, params_1, params_2], ignore_index=True)\n",
    "final_table = pd.concat([params, metrics], axis=1)\n",
    "final_table"
   ]
  },
  {
   "cell_type": "markdown",
   "metadata": {},
   "source": [
    "**Результаты:**\n",
    "1. Построенные модели для каждого региона предсказывают с высокой долей точности (<< $1\\%$) суммарные запасы в регионе.\n",
    "2. Наилучший показатель по $RMSE, MAE$ у `региона_1`, однако согласно коэффициенту Пирсона, модель сильно переобучилась. Вдобавок помним об утерянных $8,24\\%$ данных и сумма запасов в этом регионе наименьшая из всех.\n",
    "3. Из вышесказанного конечный выбор региона для разработки будет производить между `регионом_0` и `регионом_2`."
   ]
  },
  {
   "cell_type": "markdown",
   "metadata": {},
   "source": [
    "<a id='section3'></a>\n",
    "## 3. Метрика прибыли"
   ]
  },
  {
   "cell_type": "markdown",
   "metadata": {},
   "source": [
    "Вводные данные"
   ]
  },
  {
   "cell_type": "code",
   "execution_count": 14,
   "metadata": {},
   "outputs": [],
   "source": [
    "budget = 1e7    # [тыс. рублей]\n",
    "chosen_points = 500\n",
    "best_points = 200\n",
    "price_per_barrel = 450"
   ]
  },
  {
   "cell_type": "markdown",
   "metadata": {},
   "source": [
    "Рассчитаем безубыточные характеристики для разработки на лучших скважинах."
   ]
  },
  {
   "cell_type": "code",
   "execution_count": 15,
   "metadata": {},
   "outputs": [
    {
     "name": "stdout",
     "output_type": "stream",
     "text": [
      "Средняя прибыль с лучших точек =  50000.0 [тыс. рублей]\n",
      "Средняя объём с лучших точек =  111.11 [тыс. рублей]\n",
      "Средняя объём в регионе =  22222.22 [тыс. рублей]\n",
      "Средние запасы в регионах (по порядку): 92.5 68.825 95.0\n"
     ]
    }
   ],
   "source": [
    "average_revenue_per_point = budget / best_points\n",
    "print('Средняя прибыль с лучших точек = ', np.round(average_revenue_per_point), '[тыс. рублей]')\n",
    "average_barrels_per_point = average_revenue_per_point / price_per_barrel\n",
    "print('Средняя объём с лучших точек = ', np.round(average_barrels_per_point, 2), '[тыс. рублей]')\n",
    "average_barrels = budget / price_per_barrel\n",
    "print('Средняя объём в регионе = ', np.round(average_barrels, 2), '[тыс. рублей]')\n",
    "print(\n",
    "    'Средние запасы в регионах (по порядку):', \n",
    "    np.round(geo_data_0['product'].mean(), 4), \n",
    "    np.round(geo_data_1['product'].mean(), 4), \n",
    "    np.round(geo_data_2['product'].mean(), 4)\n",
    "     )"
   ]
  },
  {
   "cell_type": "markdown",
   "metadata": {},
   "source": [
    "**Выводы:**\n",
    "1. Рассчитаны безубыточные характеристики для разработки на лучших скважинах;\n",
    "2. По оценке средних суммарных запасов в регионах наиболее предпочтительными (повторно) кажутся `регион_0`, `регион_2`."
   ]
  },
  {
   "cell_type": "markdown",
   "metadata": {},
   "source": [
    "<a id='section4'></a>\n",
    "## 4. Расчёт прибыльности регионов"
   ]
  },
  {
   "cell_type": "code",
   "execution_count": 16,
   "metadata": {},
   "outputs": [],
   "source": [
    "state = np.random.RandomState(271828)"
   ]
  },
  {
   "cell_type": "code",
   "execution_count": 17,
   "metadata": {},
   "outputs": [],
   "source": [
    "def bootstrap(target, probabilities, steps=1000):\n",
    "    values = list()\n",
    "    count = 0\n",
    "    \n",
    "    def get_revenue(target, probabilities, count):\n",
    "        probabilities_sorted = probabilities.sort_values(ascending=False)\n",
    "        selected = target[probabilities_sorted.index][:count]\n",
    "        return price_per_barrel * selected.sum() - budget\n",
    "        \n",
    "    for i in tqdm(range(steps)):\n",
    "        target_sample = target.sample(n=chosen_points, replace=True, random_state=state)\n",
    "        probabilities_sample = probabilities[target_sample.index]\n",
    "        \n",
    "        revenue = get_revenue(target, probabilities_sample, best_points)\n",
    "        if revenue < 0:\n",
    "            count += 1\n",
    "        values.append(revenue)\n",
    "    \n",
    "    values = pd.Series(values)\n",
    "    lower = values.quantile(0.025)\n",
    "    upper = values.quantile(0.975)\n",
    "    mean = values.mean()\n",
    "    risk = count / 1000\n",
    "    return mean, lower, upper, risk"
   ]
  },
  {
   "cell_type": "markdown",
   "metadata": {},
   "source": [
    "**`geo_data_0`**"
   ]
  },
  {
   "cell_type": "code",
   "execution_count": 18,
   "metadata": {},
   "outputs": [
    {
     "name": "stderr",
     "output_type": "stream",
     "text": [
      "100%|█████████████████████████████████████████████████████████████████████████████| 1000/1000 [00:02<00:00, 360.81it/s]"
     ]
    },
    {
     "name": "stdout",
     "output_type": "stream",
     "text": [
      "Регион 0:\n",
      "\n",
      "Средняя прибыль = 456196.01 [тыс. рублей]\n",
      "Доверительный интервал 95% = ( -46978.39 , 962055.09 ) [тыс. рублей]\n",
      "Риск разработки = 3.70%\n"
     ]
    },
    {
     "name": "stderr",
     "output_type": "stream",
     "text": [
      "\n"
     ]
    }
   ],
   "source": [
    "mean_0, lower_0, upper_0, risk_0 = bootstrap(predictions_0['product'], predictions_0['predicted'], steps=1000)\n",
    "print(\n",
    "    'Регион 0:\\n',\n",
    "    'Средняя прибыль = {:.2f} [тыс. рублей]'.format(mean_0),\n",
    "    'Доверительный интервал 95% = ( {:.2f} , {:.2f} ) [тыс. рублей]'.format(lower_0, upper_0),\n",
    "    'Риск разработки = {:.2%}'.format(risk_0),\n",
    "    sep='\\n'\n",
    ")"
   ]
  },
  {
   "cell_type": "markdown",
   "metadata": {},
   "source": [
    "**`geo_data_1`**"
   ]
  },
  {
   "cell_type": "code",
   "execution_count": 19,
   "metadata": {},
   "outputs": [
    {
     "name": "stderr",
     "output_type": "stream",
     "text": [
      "100%|█████████████████████████████████████████████████████████████████████████████| 1000/1000 [00:02<00:00, 351.87it/s]"
     ]
    },
    {
     "name": "stdout",
     "output_type": "stream",
     "text": [
      "Регион 1:\n",
      "\n",
      "Средняя прибыль = 461144.99 [тыс. рублей]\n",
      "Доверительный интервал 95% = ( 75982.67 , 847330.57 ) [тыс. рублей]\n",
      "Риск разработки = 1.20%\n"
     ]
    },
    {
     "name": "stderr",
     "output_type": "stream",
     "text": [
      "\n"
     ]
    }
   ],
   "source": [
    "mean_1, lower_1, upper_1, risk_1 = bootstrap(predictions_1['product'], predictions_1['predicted'], steps=1000)\n",
    "print(\n",
    "    'Регион 1:\\n',\n",
    "    'Средняя прибыль = {:.2f} [тыс. рублей]'.format(mean_1),\n",
    "    'Доверительный интервал 95% = ( {:.2f} , {:.2f} ) [тыс. рублей]'.format(lower_1, upper_1),\n",
    "    'Риск разработки = {:.2%}'.format(risk_1),\n",
    "    sep='\\n'\n",
    ")"
   ]
  },
  {
   "cell_type": "markdown",
   "metadata": {},
   "source": [
    "**`geo_data_2`**"
   ]
  },
  {
   "cell_type": "code",
   "execution_count": 20,
   "metadata": {
    "scrolled": true
   },
   "outputs": [
    {
     "name": "stderr",
     "output_type": "stream",
     "text": [
      "100%|█████████████████████████████████████████████████████████████████████████████| 1000/1000 [00:02<00:00, 358.70it/s]"
     ]
    },
    {
     "name": "stdout",
     "output_type": "stream",
     "text": [
      "Регион 2:\n",
      "\n",
      "Средняя прибыль = 382547.76 [тыс. рублей]\n",
      "Доверительный интервал 95% = ( -143215.27 , 905934.67 ) [тыс. рублей]\n",
      "Риск разработки = 7.30%\n"
     ]
    },
    {
     "name": "stderr",
     "output_type": "stream",
     "text": [
      "\n"
     ]
    }
   ],
   "source": [
    "mean_2, lower_2, upper_2, risk_2 = bootstrap(predictions_2['product'], predictions_2['predicted'], steps=1000)\n",
    "print(\n",
    "    'Регион 2:\\n',\n",
    "    'Средняя прибыль = {:.2f} [тыс. рублей]'.format(mean_2),\n",
    "    'Доверительный интервал 95% = ( {:.2f} , {:.2f} ) [тыс. рублей]'.format(lower_2, upper_2),\n",
    "    'Риск разработки = {:.2%}'.format(risk_2),\n",
    "    sep='\\n'\n",
    ")"
   ]
  },
  {
   "cell_type": "markdown",
   "metadata": {},
   "source": [
    "**Результаты:**\n",
    "1. Для всех трёх регионов были рассчитаны экономические характеристики: прибыль, доверительный интервал, риски;\n",
    "2. Наименьшие риски показывает `регион_1`. Даже при самом неудачном выборе точек нижняя граница интервала позволит остаться разработке доходной;\n",
    "3. Далее по степени риска идут `регион_0`, `регион_2` соответственно."
   ]
  },
  {
   "cell_type": "markdown",
   "metadata": {},
   "source": [
    "<a id='section5'></a>\n",
    "## 5. Выводы исследования"
   ]
  },
  {
   "cell_type": "markdown",
   "metadata": {},
   "source": [
    "1. **Подготовка данных:**  \n",
    "    1. Загруженные данные во всех регионах без пропусков;\n",
    "    2. Во втором регионе замечены скважины с нулевым объёмом ($8.24\\%$). Было решено их оставить из-за невозможности классифицировать проблему в достаточной мере, чтобы удалять.\n",
    "2. **Обучение моделей в регионах:**  \n",
    "    1. Построенные модели для каждого региона предсказывают с высокой долей точности (<< $1\\%$) суммарные запасы в регионе.\n",
    "    2. Наилучший показатель по $RMSE, MAE$ у `региона_1`, однако согласно коэффициенту Пирсона, модель сильно переобучилась. Вдобавок помним об утерянных $8,24\\%$ данных и сумма запасов в этом регионе наименьшая из всех.\n",
    "    3. Из вышесказанного конечный выбор региона для разработки будет производить между `регионом_0` и `регионом_2`.\n",
    "3. **Метрика прибыли:**  \n",
    "    1. Рассчитаны безубыточные характеристики для разработки на лучших скважинах;\n",
    "    2. По оценке средних суммарных запасов в регионах наиболее предпочтительными (повторно) кажутся `регион_0`, `регион_2`.\n",
    "4. **Расчёт прибыльности регионов:**  \n",
    "    1. Для всех трёх регионов были рассчитаны экономические характеристики: прибыль, доверительный интервал, риски;\n",
    "    2. Наименьшие риски показывает `регион_1`. Даже при самом неудачном выборе точек нижняя граница интервала позволит остаться разработке доходной;\n",
    "    3. Далее по степени риска идут `регион_0`, `регион_2` соответственно.\n",
    "5. **Общий вывод:**  \n",
    "В результате проведённого исследования для разработки рекомендуется взять `регион_0`. \n",
    "    * Он имеет достаточно малую степень риска, что компенсирует меньшие суммарные запасы;\n",
    "    * Построенная модель показывает результаты лучше, чем в `регионе_2` ($R^2_0 = 0.28$ против $R^2_2 = 0.2$); \n",
    "    * Отсутвуют недостатки в данных присущие `региону_1` (нули в значениях `product`, переобучение на этих данных). "
   ]
  }
 ],
 "metadata": {
  "kernelspec": {
   "display_name": "Python 3",
   "language": "python",
   "name": "python3"
  },
  "language_info": {
   "codemirror_mode": {
    "name": "ipython",
    "version": 3
   },
   "file_extension": ".py",
   "mimetype": "text/x-python",
   "name": "python",
   "nbconvert_exporter": "python",
   "pygments_lexer": "ipython3",
   "version": "3.7.8"
  }
 },
 "nbformat": 4,
 "nbformat_minor": 4
}
