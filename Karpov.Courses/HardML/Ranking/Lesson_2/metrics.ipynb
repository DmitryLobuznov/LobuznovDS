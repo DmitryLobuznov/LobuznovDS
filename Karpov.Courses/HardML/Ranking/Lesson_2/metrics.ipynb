{
 "cells": [
  {
   "cell_type": "code",
   "execution_count": 1,
   "metadata": {},
   "outputs": [],
   "source": [
    "import pandas as pd\n",
    "from math import log2\n",
    "from torch import Tensor, rand, sort, randn, randint"
   ]
  },
  {
   "cell_type": "code",
   "execution_count": 2,
   "metadata": {},
   "outputs": [
    {
     "data": {
      "text/html": [
       "<div>\n",
       "<style scoped>\n",
       "    .dataframe tbody tr th:only-of-type {\n",
       "        vertical-align: middle;\n",
       "    }\n",
       "\n",
       "    .dataframe tbody tr th {\n",
       "        vertical-align: top;\n",
       "    }\n",
       "\n",
       "    .dataframe thead th {\n",
       "        text-align: right;\n",
       "    }\n",
       "</style>\n",
       "<table border=\"1\" class=\"dataframe\">\n",
       "  <thead>\n",
       "    <tr style=\"text-align: right;\">\n",
       "      <th></th>\n",
       "      <th>Gain</th>\n",
       "    </tr>\n",
       "  </thead>\n",
       "  <tbody>\n",
       "    <tr>\n",
       "      <th>D1</th>\n",
       "      <td>3</td>\n",
       "    </tr>\n",
       "    <tr>\n",
       "      <th>D2</th>\n",
       "      <td>2</td>\n",
       "    </tr>\n",
       "    <tr>\n",
       "      <th>D3</th>\n",
       "      <td>1</td>\n",
       "    </tr>\n",
       "    <tr>\n",
       "      <th>D4</th>\n",
       "      <td>1</td>\n",
       "    </tr>\n",
       "    <tr>\n",
       "      <th>D5</th>\n",
       "      <td>3</td>\n",
       "    </tr>\n",
       "    <tr>\n",
       "      <th>D6</th>\n",
       "      <td>1</td>\n",
       "    </tr>\n",
       "    <tr>\n",
       "      <th>D7</th>\n",
       "      <td>2</td>\n",
       "    </tr>\n",
       "  </tbody>\n",
       "</table>\n",
       "</div>"
      ],
      "text/plain": [
       "   Gain\n",
       "D1    3\n",
       "D2    2\n",
       "D3    1\n",
       "D4    1\n",
       "D5    3\n",
       "D6    1\n",
       "D7    2"
      ]
     },
     "execution_count": 2,
     "metadata": {},
     "output_type": "execute_result"
    }
   ],
   "source": [
    "sample = pd.DataFrame(\n",
    "    data=[str(val) for val in [3, 2, 1, 1, 3, 1, 2]],\n",
    "    columns=[\"Gain\"],\n",
    "    index=[f\"D{i}\" for i in range(1, 8)],\n",
    ")\n",
    "sample"
   ]
  },
  {
   "cell_type": "code",
   "execution_count": 3,
   "metadata": {},
   "outputs": [
    {
     "data": {
      "text/plain": [
       "array(['3', '2'], dtype=object)"
      ]
     },
     "execution_count": 3,
     "metadata": {},
     "output_type": "execute_result"
    }
   ],
   "source": [
    "sample[\"Gain\"][:2].values"
   ]
  },
  {
   "cell_type": "code",
   "execution_count": 4,
   "metadata": {},
   "outputs": [
    {
     "data": {
      "text/html": [
       "<div>\n",
       "<style scoped>\n",
       "    .dataframe tbody tr th:only-of-type {\n",
       "        vertical-align: middle;\n",
       "    }\n",
       "\n",
       "    .dataframe tbody tr th {\n",
       "        vertical-align: top;\n",
       "    }\n",
       "\n",
       "    .dataframe thead th {\n",
       "        text-align: right;\n",
       "    }\n",
       "</style>\n",
       "<table border=\"1\" class=\"dataframe\">\n",
       "  <thead>\n",
       "    <tr style=\"text-align: right;\">\n",
       "      <th></th>\n",
       "      <th>Gain</th>\n",
       "      <th>Cumulative Gain</th>\n",
       "    </tr>\n",
       "  </thead>\n",
       "  <tbody>\n",
       "    <tr>\n",
       "      <th>D1</th>\n",
       "      <td>3</td>\n",
       "      <td>3</td>\n",
       "    </tr>\n",
       "    <tr>\n",
       "      <th>D2</th>\n",
       "      <td>2</td>\n",
       "      <td>3+2</td>\n",
       "    </tr>\n",
       "    <tr>\n",
       "      <th>D3</th>\n",
       "      <td>1</td>\n",
       "      <td>3+2+1</td>\n",
       "    </tr>\n",
       "    <tr>\n",
       "      <th>D4</th>\n",
       "      <td>1</td>\n",
       "      <td>3+2+1+1</td>\n",
       "    </tr>\n",
       "    <tr>\n",
       "      <th>D5</th>\n",
       "      <td>3</td>\n",
       "      <td>3+2+1+1+3</td>\n",
       "    </tr>\n",
       "    <tr>\n",
       "      <th>D6</th>\n",
       "      <td>1</td>\n",
       "      <td>3+2+1+1+3+1</td>\n",
       "    </tr>\n",
       "    <tr>\n",
       "      <th>D7</th>\n",
       "      <td>2</td>\n",
       "      <td>3+2+1+1+3+1+2</td>\n",
       "    </tr>\n",
       "  </tbody>\n",
       "</table>\n",
       "</div>"
      ],
      "text/plain": [
       "   Gain Cumulative Gain\n",
       "D1    3               3\n",
       "D2    2             3+2\n",
       "D3    1           3+2+1\n",
       "D4    1         3+2+1+1\n",
       "D5    3       3+2+1+1+3\n",
       "D6    1     3+2+1+1+3+1\n",
       "D7    2   3+2+1+1+3+1+2"
      ]
     },
     "execution_count": 4,
     "metadata": {},
     "output_type": "execute_result"
    }
   ],
   "source": [
    "sample[\"Cumulative Gain\"] = ['+'.join(sample[\"Gain\"].values[:i]) for i in range(1, sample.shape[0]+1)]\n",
    "sample"
   ]
  },
  {
   "cell_type": "markdown",
   "metadata": {},
   "source": [
    "Добавим штраф за позицию"
   ]
  },
  {
   "cell_type": "markdown",
   "metadata": {},
   "source": [
    "Так появляется метрика `Discounted Cumulative Gain (DCG)`\n",
    "\n",
    "Каждую получаемую оценку на следующем шаге кумулятивной суммы будем делить на $log_2(k+1)$."
   ]
  },
  {
   "cell_type": "markdown",
   "metadata": {},
   "source": [
    "`Normalized Discounted Cumulative Gain (nDCG)`\n",
    "\n",
    "$$\n",
    "    nDCG@K = \\frac{DCG@K}{IdealDCG@K}\n",
    "$$ "
   ]
  },
  {
   "cell_type": "markdown",
   "metadata": {},
   "source": [
    "`PFound (Yandex)`\n",
    "\n",
    "Метрика показывает __оценку вероятности__ найти релеватный результат в выдаче модели\n",
    "\n",
    "\n",
    "$$\n",
    "    pfound = \\sum_{i=1}^{n}{pLook[i] * pRel[i]}\n",
    "$$\n",
    "$pLook[i]$ - вероятность просмотра $i$-ого документа из списка, \\\n",
    "$pRel[i]$ - вероятность того, что $i$-ый документ из списка окажется релевантным.\n",
    "\n",
    "Предположения для рассчёта $pLook$:\n",
    "* Результаты ранжирования отсматриваются сверху вниз (поисковая строка);\n",
    "* Процксс прекращается в случае нахождения релевантного результата или без определённых причин (\"надоело\").\n",
    "\n",
    "$$\n",
    "    pLook[i] = pLook[i-1]*(1 - pRel[i-1])*(1 - pBreak)\n",
    "$$"
   ]
  }
 ],
 "metadata": {
  "interpreter": {
   "hash": "7bba2f20cf72cbc662118eaae301b5d0d8d648038cbdcda85946129355423905"
  },
  "kernelspec": {
   "display_name": "Python 3.9.7 ('env': venv)",
   "language": "python",
   "name": "python3"
  },
  "language_info": {
   "codemirror_mode": {
    "name": "ipython",
    "version": 3
   },
   "file_extension": ".py",
   "mimetype": "text/x-python",
   "name": "python",
   "nbconvert_exporter": "python",
   "pygments_lexer": "ipython3",
   "version": "3.8.10"
  },
  "orig_nbformat": 4
 },
 "nbformat": 4,
 "nbformat_minor": 2
}
