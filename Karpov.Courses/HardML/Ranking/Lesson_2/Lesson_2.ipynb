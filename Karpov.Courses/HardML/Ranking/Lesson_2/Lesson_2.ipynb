{
 "cells": [
  {
   "attachments": {},
   "cell_type": "markdown",
   "metadata": {},
   "source": [
    "# 2 Урок: Метрики в задаче ранжирования"
   ]
  },
  {
   "attachments": {},
   "cell_type": "markdown",
   "metadata": {},
   "source": [
    "**Задача ранжирования** (`LTR` - `Learning To Rank`) - класс задач машинного обучения `с учителем` (_supervised_) или `с частичным обучением` (_semi-supervised_), заключающихся в нахождении модели, целью которой является наилучшее приближение и обобщение способа ранжирования в обучающей выборке на новые данные.\n",
    "\n",
    "`Обучение с учителем`: указано, насколько какой-то документ подходит к конкретному запросу (насколько они релевантные).\n",
    "\n",
    "`Частичное привлечение учителя`: использование, как правило, большого корпуса неразмеченных данных с целью улучшения качества предсказания.\n",
    "\n",
    "Пример техник для semi-supervised обучения — `псведолейблинг (_pseudo-labeling_)`: модель обучается на маленьком наборе данных с разметкой, а затем делает предсказания на всём огромном объёме данных. Предсказанные лейблы становятся новыми таргетами для обучения (новой целевой переменной). Таким образом можно получить улучшение качества в semi-supervised режиме."
   ]
  },
  {
   "attachments": {},
   "cell_type": "markdown",
   "metadata": {},
   "source": [
    "$Q$ – набор запросов $\\{q_1, q_2, ..., q_m\\}$\n",
    "\n",
    "$D$ – набор документов\n",
    "\n",
    "$D_i = \\{d_{i, 1}, d_{i, 2}, ..., d_{o, n_i}\\}$ – набор документов, релевантных $i$-му запросу $q$\n",
    "\n",
    "$d_{i, j}$ – элемент с индексом $j$ в $D_i$\n",
    "\n",
    "$\\bm y_i = \\{y_{i, 1}, y_{i, 2}, ..., y_{i, n_i}\\}$ – набор оценок релевантности для $i$-го запроса (размер тот же, что и у $D_i$)\n",
    "\n",
    "$S = \\{(q_i, D_i), \\bm y_i\\}^m_{i=1}$ – тренировочный набор данных\n",
    "\n",
    "$x_{i, j} = \\phi (q_i, d_{i, j})$ – вектор признаков для $i$-го запроса и $j$-го документа $(i = \\overline{1, m}, j = \\overline{1, n_i}$)\n",
    "\n",
    "$\\phi$ – функция для получения признаков (BM25, PageRank, мультимодальные модели)\n",
    "\n",
    "$\\bm x_i = \\{x_{i, 1}, x_{i, 2}, ..., x_{i, n_i}\\}$ – признаки набора документов, релевантных $i$-му запросу $q$\n",
    "\n",
    "$f(q, d) = f(x)$ – ранжирующая модель, оценивающая релевантность для пары $q, d$ на основе признаков $x$\n",
    "\n",
    "$F(q, D) = F(\\bm x)$ – глобальная ранжирующая модель\n",
    "\n",
    "**Задача** — создание такой глобальной модели, которая будет работать над всем корпусом документов."
   ]
  },
  {
   "attachments": {},
   "cell_type": "markdown",
   "metadata": {},
   "source": [
    "## Оценка качества ранжирования метриками классификации"
   ]
  },
  {
   "cell_type": "code",
   "execution_count": 1,
   "metadata": {},
   "outputs": [],
   "source": [
    "from math import log2\n",
    "import torch\n",
    "\n",
    "from pprint import pprint\n",
    "\n",
    "from typing import List, Dict, Any, Optional, Union"
   ]
  },
  {
   "cell_type": "markdown",
   "metadata": {},
   "source": [
    "* Точность:\n",
    "$$ \n",
    "    precision = \\frac{|\\{relevant\\ documents\\} \\cap \\{retrieved\\ documents \\}|}{|\\{retrieved\\ documents \\}|}\n",
    "$$\n",
    "* Полнота:\n",
    "$$ \n",
    "    recall = \\frac{|\\{relevant\\ documents\\} \\cap \\{retrieved\\ documents \\}|}{|\\{relevant\\ documents \\}|}\n",
    "$$\n",
    "* Ограничения на расчёт в Top-k (@k):  \n",
    "    $precision@5 -$ значение точности по первым топ-5 результатам выдачи.\n",
    "\n",
    "* $F1, F_\\beta$-меры:\n",
    "$$\n",
    "    F_\\beta = (1 + \\beta^2) \\cdot \\frac{precision \\cdot recall}{\\beta^2 \\cdot precision + recall}\n",
    "$$\n",
    "* PR-auc (Площадь по PR кривой):\n",
    "    * Сортируем предсказания по убыванию релевантности;\n",
    "    * Считаем значение точности и полноты по первой паре;\n",
    "    * Понижаем значение порога, чтобы выше порога было две пары;\n",
    "    * Повторяем до тех пор, пока не добавим все элементы.\n",
    "    * Опционально: применить отсечение ($Recall@Precision=N$)"
   ]
  },
  {
   "cell_type": "code",
   "execution_count": 2,
   "metadata": {},
   "outputs": [],
   "source": [
    "def num_swapped_pairs(ys_true: torch.Tensor, ys_pred: torch.Tensor) -> int:\n",
    "    \"\"\"Функция для подсчёта неправильно упорядоченных пар,\n",
    "        правильно <=> от наибольшего к наименьшему в ys_true.\n",
    "        Что эквивалентно числу перестановок пар.\n",
    "\n",
    "    Parameters\n",
    "    ----------\n",
    "    ys_true : `torch.Tensor`\n",
    "        Correct labels rank.\n",
    "    ys_pred : `torch.Tensor`\n",
    "        Predicted labels rank.\n",
    "\n",
    "    Returns\n",
    "    -------\n",
    "    swapped_cnt : `int`\n",
    "        #_of_swapped_pairs.\n",
    "    \"\"\"\n",
    "    ys_pred_sorted, argsort = torch.sort(ys_pred, descending=True, dim=0)\n",
    "    ys_true_sorted = ys_true[argsort]\n",
    "    \n",
    "    num_objects = ys_true_sorted.shape[0]\n",
    "    swapped_cnt = 0\n",
    "    for cur_obj in range(num_objects - 1):\n",
    "        for next_obj in range(cur_obj + 1, num_objects):\n",
    "            if ys_true_sorted[cur_obj] < ys_true_sorted[next_obj]:\n",
    "                if ys_pred_sorted[cur_obj] > ys_pred_sorted[next_obj]:\n",
    "                    swapped_cnt += 1\n",
    "            elif ys_true_sorted[cur_obj] > ys_true_sorted[next_obj]:\n",
    "                if ys_pred_sorted[cur_obj] < ys_pred_sorted[next_obj]:\n",
    "                    swapped_cnt += 1\n",
    "    return swapped_cnt"
   ]
  },
  {
   "cell_type": "code",
   "execution_count": 3,
   "metadata": {},
   "outputs": [],
   "source": [
    "def precission_at_k(ys_true: torch.Tensor, ys_pred: torch.Tensor, k: int) -> float:\n",
    "    \"\"\"Metric:\n",
    "        Calculates the precission at top-k predictions.\n",
    "\n",
    "    Parameters\n",
    "    ----------\n",
    "    ys_true : `torch.Tensor`\n",
    "        Correct labels rank.\n",
    "    ys_pred : `torch.Tensor`\n",
    "        Predicted labels rank.\n",
    "\n",
    "    Returns\n",
    "    -------\n",
    "    p_at_k : `float`\n",
    "    \"\"\"\n",
    "    if ys_true.sum() == 0:\n",
    "        return -1\n",
    "    _, argsort = torch.sort(ys_pred, descending=True, dim=0)\n",
    "    ys_true_sorted = ys_true[argsort]\n",
    "    hits = ys_true_sorted[:k].sum()\n",
    "    p_at_k = hits / min(ys_true.sum(), k)\n",
    "    return float(p_at_k)"
   ]
  },
  {
   "cell_type": "code",
   "execution_count": 4,
   "metadata": {},
   "outputs": [],
   "source": [
    "def reciprocal_rank(ys_true: torch.Tensor, ys_pred: torch.Tensor) -> float:\n",
    "    \"\"\"Metric:\n",
    "        Calculates the reciprocal rank.\n",
    "\n",
    "    Parameters\n",
    "    ----------\n",
    "    ys_true : `torch.Tensor`\n",
    "        Correct labels rank.\n",
    "    ys_pred : `torch.Tensor`\n",
    "        Predicted labels rank.\n",
    "\n",
    "    Returns\n",
    "    -------\n",
    "    reciprocal_rank : `float`\n",
    "    \"\"\"\n",
    "    _, argsort = torch.sort(ys_pred, descending=True, dim=0)\n",
    "    ys_true_sorted = ys_true[argsort]\n",
    "    \n",
    "    for idx, cur_y in enumerate(ys_true_sorted, 1):\n",
    "        if cur_y == 1:\n",
    "            return 1 / idx\n",
    "    return 0"
   ]
  },
  {
   "cell_type": "code",
   "execution_count": 5,
   "metadata": {},
   "outputs": [],
   "source": [
    "def average_precision(ys_true: torch.Tensor, ys_pred: torch.Tensor) -> float:\n",
    "    \"\"\"Metric:\n",
    "        Calculates the Average Precision (AP) = \\sum_K {#_relevant_documents} / k.\n",
    "\n",
    "    Parameters\n",
    "    ----------\n",
    "    ys_true : `torch.Tensor`\n",
    "        Correct labels rank.\n",
    "    ys_pred : `torch.Tensor`\n",
    "        Predicted labels rank.\n",
    "\n",
    "    Returns\n",
    "    -------\n",
    "    avg_precision : `float`\n",
    "    \"\"\"\n",
    "    if ys_true.sum() == 0:\n",
    "        return -1\n",
    "    _, argsort = torch.sort(ys_pred, descending=True, dim=0)\n",
    "    ys_true_sorted = ys_true[argsort]\n",
    "    rolling_sum = 0\n",
    "    num_correct_ans = 0\n",
    "    \n",
    "    for idx, cur_y in enumerate(ys_true_sorted, start=1):\n",
    "        if cur_y == 1:\n",
    "            num_correct_ans += 1\n",
    "            rolling_sum += num_correct_ans / idx\n",
    "    if num_correct_ans == 0:\n",
    "        return 0\n",
    "    else:\n",
    "        return rolling_sum / num_correct_ans"
   ]
  },
  {
   "attachments": {},
   "cell_type": "markdown",
   "metadata": {},
   "source": [
    "## Оценка качества ранжирования"
   ]
  },
  {
   "attachments": {},
   "cell_type": "markdown",
   "metadata": {},
   "source": [
    "* Average precision (AP):\n",
    "$$\n",
    "    AP = \\sum_K {(Recall@k - Recall@k-1) \\cdot Precision@k} = \\sum_K {\\frac{\\{relevant\\ documents\\}}{k}}\n",
    "$$\n",
    "* MAP is the mean average precision:\n",
    "$$\n",
    "    MAP = \\frac{\\sum_{q=1}^{Q}{AP(q)}}{Q}\n",
    "$$"
   ]
  },
  {
   "attachments": {},
   "cell_type": "markdown",
   "metadata": {},
   "source": [
    "Теперь перейдём от бинарной задачи \"релевантно\"/\"не релевантно\" к многоуровневой.\n",
    "\n",
    "Пусть заданы 3 уровня релевантности:\n",
    "1. Не релевантно\n",
    "2. В целом релевантно;\n",
    "3. Очень релевантно, точное совпадение."
   ]
  },
  {
   "attachments": {},
   "cell_type": "markdown",
   "metadata": {},
   "source": [
    "* Введём функцию `Gain` в точности равной _label_ документа.\n",
    "* Посчитаем куммулятивную сумму по labels _Cumulative Gain_ (`CG`). Плохо, что не учитывается порядок выдачи объектов, т.е. нет штрафа за неоптимальный порядок выдачи объектов. \n",
    "* Давайте делить каждое наше предсказание в выдаче, начиная со второго на $log_2(k+1)$, где $k$-индекс позиции объекта в документах - _Discounted Cumulative Gain_ (`DCG`). Плохо, что метрика не нормирована.\n",
    "* Давайте отдельно посчитаем каким бы мог быть _DCG_, если бы все объекты распологались оптимальным по значению метрики _DCG_ образом (_Ideal Discounted Cumulative Gain_) и поделим, на значение метрики _DCG_ модели. Получим _Normalized Discounted Cumulative Gain_ (`NDCG`).\n",
    "\n",
    "|Document|Gain|Cumulative Gain|Discounted Cumulative Gain|\n",
    "|:--|:--:|:--:|:--:|\n",
    "|D1|3|3|3|\n",
    "|D2|2|3+2|3+2/log(2+1)|\n",
    "|D3|1|3+2+1|3+2/log(2+1)+1/log(3+1)|\n",
    "|D4|1|3+2+1+1|3+2/log(2+1)+1/log(3+1)+1/log(4+1)|\n",
    "|D5|3|3+2+1+1+3|...|\n",
    "|D6|1|3+2+1+1+3+1|...|\n",
    "|D7|2|3+2+1+1+3+1+2|3+2/log(2+1)+...+2/log(7+1)|\n",
    "$$\n",
    "    DCG@7 \\approx 7.38 \\\\\n",
    "    IDCG@7 \\approx 7.83 \\\\\n",
    "    nDCG@7 \\approx 0.942 \\\\\n",
    "$$"
   ]
  },
  {
   "attachments": {},
   "cell_type": "markdown",
   "metadata": {},
   "source": [
    "\n",
    "* nDCG@k\n",
    "$$\n",
    "    nDCG@k = \\frac{DCG@k}{IDCG@k}\n",
    "$$\n",
    "\n",
    "* PFound (Yandex)\n",
    "\n",
    "Метрика показывает __оценку вероятности__ найти релеватный результат в выдаче модели\n",
    "\n",
    "\n",
    "$$\n",
    "    pfound = \\sum_{i=1}^{n}{pLook[i] * pRel[i]}\n",
    "$$\n",
    "$pLook[i]$ - вероятность просмотра $i$-ого документа из списка, \\\n",
    "$pRel[i]$ - вероятность того, что $i$-ый документ из списка окажется релевантным.\n",
    "\n",
    "Предположения для рассчёта $pLook$:\n",
    "* Результаты ранжирования отсматриваются сверху вниз (поисковая строка);\n",
    "* Процксс прекращается в случае нахождения релевантного результата или без определённых причин (\"надоело\").\n",
    "\n",
    "$$\n",
    "    pLook[i] = pLook[i-1]*(1 - pRel[i-1])*(1 - pBreak)\n",
    "$$"
   ]
  },
  {
   "cell_type": "code",
   "execution_count": 6,
   "metadata": {},
   "outputs": [],
   "source": [
    "def compute_gain(y_value: float, gain_scheme: str) -> float:\n",
    "    \"\"\"Compute the Gain for a given y_value and gain_scheme.\n",
    "        Gain schemes:\n",
    "        * const : gain = rank;\n",
    "        * exp2  : gain = 2^rank - 1.\n",
    "\n",
    "    Parameters\n",
    "    ----------\n",
    "    y_value : float\n",
    "        Rank label value.\n",
    "    gain_scheme : str\n",
    "        Gain scheme.\n",
    "\n",
    "    Returns\n",
    "    -------\n",
    "    gain : float\n",
    "    \"\"\"\n",
    "    if gain_scheme == \"exp2\":\n",
    "        gain = 2 ** y_value - 1\n",
    "    elif gain_scheme == \"const\":\n",
    "        gain = y_value\n",
    "    else:\n",
    "        raise ValueError(f\"{gain_scheme} method not supported, only `exp2` and `const`.\")\n",
    "    return float(gain)"
   ]
  },
  {
   "cell_type": "code",
   "execution_count": 7,
   "metadata": {},
   "outputs": [],
   "source": [
    "def dcg(ys_true: torch.Tensor, ys_pred: torch.Tensor, gain_scheme: str) -> float:\n",
    "    \"\"\"Metric:\n",
    "        Calculates the Discounted Cumulative Gain (DCG)\n",
    "\n",
    "    Parameters\n",
    "    ----------\n",
    "    ys_true : `torch.Tensor`\n",
    "        Correct labels rank.\n",
    "    ys_pred : `torch.Tensor`\n",
    "        Predicted labels rank.\n",
    "    gain_scheme : `str`\n",
    "        Gain scheme. Allowed values = ['const', 'exp2']\n",
    "\n",
    "    Returns\n",
    "    -------\n",
    "    dcg : `float`\n",
    "    \"\"\"\n",
    "    _, argsort = torch.sort(ys_pred, descending=True, dim=0)\n",
    "    ys_true_sorted = ys_true[argsort]\n",
    "    ret = 0\n",
    "    for idx, cur_y in enumerate(ys_true_sorted, 1):\n",
    "        gain = compute_gain(cur_y, gain_scheme)\n",
    "        ret += gain / math.log2(idx + 1)\n",
    "    return ret\n",
    "\n",
    "\n",
    "def ndcg(ys_true: torch.Tensor, ys_pred: torch.Tensor, gain_scheme: str = 'const') -> float:\n",
    "    \"\"\"Metric:\n",
    "        Calculates the Normalized Discounted Cumulative Gain (NDCG)\n",
    "\n",
    "    Parameters\n",
    "    ----------\n",
    "    ys_true : `torch.Tensor`\n",
    "        Correct labels rank.\n",
    "    ys_pred : `torch.Tensor`\n",
    "        Predicted labels rank.\n",
    "    gain_scheme : `str`\n",
    "        Gain scheme. Allowed values = ['const', 'exp2']\n",
    "\n",
    "    Returns\n",
    "    -------\n",
    "    ndcg : `float`\n",
    "    \"\"\"\n",
    "    pred_dcg = dcg(ys_true, ys_pred, gain_scheme)\n",
    "    ideal_dcg = dcg(ys_true, ys_true, gain_scheme)\n",
    "    \n",
    "    ndcg = pred_dcg / ideal_dcg\n",
    "    return ndcg"
   ]
  },
  {
   "cell_type": "code",
   "execution_count": 8,
   "metadata": {},
   "outputs": [],
   "source": [
    "def p_found(ys_true: torch.Tensor, ys_pred: torch.Tensor, p_break: float = 0.15 ) -> float:\n",
    "    \"\"\"Metric:\n",
    "        Calculates the P-Found = \\sum_{i=1}^n pLook(i) \\cdot pRel(i),\n",
    "            where calculates recursively pLook[i] = pLook[i-1]*(1 - pRel[i-1])*(1 - pBreak).\n",
    "            pBreak - probability to break tries to find a match.\n",
    "\n",
    "    Parameters\n",
    "    ----------\n",
    "    ys_true : `torch.Tensor`\n",
    "        Correct labels rank.\n",
    "    ys_pred : `torch.Tensor`\n",
    "        Predicted labels rank.\n",
    "    p_break : `float`\n",
    "        Probability to break tries to find a match. Allowed values are between 0 and 1.\n",
    "        Default = 0.15\n",
    "\n",
    "    Returns\n",
    "    -------\n",
    "    p_found : `float`\n",
    "    \"\"\"\n",
    "    p_look = 1\n",
    "    p_found = 0\n",
    "    _, argsort = torch.sort(ys_pred, descending=True, dim=0)\n",
    "    ys_true_sorted = ys_true[argsort]\n",
    "\n",
    "    for cur_y in ys_true_sorted:\n",
    "        p_found += p_look * float(cur_y)\n",
    "        p_look = p_look * (1 - float(cur_y)) * (1 - p_break)\n",
    "    \n",
    "    return p_found"
   ]
  },
  {
   "attachments": {},
   "cell_type": "markdown",
   "metadata": {},
   "source": [
    "## Пример использования метрик"
   ]
  },
  {
   "attachments": {},
   "cell_type": "markdown",
   "metadata": {},
   "source": [
    "Посмотрим на метрики на примере $10,000$ записей из [MSRank](https://www.microsoft.com/en-us/research/project/mslr/) датасета, импортированного из [Catboost datasets storage](https://catboost.ai/en/docs/concepts/python-reference_datasets_msrank_10k)."
   ]
  },
  {
   "cell_type": "code",
   "execution_count": 9,
   "metadata": {},
   "outputs": [
    {
     "name": "stdout",
     "output_type": "stream",
     "text": [
      "train_df.shape=(10000, 138)\n",
      "test_df.shape=(10000, 138)\n"
     ]
    },
    {
     "data": {
      "text/html": [
       "<div>\n",
       "<style scoped>\n",
       "    .dataframe tbody tr th:only-of-type {\n",
       "        vertical-align: middle;\n",
       "    }\n",
       "\n",
       "    .dataframe tbody tr th {\n",
       "        vertical-align: top;\n",
       "    }\n",
       "\n",
       "    .dataframe thead th {\n",
       "        text-align: right;\n",
       "    }\n",
       "</style>\n",
       "<table border=\"1\" class=\"dataframe\">\n",
       "  <thead>\n",
       "    <tr style=\"text-align: right;\">\n",
       "      <th></th>\n",
       "      <th>0</th>\n",
       "      <th>1</th>\n",
       "      <th>2</th>\n",
       "      <th>3</th>\n",
       "      <th>4</th>\n",
       "      <th>5</th>\n",
       "      <th>6</th>\n",
       "      <th>7</th>\n",
       "      <th>8</th>\n",
       "      <th>9</th>\n",
       "      <th>...</th>\n",
       "      <th>128</th>\n",
       "      <th>129</th>\n",
       "      <th>130</th>\n",
       "      <th>131</th>\n",
       "      <th>132</th>\n",
       "      <th>133</th>\n",
       "      <th>134</th>\n",
       "      <th>135</th>\n",
       "      <th>136</th>\n",
       "      <th>137</th>\n",
       "    </tr>\n",
       "  </thead>\n",
       "  <tbody>\n",
       "    <tr>\n",
       "      <th>0</th>\n",
       "      <td>2.0</td>\n",
       "      <td>1</td>\n",
       "      <td>3</td>\n",
       "      <td>3</td>\n",
       "      <td>0</td>\n",
       "      <td>0</td>\n",
       "      <td>3</td>\n",
       "      <td>1.0</td>\n",
       "      <td>1.0</td>\n",
       "      <td>0.000000</td>\n",
       "      <td>...</td>\n",
       "      <td>62</td>\n",
       "      <td>11089534</td>\n",
       "      <td>2</td>\n",
       "      <td>116</td>\n",
       "      <td>64034</td>\n",
       "      <td>13</td>\n",
       "      <td>3</td>\n",
       "      <td>0</td>\n",
       "      <td>0</td>\n",
       "      <td>0.0</td>\n",
       "    </tr>\n",
       "    <tr>\n",
       "      <th>1</th>\n",
       "      <td>2.0</td>\n",
       "      <td>1</td>\n",
       "      <td>3</td>\n",
       "      <td>0</td>\n",
       "      <td>3</td>\n",
       "      <td>0</td>\n",
       "      <td>3</td>\n",
       "      <td>1.0</td>\n",
       "      <td>0.0</td>\n",
       "      <td>1.000000</td>\n",
       "      <td>...</td>\n",
       "      <td>54</td>\n",
       "      <td>11089534</td>\n",
       "      <td>2</td>\n",
       "      <td>124</td>\n",
       "      <td>64034</td>\n",
       "      <td>1</td>\n",
       "      <td>2</td>\n",
       "      <td>0</td>\n",
       "      <td>0</td>\n",
       "      <td>0.0</td>\n",
       "    </tr>\n",
       "    <tr>\n",
       "      <th>2</th>\n",
       "      <td>0.0</td>\n",
       "      <td>1</td>\n",
       "      <td>3</td>\n",
       "      <td>0</td>\n",
       "      <td>2</td>\n",
       "      <td>0</td>\n",
       "      <td>3</td>\n",
       "      <td>1.0</td>\n",
       "      <td>0.0</td>\n",
       "      <td>0.666667</td>\n",
       "      <td>...</td>\n",
       "      <td>45</td>\n",
       "      <td>3</td>\n",
       "      <td>1</td>\n",
       "      <td>124</td>\n",
       "      <td>3344</td>\n",
       "      <td>14</td>\n",
       "      <td>67</td>\n",
       "      <td>0</td>\n",
       "      <td>0</td>\n",
       "      <td>0.0</td>\n",
       "    </tr>\n",
       "    <tr>\n",
       "      <th>3</th>\n",
       "      <td>2.0</td>\n",
       "      <td>1</td>\n",
       "      <td>3</td>\n",
       "      <td>0</td>\n",
       "      <td>3</td>\n",
       "      <td>0</td>\n",
       "      <td>3</td>\n",
       "      <td>1.0</td>\n",
       "      <td>0.0</td>\n",
       "      <td>1.000000</td>\n",
       "      <td>...</td>\n",
       "      <td>56</td>\n",
       "      <td>11089534</td>\n",
       "      <td>13</td>\n",
       "      <td>123</td>\n",
       "      <td>63933</td>\n",
       "      <td>1</td>\n",
       "      <td>3</td>\n",
       "      <td>0</td>\n",
       "      <td>0</td>\n",
       "      <td>0.0</td>\n",
       "    </tr>\n",
       "    <tr>\n",
       "      <th>4</th>\n",
       "      <td>1.0</td>\n",
       "      <td>1</td>\n",
       "      <td>3</td>\n",
       "      <td>0</td>\n",
       "      <td>3</td>\n",
       "      <td>0</td>\n",
       "      <td>3</td>\n",
       "      <td>1.0</td>\n",
       "      <td>0.0</td>\n",
       "      <td>1.000000</td>\n",
       "      <td>...</td>\n",
       "      <td>64</td>\n",
       "      <td>5</td>\n",
       "      <td>7</td>\n",
       "      <td>256</td>\n",
       "      <td>49697</td>\n",
       "      <td>1</td>\n",
       "      <td>13</td>\n",
       "      <td>0</td>\n",
       "      <td>0</td>\n",
       "      <td>0.0</td>\n",
       "    </tr>\n",
       "  </tbody>\n",
       "</table>\n",
       "<p>5 rows × 138 columns</p>\n",
       "</div>"
      ],
      "text/plain": [
       "   0    1    2    3    4    5    6    7    8         9    ...  128       129   \n",
       "0  2.0    1    3    3    0    0    3  1.0  1.0  0.000000  ...   62  11089534  \\\n",
       "1  2.0    1    3    0    3    0    3  1.0  0.0  1.000000  ...   54  11089534   \n",
       "2  0.0    1    3    0    2    0    3  1.0  0.0  0.666667  ...   45         3   \n",
       "3  2.0    1    3    0    3    0    3  1.0  0.0  1.000000  ...   56  11089534   \n",
       "4  1.0    1    3    0    3    0    3  1.0  0.0  1.000000  ...   64         5   \n",
       "\n",
       "   130  131    132  133  134  135  136  137  \n",
       "0    2  116  64034   13    3    0    0  0.0  \n",
       "1    2  124  64034    1    2    0    0  0.0  \n",
       "2    1  124   3344   14   67    0    0  0.0  \n",
       "3   13  123  63933    1    3    0    0  0.0  \n",
       "4    7  256  49697    1   13    0    0  0.0  \n",
       "\n",
       "[5 rows x 138 columns]"
      ]
     },
     "execution_count": 9,
     "metadata": {},
     "output_type": "execute_result"
    }
   ],
   "source": [
    "import numpy as np\n",
    "from catboost.datasets import msrank_10k\n",
    "\n",
    "\n",
    "train_df, test_df = msrank_10k()\n",
    "\n",
    "print(f\"{train_df.shape=}\\n{test_df.shape=}\")\n",
    "train_df.head()"
   ]
  },
  {
   "cell_type": "code",
   "execution_count": 10,
   "metadata": {},
   "outputs": [],
   "source": [
    "X_train = train_df.drop([0, 1], axis=1).values\n",
    "y_train = train_df[0].values\n",
    "queries_train = train_df[1].values\n",
    "\n",
    "X_test = test_df.drop([0, 1], axis=1).values\n",
    "y_test = test_df[0].values\n",
    "queries_test = test_df[1].values"
   ]
  },
  {
   "attachments": {},
   "cell_type": "markdown",
   "metadata": {},
   "source": [
    "### Изучение данных"
   ]
  },
  {
   "cell_type": "code",
   "execution_count": 11,
   "metadata": {},
   "outputs": [
    {
     "name": "stdout",
     "output_type": "stream",
     "text": [
      "Number of documents: 10000\n",
      "Number of features: 136\n"
     ]
    }
   ],
   "source": [
    "num_documents = X_train.shape[0]\n",
    "num_features = X_train.shape[1]\n",
    "\n",
    "print(\"Number of documents:\", num_documents)\n",
    "print(\"Number of features:\", num_features)"
   ]
  },
  {
   "attachments": {},
   "cell_type": "markdown",
   "metadata": {},
   "source": [
    "Частотная статистика labels к тренировочной выборке"
   ]
  },
  {
   "cell_type": "code",
   "execution_count": 12,
   "metadata": {},
   "outputs": [],
   "source": [
    "from collections import Counter\n",
    "\n",
    "import matplotlib.pyplot as plt\n",
    "import seaborn as sns"
   ]
  },
  {
   "cell_type": "code",
   "execution_count": 13,
   "metadata": {},
   "outputs": [
    {
     "data": {
      "image/png": "[encoded data removed]",
      "text/plain": [
       "<Figure size 800x600 with 1 Axes>"
      ]
     },
     "metadata": {},
     "output_type": "display_data"
    }
   ],
   "source": [
    "relevance_stats = Counter(y_train)\n",
    "\n",
    "plt.figure(figsize=(8,6), dpi=100)\n",
    "plt.grid()\n",
    "plt.bar(x=relevance_stats.keys(), height=relevance_stats.values());\n",
    "plt.xlabel(\"Label\"); plt.ylabel(\"Frequency\");\n",
    "plt.title(\"Distribution of labels relevance in the training set\");"
   ]
  },
  {
   "attachments": {},
   "cell_type": "markdown",
   "metadata": {},
   "source": [
    "Число уникальных запросов"
   ]
  },
  {
   "cell_type": "code",
   "execution_count": 14,
   "metadata": {},
   "outputs": [
    {
     "name": "stdout",
     "output_type": "stream",
     "text": [
      "Number of training queries: 87\n"
     ]
    }
   ],
   "source": [
    "num_queries = np.unique(queries_train).shape[0]\n",
    "\n",
    "print(\"Number of training queries:\", num_queries)"
   ]
  },
  {
   "attachments": {},
   "cell_type": "markdown",
   "metadata": {},
   "source": [
    "### Подготовка данных"
   ]
  },
  {
   "cell_type": "markdown",
   "metadata": {},
   "source": [
    "Отнормируем значения релевантности для удобства подсчёта метрик `NDCG`, `PFound`."
   ]
  },
  {
   "cell_type": "code",
   "execution_count": 15,
   "metadata": {},
   "outputs": [],
   "source": [
    "from catboost import CatBoostRanker, Pool"
   ]
  },
  {
   "cell_type": "code",
   "execution_count": 16,
   "metadata": {},
   "outputs": [
    {
     "name": "stdout",
     "output_type": "stream",
     "text": [
      "catboost==1.1.1\n"
     ]
    }
   ],
   "source": [
    "!pip freeze | grep catboost"
   ]
  },
  {
   "cell_type": "code",
   "execution_count": 17,
   "metadata": {},
   "outputs": [],
   "source": [
    "max_relevance = np.max(y_train)\n",
    "\n",
    "y_train_norm = y_train / max_relevance\n",
    "y_test_norm  = y_test  / max_relevance"
   ]
  },
  {
   "cell_type": "markdown",
   "metadata": {},
   "source": [
    "Создадим пулы с данными."
   ]
  },
  {
   "cell_type": "code",
   "execution_count": 18,
   "metadata": {},
   "outputs": [],
   "source": [
    "train = Pool(\n",
    "    data=X_train,\n",
    "    label=y_train_norm,\n",
    "    group_id=queries_train\n",
    ")\n",
    "test = Pool(\n",
    "    data=X_test,\n",
    "    label=y_test_norm,\n",
    "    group_id=queries_test\n",
    ")"
   ]
  },
  {
   "cell_type": "code",
   "execution_count": 19,
   "metadata": {},
   "outputs": [],
   "source": [
    "import os\n",
    "from copy import deepcopy"
   ]
  },
  {
   "attachments": {},
   "cell_type": "markdown",
   "metadata": {},
   "source": [
    "### Замечание\n",
    "\n",
    "Все объекты в датасете должны быть сгруппированы по group_id.\n",
    "\n",
    "Например, если датасет состоит из 3 документов $[d_1, d_2, d_3]$ с запросами $[q_1, q_2, q_3]$, то датасет должен выглядеть как:\n",
    "$$\\begin{pmatrix}\n",
    "    d_1, q_1, f_1\\\\\n",
    "    d_2, q_2, f_2\\\\\n",
    "    d_3, q_2, f_3\\\\\n",
    "\\end{pmatrix} \\hspace{6px} \\texttt{or} \\hspace{6px}\n",
    "\\begin{pmatrix}\n",
    "    d_2, q_2, f_2\\\\\n",
    "    d_3, q_2, f_3\\\\\n",
    "    d_4, q_1, f_4\\\\\n",
    "\\end{pmatrix}$$"
   ]
  },
  {
   "cell_type": "code",
   "execution_count": 20,
   "metadata": {},
   "outputs": [],
   "source": [
    "default_parameters = {\n",
    "    'iterations': 1000,\n",
    "    'custom_metric': ['NDCG', 'PFound', 'AverageGain:top=10'],\n",
    "    'verbose': False,\n",
    "    'random_seed': 271828,\n",
    "}\n",
    "\n",
    "parameters = {}"
   ]
  },
  {
   "cell_type": "code",
   "execution_count": 30,
   "metadata": {},
   "outputs": [],
   "source": [
    "def fit_model(loss_function, additional_params=None, train_pool=train, test_pool=test):\n",
    "    parameters = deepcopy(default_parameters)\n",
    "    parameters['loss_function'] = loss_function\n",
    "    parameters['train_dir'] = loss_function\n",
    "    \n",
    "    if additional_params is not None:\n",
    "        parameters.update(additional_params)\n",
    "        \n",
    "    model = CatBoostRanker(**parameters)\n",
    "    model.fit(train_pool, eval_set=test_pool, plot=True)\n",
    "    \n",
    "    return model"
   ]
  },
  {
   "attachments": {},
   "cell_type": "markdown",
   "metadata": {},
   "source": [
    "### RMSE\n",
    "\n",
    "Первая и простейшая идея: попытаться предсказать релевантность документа, путём минимизации RMSE:\n",
    "$$\n",
    "    \\frac{1}{N}\\sqrt{\\sum_q \\sum_{d_{qk}}(f(d_{qk}) - l_{qk})^2}\n",
    "$$"
   ]
  },
  {
   "cell_type": "code",
   "execution_count": 22,
   "metadata": {},
   "outputs": [
    {
     "name": "stderr",
     "output_type": "stream",
     "text": [
      "/home/lobuznov/Рабочий стол/Projects/LobuznovDS/Karpov.Courses/HardML/.venv/lib/python3.8/site-packages/catboost/core.py:6240: RuntimeWarning: Regression loss ('RMSE') ignores an important ranking parameter 'group_id'\n",
      "  warnings.warn(\"Regression loss ('{}') ignores an important ranking parameter 'group_id'\".format(loss_function), RuntimeWarning)\n"
     ]
    },
    {
     "data": {
      "application/vnd.jupyter.widget-view+json": {
       "model_id": "7f0f68d6c02b4d9583c86b65033db7e7",
       "version_major": 2,
       "version_minor": 0
      },
      "text/plain": [
       "MetricVisualizer(layout=Layout(align_self='stretch', height='500px'))"
      ]
     },
     "metadata": {},
     "output_type": "display_data"
    }
   ],
   "source": [
    "model = fit_model('RMSE', {'custom_metric': ['PrecisionAt:top=10', 'RecallAt:top=10', 'MAP:top=10']})"
   ]
  },
  {
   "attachments": {},
   "cell_type": "markdown",
   "metadata": {},
   "source": [
    "### Веса групп\n",
    "\n",
    "Предположим, что нам известно, что некоторые из запросов важнее, чем другие. Тогда почему бы не придать этим запросам больший вес, чем прочим.\n",
    "* `group_weights` from `CatboostRanker` "
   ]
  },
  {
   "cell_type": "code",
   "execution_count": 31,
   "metadata": {},
   "outputs": [],
   "source": [
    "def create_weights(queries: np.ndarray) -> np.ndarray:\n",
    "    \"\"\"Calculates the weights for each query\n",
    "\n",
    "    Parameters\n",
    "    ----------\n",
    "    queries : np.ndarray\n",
    "\n",
    "    Returns\n",
    "    -------\n",
    "    weights : np.ndarray\n",
    "    \"\"\"\n",
    "    query_set = np.unique(queries)\n",
    "    query_weights = np.random.uniform(size=query_set.shape[0])\n",
    "    weights = np.zeros(shape=queries.shape)\n",
    "    \n",
    "    for i, query_id in enumerate(query_set):\n",
    "        weights[queries == query_id] = query_weights[i]\n",
    "    \n",
    "    return weights"
   ]
  },
  {
   "cell_type": "code",
   "execution_count": 32,
   "metadata": {},
   "outputs": [
    {
     "data": {
      "application/vnd.jupyter.widget-view+json": {
       "model_id": "bf4e43016106475fb3d7b9042f706ddd",
       "version_major": 2,
       "version_minor": 0
      },
      "text/plain": [
       "MetricVisualizer(layout=Layout(align_self='stretch', height='500px'))"
      ]
     },
     "metadata": {},
     "output_type": "display_data"
    },
    {
     "ename": "CatBoostError",
     "evalue": "catboost/libs/metrics/metric.cpp:6381: Max target greater than 1: 4",
     "output_type": "error",
     "traceback": [
      "\u001b[0;31m---------------------------------------------------------------------------\u001b[0m",
      "\u001b[0;31mCatBoostError\u001b[0m                             Traceback (most recent call last)",
      "Cell \u001b[0;32mIn[32], line 15\u001b[0m\n\u001b[1;32m      1\u001b[0m train_with_weights \u001b[39m=\u001b[39m Pool(\n\u001b[1;32m      2\u001b[0m     data\u001b[39m=\u001b[39mX_train,\n\u001b[1;32m      3\u001b[0m     label\u001b[39m=\u001b[39my_train,\n\u001b[1;32m      4\u001b[0m     group_weight\u001b[39m=\u001b[39mcreate_weights(queries_train),\n\u001b[1;32m      5\u001b[0m     group_id\u001b[39m=\u001b[39mqueries_train\n\u001b[1;32m      6\u001b[0m )\n\u001b[1;32m      8\u001b[0m test_with_weights \u001b[39m=\u001b[39m Pool(\n\u001b[1;32m      9\u001b[0m     data\u001b[39m=\u001b[39mX_test,\n\u001b[1;32m     10\u001b[0m     label\u001b[39m=\u001b[39my_test,\n\u001b[1;32m     11\u001b[0m     group_weight\u001b[39m=\u001b[39mcreate_weights(queries_test),\n\u001b[1;32m     12\u001b[0m     group_id\u001b[39m=\u001b[39mqueries_test\n\u001b[1;32m     13\u001b[0m )\n\u001b[0;32m---> 15\u001b[0m fit_model(\n\u001b[1;32m     16\u001b[0m     \u001b[39m'\u001b[39;49m\u001b[39mRMSE\u001b[39;49m\u001b[39m'\u001b[39;49m, \n\u001b[1;32m     17\u001b[0m     additional_params\u001b[39m=\u001b[39;49m{\u001b[39m'\u001b[39;49m\u001b[39mtrain_dir\u001b[39;49m\u001b[39m'\u001b[39;49m: \u001b[39m'\u001b[39;49m\u001b[39mRMSE_weigths\u001b[39;49m\u001b[39m'\u001b[39;49m}, \n\u001b[1;32m     18\u001b[0m     train_pool\u001b[39m=\u001b[39;49mtrain_with_weights,\n\u001b[1;32m     19\u001b[0m     test_pool\u001b[39m=\u001b[39;49mtest_with_weights\n\u001b[1;32m     20\u001b[0m )\n",
      "Cell \u001b[0;32mIn[30], line 10\u001b[0m, in \u001b[0;36mfit_model\u001b[0;34m(loss_function, additional_params, train_pool, test_pool)\u001b[0m\n\u001b[1;32m      7\u001b[0m     parameters\u001b[39m.\u001b[39mupdate(additional_params)\n\u001b[1;32m      9\u001b[0m model \u001b[39m=\u001b[39m CatBoostRanker(\u001b[39m*\u001b[39m\u001b[39m*\u001b[39mparameters)\n\u001b[0;32m---> 10\u001b[0m model\u001b[39m.\u001b[39;49mfit(train_pool, eval_set\u001b[39m=\u001b[39;49mtest_pool, plot\u001b[39m=\u001b[39;49m\u001b[39mTrue\u001b[39;49;00m)\n\u001b[1;32m     12\u001b[0m \u001b[39mreturn\u001b[39;00m model\n",
      "File \u001b[0;32m~/Рабочий стол/Projects/LobuznovDS/Karpov.Courses/HardML/.venv/lib/python3.8/site-packages/catboost/core.py:6120\u001b[0m, in \u001b[0;36mCatBoostRanker.fit\u001b[0;34m(self, X, y, group_id, cat_features, text_features, embedding_features, pairs, sample_weight, group_weight, subgroup_id, pairs_weight, baseline, use_best_model, eval_set, verbose, logging_level, plot, plot_file, column_description, verbose_eval, metric_period, silent, early_stopping_rounds, save_snapshot, snapshot_file, snapshot_interval, init_model, callbacks, log_cout, log_cerr)\u001b[0m\n\u001b[1;32m   6117\u001b[0m \u001b[39mif\u001b[39;00m \u001b[39m'\u001b[39m\u001b[39mloss_function\u001b[39m\u001b[39m'\u001b[39m \u001b[39min\u001b[39;00m params:\n\u001b[1;32m   6118\u001b[0m     CatBoostRanker\u001b[39m.\u001b[39m_check_is_compatible_loss(params[\u001b[39m'\u001b[39m\u001b[39mloss_function\u001b[39m\u001b[39m'\u001b[39m])\n\u001b[0;32m-> 6120\u001b[0m \u001b[39mself\u001b[39;49m\u001b[39m.\u001b[39;49m_fit(X, y, cat_features, text_features, embedding_features, pairs,\n\u001b[1;32m   6121\u001b[0m           sample_weight, group_id, group_weight, subgroup_id, pairs_weight, baseline, use_best_model,\n\u001b[1;32m   6122\u001b[0m           eval_set, verbose, logging_level, plot, plot_file, column_description, verbose_eval, metric_period,\n\u001b[1;32m   6123\u001b[0m           silent, early_stopping_rounds, save_snapshot, snapshot_file, snapshot_interval, init_model, callbacks, log_cout, log_cerr)\n\u001b[1;32m   6124\u001b[0m \u001b[39mreturn\u001b[39;00m \u001b[39mself\u001b[39m\n",
      "File \u001b[0;32m~/Рабочий стол/Projects/LobuznovDS/Karpov.Courses/HardML/.venv/lib/python3.8/site-packages/catboost/core.py:2355\u001b[0m, in \u001b[0;36mCatBoost._fit\u001b[0;34m(self, X, y, cat_features, text_features, embedding_features, pairs, sample_weight, group_id, group_weight, subgroup_id, pairs_weight, baseline, use_best_model, eval_set, verbose, logging_level, plot, plot_file, column_description, verbose_eval, metric_period, silent, early_stopping_rounds, save_snapshot, snapshot_file, snapshot_interval, init_model, callbacks, log_cout, log_cerr)\u001b[0m\n\u001b[1;32m   2351\u001b[0m allow_clear_pool \u001b[39m=\u001b[39m train_params[\u001b[39m\"\u001b[39m\u001b[39mallow_clear_pool\u001b[39m\u001b[39m\"\u001b[39m]\n\u001b[1;32m   2353\u001b[0m \u001b[39mwith\u001b[39;00m log_fixup(log_cout, log_cerr), \\\n\u001b[1;32m   2354\u001b[0m     plot_wrapper(plot, plot_file, \u001b[39m'\u001b[39m\u001b[39mTraining plots\u001b[39m\u001b[39m'\u001b[39m, [_get_train_dir(\u001b[39mself\u001b[39m\u001b[39m.\u001b[39mget_params())]):\n\u001b[0;32m-> 2355\u001b[0m     \u001b[39mself\u001b[39;49m\u001b[39m.\u001b[39;49m_train(\n\u001b[1;32m   2356\u001b[0m         train_pool,\n\u001b[1;32m   2357\u001b[0m         train_params[\u001b[39m\"\u001b[39;49m\u001b[39meval_sets\u001b[39;49m\u001b[39m\"\u001b[39;49m],\n\u001b[1;32m   2358\u001b[0m         params,\n\u001b[1;32m   2359\u001b[0m         allow_clear_pool,\n\u001b[1;32m   2360\u001b[0m         train_params[\u001b[39m\"\u001b[39;49m\u001b[39minit_model\u001b[39;49m\u001b[39m\"\u001b[39;49m]\n\u001b[1;32m   2361\u001b[0m     )\n\u001b[1;32m   2363\u001b[0m \u001b[39m# Have property feature_importance possibly set\u001b[39;00m\n\u001b[1;32m   2364\u001b[0m loss \u001b[39m=\u001b[39m \u001b[39mself\u001b[39m\u001b[39m.\u001b[39m_object\u001b[39m.\u001b[39m_get_loss_function_name()\n",
      "File \u001b[0;32m~/Рабочий стол/Projects/LobuznovDS/Karpov.Courses/HardML/.venv/lib/python3.8/site-packages/catboost/core.py:1759\u001b[0m, in \u001b[0;36m_CatBoostBase._train\u001b[0;34m(self, train_pool, test_pool, params, allow_clear_pool, init_model)\u001b[0m\n\u001b[1;32m   1758\u001b[0m \u001b[39mdef\u001b[39;00m \u001b[39m_train\u001b[39m(\u001b[39mself\u001b[39m, train_pool, test_pool, params, allow_clear_pool, init_model):\n\u001b[0;32m-> 1759\u001b[0m     \u001b[39mself\u001b[39;49m\u001b[39m.\u001b[39;49m_object\u001b[39m.\u001b[39;49m_train(train_pool, test_pool, params, allow_clear_pool, init_model\u001b[39m.\u001b[39;49m_object \u001b[39mif\u001b[39;49;00m init_model \u001b[39melse\u001b[39;49;00m \u001b[39mNone\u001b[39;49;00m)\n\u001b[1;32m   1760\u001b[0m     \u001b[39mself\u001b[39m\u001b[39m.\u001b[39m_set_trained_model_attributes()\n",
      "File \u001b[0;32m_catboost.pyx:4623\u001b[0m, in \u001b[0;36m_catboost._CatBoost._train\u001b[0;34m()\u001b[0m\n",
      "File \u001b[0;32m_catboost.pyx:4672\u001b[0m, in \u001b[0;36m_catboost._CatBoost._train\u001b[0;34m()\u001b[0m\n",
      "\u001b[0;31mCatBoostError\u001b[0m: catboost/libs/metrics/metric.cpp:6381: Max target greater than 1: 4"
     ]
    }
   ],
   "source": [
    "train_with_weights = Pool(\n",
    "    data=X_train,\n",
    "    label=y_train,\n",
    "    group_weight=create_weights(queries_train),\n",
    "    group_id=queries_train\n",
    ")\n",
    "\n",
    "test_with_weights = Pool(\n",
    "    data=X_test,\n",
    "    label=y_test,\n",
    "    group_weight=create_weights(queries_test),\n",
    "    group_id=queries_test\n",
    ")\n",
    "\n",
    "fit_model(\n",
    "    'RMSE', \n",
    "    additional_params={'train_dir': 'RMSE_weigths'}, \n",
    "    train_pool=train_with_weights,\n",
    "    test_pool=test_with_weights\n",
    ")"
   ]
  },
  {
   "attachments": {},
   "cell_type": "markdown",
   "metadata": {},
   "source": [
    "[Продолжение](https://colab.research.google.com/github/catboost/tutorials/blob/master/ranking/ranking_tutorial.ipynb#scrollTo=YvxXfw9quWG-)"
   ]
  }
 ],
 "metadata": {
  "kernelspec": {
   "display_name": ".venv",
   "language": "python",
   "name": "python3"
  },
  "language_info": {
   "codemirror_mode": {
    "name": "ipython",
    "version": 3
   },
   "file_extension": ".py",
   "mimetype": "text/x-python",
   "name": "python",
   "nbconvert_exporter": "python",
   "pygments_lexer": "ipython3",
   "version": "3.8.10"
  },
  "orig_nbformat": 4
 },
 "nbformat": 4,
 "nbformat_minor": 2
}
