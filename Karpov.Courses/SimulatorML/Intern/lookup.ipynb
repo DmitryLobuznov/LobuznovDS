{
 "cells": [
  {
   "cell_type": "code",
   "execution_count": 2,
   "metadata": {},
   "outputs": [],
   "source": [
    "import numpy as np"
   ]
  },
  {
   "cell_type": "code",
   "execution_count": 9,
   "metadata": {},
   "outputs": [],
   "source": [
    "def ltv_error(y_true: np.ndarray, y_pred: np.ndarray) -> float:\n",
    "    \"\"\"Функция для вычисление ошибки спроса.\n",
    "    Хотим больше штрафовать за недопрогноз, чем за перепрогноз.\n",
    "    Параметры:\n",
    "    ----------\n",
    "    y_true: np.ndarray\n",
    "        Значения целевой переменной.\n",
    "    y_pred: np.ndarray\n",
    "        Прогноз значений целевой переменной.\n",
    "\n",
    "    Возвращаемое значение:\n",
    "    ----------------------\n",
    "    error: float\n",
    "        Значение метрики.\n",
    "    \"\"\"\n",
    "    # Case 1: QuantileLoss(gamma): gamma < 0.5 =>\n",
    "    gamma = 0.4\n",
    "    abs_error = np.abs(y_true - y_pred)\n",
    "    left, right = gamma * abs_error, (1 - gamma) * abs_error\n",
    "    error = np.where(y_true >= y_pred, left, right)\n",
    "    return np.mean(error)\n"
   ]
  },
  {
   "cell_type": "code",
   "execution_count": 23,
   "metadata": {},
   "outputs": [
    {
     "data": {
      "text/plain": [
       "0.5684701130033096"
      ]
     },
     "execution_count": 23,
     "metadata": {},
     "output_type": "execute_result"
    }
   ],
   "source": [
    "y_true = np.random.random(100)\n",
    "y_pred = np.random.random(100)\n",
    "ltv_error(y_true, y_pred)"
   ]
  }
 ],
 "metadata": {
  "kernelspec": {
   "display_name": ".venv",
   "language": "python",
   "name": "python3"
  },
  "language_info": {
   "codemirror_mode": {
    "name": "ipython",
    "version": 3
   },
   "file_extension": ".py",
   "mimetype": "text/x-python",
   "name": "python",
   "nbconvert_exporter": "python",
   "pygments_lexer": "ipython3",
   "version": "3.8.10"
  },
  "orig_nbformat": 4
 },
 "nbformat": 4,
 "nbformat_minor": 2
}
