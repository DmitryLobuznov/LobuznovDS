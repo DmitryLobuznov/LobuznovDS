{
 "cells": [
  {
   "cell_type": "markdown",
   "metadata": {},
   "source": [
    "## Бифуркационная диаграмма\n",
    "\n",
    "### Описание:\n",
    "* Построить бифуркационную диаграмму;\n",
    "* Построить для различных функций $f(x)$ и сравнить между собой."
   ]
  },
  {
   "cell_type": "code",
   "execution_count": null,
   "metadata": {},
   "outputs": [],
   "source": [
    "import numpy as np"
   ]
  }
 ],
 "metadata": {
  "kernelspec": {
   "display_name": "Python 3.8.1 64-bit",
   "language": "python",
   "name": "python38164bit6226304eaa3d46e8a373d733a3929764"
  }
 },
 "nbformat": 4,
 "nbformat_minor": 4
}
